{
 "metadata": {
  "language_info": {
   "codemirror_mode": {
    "name": "ipython",
    "version": 3
   },
   "file_extension": ".py",
   "mimetype": "text/x-python",
   "name": "python",
   "nbconvert_exporter": "python",
   "pygments_lexer": "ipython3",
   "version": "3.7.6-final"
  },
  "orig_nbformat": 2,
  "kernelspec": {
   "name": "python376jvsc74a57bd0289a995803b514da119a6d355cc551a48870dee0744cad707d4a215534d03245",
   "display_name": "Python 3.7.6 64-bit (conda)"
  }
 },
 "nbformat": 4,
 "nbformat_minor": 2,
 "cells": [
  {
   "source": [
    "### Take up a Mutual Fund company. Assess the market risks faced by component firms of any one fund using share price data of last 10 years.\n",
    "\n",
    "We'll be taking the HDFC Index Fund - Direct Plan - Sensex Plan as our fund and we'll be doing our analysis on this portfolio"
   ],
   "cell_type": "markdown",
   "metadata": {}
  },
  {
   "cell_type": "code",
   "execution_count": 1,
   "metadata": {},
   "outputs": [],
   "source": [
    "import pandas_datareader.data as web\n",
    "import pandas as pd \n",
    "import numpy as np \n",
    "from datetime import datetime\n",
    "import matplotlib.pyplot as plt\n",
    "import seaborn as sns\n",
    "plt.rcParams['font.family'] = 'Helvetica'\n",
    "plt.style.use('seaborn')\n",
    "S = pd.DataFrame()\n",
    "\n",
    "Tickers = ['RELIANCE.NS','HDFCBANK.NS', 'INFY.NS', 'HDFC.NS', 'ICICIBANK.NS', 'TCS.NS', 'KOTAKBANK.NS','HINDUNILVR.NS', 'ITC.NS', 'AXISBANK.NS', 'LT.NS', 'SBIN.NS', 'BAJFINANCE.NS', 'BHARTIARTL.NS', 'ASIANPAINT.NS', 'HCLTECH.NS', 'MARUTI.NS', 'ULTRACEMCO.NS', 'M&M.NS', 'SUNPHARMA.NS', 'TITAN.NS', 'NESTLEIND.NS', 'TECHM.NS', 'BAJAJFINSV.NS', 'POWERGRID.NS', 'DRREDDY.NS','INDUSINDBK.NS', 'NTPC.NS', 'BAJAJ-AUTO.NS', 'ONGC.NS']\n",
    "\n",
    "start = datetime(2000, 1, 1)\n",
    "end = datetime(2021, 4, 9)\n",
    "start1 = '2000-01-01'\n",
    "end1 = '2021-04-09'\n",
    "\n",
    "for t in Tickers:\n",
    "  S[t] = web.DataReader(t, 'yahoo', start, end)['Close']"
   ]
  },
  {
   "cell_type": "code",
   "execution_count": 2,
   "metadata": {},
   "outputs": [],
   "source": [
    "S = S.dropna()['2021':]"
   ]
  },
  {
   "cell_type": "code",
   "execution_count": 3,
   "metadata": {},
   "outputs": [
    {
     "output_type": "execute_result",
     "data": {
      "text/plain": [
       "            RELIANCE.NS  HDFCBANK.NS      INFY.NS      HDFC.NS  ICICIBANK.NS  \\\n",
       "Date                                                                           \n",
       "2021-04-05  1992.599976  1449.599976  1409.900024  2445.850098    571.250000   \n",
       "2021-04-06  1984.300049  1440.250000  1411.050049  2472.300049    565.900024   \n",
       "2021-04-07  2002.849976  1447.199951  1430.199951  2482.699951    577.650024   \n",
       "2021-04-08  2005.349976  1432.800049  1439.849976  2502.550049    576.700012   \n",
       "2021-04-09  1982.050049  1421.750000  1441.050049  2513.899902    566.200012   \n",
       "\n",
       "                 TCS.NS  KOTAKBANK.NS  HINDUNILVR.NS      ITC.NS  AXISBANK.NS  \\\n",
       "Date                                                                            \n",
       "2021-04-05  3238.899902   1759.199951    2373.199951  212.550003   685.250000   \n",
       "2021-04-06  3264.699951   1768.300049    2408.300049  212.649994   677.900024   \n",
       "2021-04-07  3271.399902   1792.000000    2405.250000  213.800003   688.250000   \n",
       "2021-04-08  3317.350098   1783.250000    2409.899902  213.250000   681.599976   \n",
       "2021-04-09  3322.250000   1799.250000    2476.000000  213.100006   668.200012   \n",
       "\n",
       "            ...     TITAN.NS  NESTLEIND.NS     TECHM.NS  BAJAJFINSV.NS  \\\n",
       "Date        ...                                                          \n",
       "2021-04-05  ...  1535.000000  16880.550781   997.700012    9481.650391   \n",
       "2021-04-06  ...  1525.500000  17081.699219   991.349976    9519.500000   \n",
       "2021-04-07  ...  1514.099976  17409.849609  1002.400024    9539.599609   \n",
       "2021-04-08  ...  1571.300049  17689.900391  1029.000000    9654.799805   \n",
       "2021-04-09  ...  1592.000000  17592.400391  1053.000000    9629.049805   \n",
       "\n",
       "            POWERGRID.NS   DRREDDY.NS  INDUSINDBK.NS     NTPC.NS  \\\n",
       "Date                                                               \n",
       "2021-04-05    214.149994  4556.600098     937.349976  106.300003   \n",
       "2021-04-06    209.199997  4619.250000     927.250000  106.050003   \n",
       "2021-04-07    210.550003  4692.649902     945.549988  105.449997   \n",
       "2021-04-08    209.000000  4689.049805     934.900024  105.000000   \n",
       "2021-04-09    208.300003  4760.299805     923.650024  102.800003   \n",
       "\n",
       "            BAJAJ-AUTO.NS     ONGC.NS  \n",
       "Date                                   \n",
       "2021-04-05    3598.500000  103.449997  \n",
       "2021-04-06    3615.500000  103.949997  \n",
       "2021-04-07    3680.199951  104.650002  \n",
       "2021-04-08    3649.800049  103.599998  \n",
       "2021-04-09    3651.300049  103.800003  \n",
       "\n",
       "[5 rows x 30 columns]"
      ],
      "text/html": "<div>\n<style scoped>\n    .dataframe tbody tr th:only-of-type {\n        vertical-align: middle;\n    }\n\n    .dataframe tbody tr th {\n        vertical-align: top;\n    }\n\n    .dataframe thead th {\n        text-align: right;\n    }\n</style>\n<table border=\"1\" class=\"dataframe\">\n  <thead>\n    <tr style=\"text-align: right;\">\n      <th></th>\n      <th>RELIANCE.NS</th>\n      <th>HDFCBANK.NS</th>\n      <th>INFY.NS</th>\n      <th>HDFC.NS</th>\n      <th>ICICIBANK.NS</th>\n      <th>TCS.NS</th>\n      <th>KOTAKBANK.NS</th>\n      <th>HINDUNILVR.NS</th>\n      <th>ITC.NS</th>\n      <th>AXISBANK.NS</th>\n      <th>...</th>\n      <th>TITAN.NS</th>\n      <th>NESTLEIND.NS</th>\n      <th>TECHM.NS</th>\n      <th>BAJAJFINSV.NS</th>\n      <th>POWERGRID.NS</th>\n      <th>DRREDDY.NS</th>\n      <th>INDUSINDBK.NS</th>\n      <th>NTPC.NS</th>\n      <th>BAJAJ-AUTO.NS</th>\n      <th>ONGC.NS</th>\n    </tr>\n    <tr>\n      <th>Date</th>\n      <th></th>\n      <th></th>\n      <th></th>\n      <th></th>\n      <th></th>\n      <th></th>\n      <th></th>\n      <th></th>\n      <th></th>\n      <th></th>\n      <th></th>\n      <th></th>\n      <th></th>\n      <th></th>\n      <th></th>\n      <th></th>\n      <th></th>\n      <th></th>\n      <th></th>\n      <th></th>\n      <th></th>\n    </tr>\n  </thead>\n  <tbody>\n    <tr>\n      <th>2021-04-05</th>\n      <td>1992.599976</td>\n      <td>1449.599976</td>\n      <td>1409.900024</td>\n      <td>2445.850098</td>\n      <td>571.250000</td>\n      <td>3238.899902</td>\n      <td>1759.199951</td>\n      <td>2373.199951</td>\n      <td>212.550003</td>\n      <td>685.250000</td>\n      <td>...</td>\n      <td>1535.000000</td>\n      <td>16880.550781</td>\n      <td>997.700012</td>\n      <td>9481.650391</td>\n      <td>214.149994</td>\n      <td>4556.600098</td>\n      <td>937.349976</td>\n      <td>106.300003</td>\n      <td>3598.500000</td>\n      <td>103.449997</td>\n    </tr>\n    <tr>\n      <th>2021-04-06</th>\n      <td>1984.300049</td>\n      <td>1440.250000</td>\n      <td>1411.050049</td>\n      <td>2472.300049</td>\n      <td>565.900024</td>\n      <td>3264.699951</td>\n      <td>1768.300049</td>\n      <td>2408.300049</td>\n      <td>212.649994</td>\n      <td>677.900024</td>\n      <td>...</td>\n      <td>1525.500000</td>\n      <td>17081.699219</td>\n      <td>991.349976</td>\n      <td>9519.500000</td>\n      <td>209.199997</td>\n      <td>4619.250000</td>\n      <td>927.250000</td>\n      <td>106.050003</td>\n      <td>3615.500000</td>\n      <td>103.949997</td>\n    </tr>\n    <tr>\n      <th>2021-04-07</th>\n      <td>2002.849976</td>\n      <td>1447.199951</td>\n      <td>1430.199951</td>\n      <td>2482.699951</td>\n      <td>577.650024</td>\n      <td>3271.399902</td>\n      <td>1792.000000</td>\n      <td>2405.250000</td>\n      <td>213.800003</td>\n      <td>688.250000</td>\n      <td>...</td>\n      <td>1514.099976</td>\n      <td>17409.849609</td>\n      <td>1002.400024</td>\n      <td>9539.599609</td>\n      <td>210.550003</td>\n      <td>4692.649902</td>\n      <td>945.549988</td>\n      <td>105.449997</td>\n      <td>3680.199951</td>\n      <td>104.650002</td>\n    </tr>\n    <tr>\n      <th>2021-04-08</th>\n      <td>2005.349976</td>\n      <td>1432.800049</td>\n      <td>1439.849976</td>\n      <td>2502.550049</td>\n      <td>576.700012</td>\n      <td>3317.350098</td>\n      <td>1783.250000</td>\n      <td>2409.899902</td>\n      <td>213.250000</td>\n      <td>681.599976</td>\n      <td>...</td>\n      <td>1571.300049</td>\n      <td>17689.900391</td>\n      <td>1029.000000</td>\n      <td>9654.799805</td>\n      <td>209.000000</td>\n      <td>4689.049805</td>\n      <td>934.900024</td>\n      <td>105.000000</td>\n      <td>3649.800049</td>\n      <td>103.599998</td>\n    </tr>\n    <tr>\n      <th>2021-04-09</th>\n      <td>1982.050049</td>\n      <td>1421.750000</td>\n      <td>1441.050049</td>\n      <td>2513.899902</td>\n      <td>566.200012</td>\n      <td>3322.250000</td>\n      <td>1799.250000</td>\n      <td>2476.000000</td>\n      <td>213.100006</td>\n      <td>668.200012</td>\n      <td>...</td>\n      <td>1592.000000</td>\n      <td>17592.400391</td>\n      <td>1053.000000</td>\n      <td>9629.049805</td>\n      <td>208.300003</td>\n      <td>4760.299805</td>\n      <td>923.650024</td>\n      <td>102.800003</td>\n      <td>3651.300049</td>\n      <td>103.800003</td>\n    </tr>\n  </tbody>\n</table>\n<p>5 rows × 30 columns</p>\n</div>"
     },
     "metadata": {},
     "execution_count": 3
    }
   ],
   "source": [
    "S.to_csv('HDFC_Portfolio_Prices.csv')\n",
    "S.tail()"
   ]
  },
  {
   "cell_type": "code",
   "execution_count": 4,
   "metadata": {},
   "outputs": [],
   "source": [
    "rets = S.pct_change()[1:]"
   ]
  },
  {
   "cell_type": "code",
   "execution_count": 5,
   "metadata": {},
   "outputs": [],
   "source": [
    "corr_mat = rets.corr()"
   ]
  },
  {
   "cell_type": "code",
   "execution_count": 6,
   "metadata": {},
   "outputs": [
    {
     "output_type": "execute_result",
     "data": {
      "text/plain": [
       "               RELIANCE.NS  HDFCBANK.NS   INFY.NS   HDFC.NS  ICICIBANK.NS  \\\n",
       "RELIANCE.NS       1.000000     0.386244  0.328056  0.438467      0.395063   \n",
       "HDFCBANK.NS       0.386244     1.000000  0.310093  0.744263      0.712650   \n",
       "INFY.NS           0.328056     0.310093  1.000000  0.463893      0.364837   \n",
       "HDFC.NS           0.438467     0.744263  0.463893  1.000000      0.758454   \n",
       "ICICIBANK.NS      0.395063     0.712650  0.364837  0.758454      1.000000   \n",
       "TCS.NS            0.374173     0.203244  0.712772  0.368840      0.166366   \n",
       "KOTAKBANK.NS      0.409800     0.648027  0.226970  0.675460      0.557468   \n",
       "HINDUNILVR.NS     0.209070     0.114139  0.399166  0.246190     -0.021292   \n",
       "ITC.NS            0.305120     0.290653  0.118159  0.336317      0.325450   \n",
       "AXISBANK.NS       0.392298     0.480249  0.279665  0.577220      0.751792   \n",
       "LT.NS             0.418453     0.609906  0.353282  0.666788      0.735036   \n",
       "SBIN.NS           0.363550     0.538910  0.181341  0.517255      0.648651   \n",
       "BAJFINANCE.NS     0.536075     0.559404  0.202434  0.681327      0.671824   \n",
       "BHARTIARTL.NS     0.268974     0.380959  0.258284  0.383859      0.393630   \n",
       "ASIANPAINT.NS     0.305356     0.286517  0.409116  0.452222      0.310521   \n",
       "HCLTECH.NS        0.424101     0.273417  0.827335  0.410098      0.233824   \n",
       "MARUTI.NS         0.341624     0.356478  0.561587  0.415147      0.310330   \n",
       "ULTRACEMCO.NS     0.438649     0.517241  0.340357  0.545398      0.572273   \n",
       "M&M.NS            0.355399     0.385061  0.479452  0.463669      0.541957   \n",
       "SUNPHARMA.NS      0.244187     0.341501  0.348781  0.392531      0.285320   \n",
       "TITAN.NS          0.236450     0.460596  0.357214  0.533770      0.500563   \n",
       "NESTLEIND.NS      0.306220     0.312348  0.499182  0.391963      0.322422   \n",
       "TECHM.NS          0.261046     0.185378  0.695496  0.306364      0.154807   \n",
       "BAJAJFINSV.NS     0.411242     0.461424  0.331355  0.688711      0.679586   \n",
       "POWERGRID.NS      0.350985     0.296409  0.273894  0.367951      0.259696   \n",
       "DRREDDY.NS        0.240038     0.029644  0.504761  0.259178     -0.020134   \n",
       "INDUSINDBK.NS     0.422344     0.515734  0.191992  0.612059      0.696702   \n",
       "NTPC.NS           0.444657     0.289157  0.446439  0.279926      0.290739   \n",
       "BAJAJ-AUTO.NS     0.138403     0.273820  0.264677  0.262728      0.212529   \n",
       "ONGC.NS           0.261348     0.249526  0.272721  0.298428      0.274489   \n",
       "\n",
       "                 TCS.NS  KOTAKBANK.NS  HINDUNILVR.NS    ITC.NS  AXISBANK.NS  \\\n",
       "RELIANCE.NS    0.374173      0.409800       0.209070  0.305120     0.392298   \n",
       "HDFCBANK.NS    0.203244      0.648027       0.114139  0.290653     0.480249   \n",
       "INFY.NS        0.712772      0.226970       0.399166  0.118159     0.279665   \n",
       "HDFC.NS        0.368840      0.675460       0.246190  0.336317     0.577220   \n",
       "ICICIBANK.NS   0.166366      0.557468      -0.021292  0.325450     0.751792   \n",
       "TCS.NS         1.000000      0.184443       0.518499  0.240439     0.140362   \n",
       "KOTAKBANK.NS   0.184443      1.000000       0.231398  0.375433     0.340070   \n",
       "HINDUNILVR.NS  0.518499      0.231398       1.000000  0.261225    -0.131231   \n",
       "ITC.NS         0.240439      0.375433       0.261225  1.000000     0.251540   \n",
       "AXISBANK.NS    0.140362      0.340070      -0.131231  0.251540     1.000000   \n",
       "LT.NS          0.340104      0.533087       0.025356  0.393754     0.547164   \n",
       "SBIN.NS        0.067438      0.566851      -0.050253  0.552157     0.565783   \n",
       "BAJFINANCE.NS  0.134346      0.651804       0.174911  0.473590     0.590134   \n",
       "BHARTIARTL.NS  0.285336      0.143927      -0.011117  0.256519     0.476302   \n",
       "ASIANPAINT.NS  0.343966      0.351816       0.316046  0.059119     0.275199   \n",
       "HCLTECH.NS     0.688050      0.265071       0.409430  0.164756     0.168976   \n",
       "MARUTI.NS      0.512587      0.407876       0.348621  0.367396     0.240018   \n",
       "ULTRACEMCO.NS  0.308933      0.631239       0.198182  0.405483     0.351885   \n",
       "M&M.NS         0.447749      0.399593       0.182651  0.552137     0.510840   \n",
       "SUNPHARMA.NS   0.412684      0.406017       0.396253  0.136931     0.264905   \n",
       "TITAN.NS       0.315400      0.324396       0.316162  0.231720     0.383619   \n",
       "NESTLEIND.NS   0.428651      0.345248       0.616449  0.187044     0.193981   \n",
       "TECHM.NS       0.593990      0.188920       0.361973  0.070315     0.181056   \n",
       "BAJAJFINSV.NS  0.318042      0.552634       0.252917  0.358216     0.542827   \n",
       "POWERGRID.NS   0.203480      0.361783       0.113587  0.232859     0.212070   \n",
       "DRREDDY.NS     0.501336      0.157022       0.424702  0.020448     0.096012   \n",
       "INDUSINDBK.NS  0.140667      0.416237      -0.014081  0.351266     0.586118   \n",
       "NTPC.NS        0.356086      0.266072       0.221614  0.392340     0.332985   \n",
       "BAJAJ-AUTO.NS  0.295217      0.247749       0.369027  0.251163     0.155423   \n",
       "ONGC.NS        0.172249      0.338626       0.017525  0.300024     0.323000   \n",
       "\n",
       "               ...  TITAN.NS  NESTLEIND.NS  TECHM.NS  BAJAJFINSV.NS  \\\n",
       "RELIANCE.NS    ...  0.236450      0.306220  0.261046       0.411242   \n",
       "HDFCBANK.NS    ...  0.460596      0.312348  0.185378       0.461424   \n",
       "INFY.NS        ...  0.357214      0.499182  0.695496       0.331355   \n",
       "HDFC.NS        ...  0.533770      0.391963  0.306364       0.688711   \n",
       "ICICIBANK.NS   ...  0.500563      0.322422  0.154807       0.679586   \n",
       "TCS.NS         ...  0.315400      0.428651  0.593990       0.318042   \n",
       "KOTAKBANK.NS   ...  0.324396      0.345248  0.188920       0.552634   \n",
       "HINDUNILVR.NS  ...  0.316162      0.616449  0.361973       0.252917   \n",
       "ITC.NS         ...  0.231720      0.187044  0.070315       0.358216   \n",
       "AXISBANK.NS    ...  0.383619      0.193981  0.181056       0.542827   \n",
       "LT.NS          ...  0.478684      0.350202  0.302589       0.659506   \n",
       "SBIN.NS        ...  0.247964      0.163817  0.092592       0.451011   \n",
       "BAJFINANCE.NS  ...  0.308620      0.293899  0.071438       0.744582   \n",
       "BHARTIARTL.NS  ...  0.228315      0.090804  0.166120       0.381794   \n",
       "ASIANPAINT.NS  ...  0.500841      0.426465  0.441365       0.342442   \n",
       "HCLTECH.NS     ...  0.269023      0.454151  0.727295       0.186628   \n",
       "MARUTI.NS      ...  0.344020      0.479332  0.528359       0.351135   \n",
       "ULTRACEMCO.NS  ...  0.468111      0.410264  0.289671       0.455327   \n",
       "M&M.NS         ...  0.383055      0.274966  0.432803       0.499223   \n",
       "SUNPHARMA.NS   ...  0.268556      0.342062  0.389832       0.339934   \n",
       "TITAN.NS       ...  1.000000      0.469422  0.286031       0.493254   \n",
       "NESTLEIND.NS   ...  0.469422      1.000000  0.451075       0.294613   \n",
       "TECHM.NS       ...  0.286031      0.451075  1.000000       0.176870   \n",
       "BAJAJFINSV.NS  ...  0.493254      0.294613  0.176870       1.000000   \n",
       "POWERGRID.NS   ...  0.195631      0.117312  0.382122       0.288478   \n",
       "DRREDDY.NS     ...  0.204694      0.382733  0.397570       0.147180   \n",
       "INDUSINDBK.NS  ...  0.376833      0.126713  0.081874       0.558623   \n",
       "NTPC.NS        ...  0.279127      0.254083  0.381693       0.344693   \n",
       "BAJAJ-AUTO.NS  ...  0.231824      0.237436  0.184529       0.371638   \n",
       "ONGC.NS        ...  0.169957      0.049326  0.332390       0.288622   \n",
       "\n",
       "               POWERGRID.NS  DRREDDY.NS  INDUSINDBK.NS   NTPC.NS  \\\n",
       "RELIANCE.NS        0.350985    0.240038       0.422344  0.444657   \n",
       "HDFCBANK.NS        0.296409    0.029644       0.515734  0.289157   \n",
       "INFY.NS            0.273894    0.504761       0.191992  0.446439   \n",
       "HDFC.NS            0.367951    0.259178       0.612059  0.279926   \n",
       "ICICIBANK.NS       0.259696   -0.020134       0.696702  0.290739   \n",
       "TCS.NS             0.203480    0.501336       0.140667  0.356086   \n",
       "KOTAKBANK.NS       0.361783    0.157022       0.416237  0.266072   \n",
       "HINDUNILVR.NS      0.113587    0.424702      -0.014081  0.221614   \n",
       "ITC.NS             0.232859    0.020448       0.351266  0.392340   \n",
       "AXISBANK.NS        0.212070    0.096012       0.586118  0.332985   \n",
       "LT.NS              0.389876    0.098319       0.571354  0.432926   \n",
       "SBIN.NS            0.338396    0.124805       0.554848  0.470457   \n",
       "BAJFINANCE.NS      0.301964    0.130178       0.543960  0.322623   \n",
       "BHARTIARTL.NS      0.244300    0.113636       0.393532  0.293741   \n",
       "ASIANPAINT.NS      0.282967    0.353980       0.234155  0.294749   \n",
       "HCLTECH.NS         0.336801    0.420078       0.175188  0.428624   \n",
       "MARUTI.NS          0.345342    0.312726       0.180722  0.398198   \n",
       "ULTRACEMCO.NS      0.387327    0.177270       0.388566  0.375334   \n",
       "M&M.NS             0.366117    0.221541       0.455403  0.485708   \n",
       "SUNPHARMA.NS       0.363362    0.463263       0.344483  0.396540   \n",
       "TITAN.NS           0.195631    0.204694       0.376833  0.279127   \n",
       "NESTLEIND.NS       0.117312    0.382733       0.126713  0.254083   \n",
       "TECHM.NS           0.382122    0.397570       0.081874  0.381693   \n",
       "BAJAJFINSV.NS      0.288478    0.147180       0.558623  0.344693   \n",
       "POWERGRID.NS       1.000000    0.295577       0.414906  0.574493   \n",
       "DRREDDY.NS         0.295577    1.000000       0.046994  0.356448   \n",
       "INDUSINDBK.NS      0.414906    0.046994       1.000000  0.390739   \n",
       "NTPC.NS            0.574493    0.356448       0.390739  1.000000   \n",
       "BAJAJ-AUTO.NS      0.191664    0.181106       0.080236  0.178765   \n",
       "ONGC.NS            0.566457    0.220589       0.265684  0.557921   \n",
       "\n",
       "               BAJAJ-AUTO.NS   ONGC.NS  \n",
       "RELIANCE.NS         0.138403  0.261348  \n",
       "HDFCBANK.NS         0.273820  0.249526  \n",
       "INFY.NS             0.264677  0.272721  \n",
       "HDFC.NS             0.262728  0.298428  \n",
       "ICICIBANK.NS        0.212529  0.274489  \n",
       "TCS.NS              0.295217  0.172249  \n",
       "KOTAKBANK.NS        0.247749  0.338626  \n",
       "HINDUNILVR.NS       0.369027  0.017525  \n",
       "ITC.NS              0.251163  0.300024  \n",
       "AXISBANK.NS         0.155423  0.323000  \n",
       "LT.NS               0.337846  0.429698  \n",
       "SBIN.NS             0.168830  0.437261  \n",
       "BAJFINANCE.NS       0.331284  0.247934  \n",
       "BHARTIARTL.NS       0.299850  0.243917  \n",
       "ASIANPAINT.NS       0.090775  0.379413  \n",
       "HCLTECH.NS          0.216864  0.303411  \n",
       "MARUTI.NS           0.483447  0.394366  \n",
       "ULTRACEMCO.NS       0.373846  0.399415  \n",
       "M&M.NS              0.422825  0.408779  \n",
       "SUNPHARMA.NS        0.282291  0.352705  \n",
       "TITAN.NS            0.231824  0.169957  \n",
       "NESTLEIND.NS        0.237436  0.049326  \n",
       "TECHM.NS            0.184529  0.332390  \n",
       "BAJAJFINSV.NS       0.371638  0.288622  \n",
       "POWERGRID.NS        0.191664  0.566457  \n",
       "DRREDDY.NS          0.181106  0.220589  \n",
       "INDUSINDBK.NS       0.080236  0.265684  \n",
       "NTPC.NS             0.178765  0.557921  \n",
       "BAJAJ-AUTO.NS       1.000000  0.131973  \n",
       "ONGC.NS             0.131973  1.000000  \n",
       "\n",
       "[30 rows x 30 columns]"
      ],
      "text/html": "<div>\n<style scoped>\n    .dataframe tbody tr th:only-of-type {\n        vertical-align: middle;\n    }\n\n    .dataframe tbody tr th {\n        vertical-align: top;\n    }\n\n    .dataframe thead th {\n        text-align: right;\n    }\n</style>\n<table border=\"1\" class=\"dataframe\">\n  <thead>\n    <tr style=\"text-align: right;\">\n      <th></th>\n      <th>RELIANCE.NS</th>\n      <th>HDFCBANK.NS</th>\n      <th>INFY.NS</th>\n      <th>HDFC.NS</th>\n      <th>ICICIBANK.NS</th>\n      <th>TCS.NS</th>\n      <th>KOTAKBANK.NS</th>\n      <th>HINDUNILVR.NS</th>\n      <th>ITC.NS</th>\n      <th>AXISBANK.NS</th>\n      <th>...</th>\n      <th>TITAN.NS</th>\n      <th>NESTLEIND.NS</th>\n      <th>TECHM.NS</th>\n      <th>BAJAJFINSV.NS</th>\n      <th>POWERGRID.NS</th>\n      <th>DRREDDY.NS</th>\n      <th>INDUSINDBK.NS</th>\n      <th>NTPC.NS</th>\n      <th>BAJAJ-AUTO.NS</th>\n      <th>ONGC.NS</th>\n    </tr>\n  </thead>\n  <tbody>\n    <tr>\n      <th>RELIANCE.NS</th>\n      <td>1.000000</td>\n      <td>0.386244</td>\n      <td>0.328056</td>\n      <td>0.438467</td>\n      <td>0.395063</td>\n      <td>0.374173</td>\n      <td>0.409800</td>\n      <td>0.209070</td>\n      <td>0.305120</td>\n      <td>0.392298</td>\n      <td>...</td>\n      <td>0.236450</td>\n      <td>0.306220</td>\n      <td>0.261046</td>\n      <td>0.411242</td>\n      <td>0.350985</td>\n      <td>0.240038</td>\n      <td>0.422344</td>\n      <td>0.444657</td>\n      <td>0.138403</td>\n      <td>0.261348</td>\n    </tr>\n    <tr>\n      <th>HDFCBANK.NS</th>\n      <td>0.386244</td>\n      <td>1.000000</td>\n      <td>0.310093</td>\n      <td>0.744263</td>\n      <td>0.712650</td>\n      <td>0.203244</td>\n      <td>0.648027</td>\n      <td>0.114139</td>\n      <td>0.290653</td>\n      <td>0.480249</td>\n      <td>...</td>\n      <td>0.460596</td>\n      <td>0.312348</td>\n      <td>0.185378</td>\n      <td>0.461424</td>\n      <td>0.296409</td>\n      <td>0.029644</td>\n      <td>0.515734</td>\n      <td>0.289157</td>\n      <td>0.273820</td>\n      <td>0.249526</td>\n    </tr>\n    <tr>\n      <th>INFY.NS</th>\n      <td>0.328056</td>\n      <td>0.310093</td>\n      <td>1.000000</td>\n      <td>0.463893</td>\n      <td>0.364837</td>\n      <td>0.712772</td>\n      <td>0.226970</td>\n      <td>0.399166</td>\n      <td>0.118159</td>\n      <td>0.279665</td>\n      <td>...</td>\n      <td>0.357214</td>\n      <td>0.499182</td>\n      <td>0.695496</td>\n      <td>0.331355</td>\n      <td>0.273894</td>\n      <td>0.504761</td>\n      <td>0.191992</td>\n      <td>0.446439</td>\n      <td>0.264677</td>\n      <td>0.272721</td>\n    </tr>\n    <tr>\n      <th>HDFC.NS</th>\n      <td>0.438467</td>\n      <td>0.744263</td>\n      <td>0.463893</td>\n      <td>1.000000</td>\n      <td>0.758454</td>\n      <td>0.368840</td>\n      <td>0.675460</td>\n      <td>0.246190</td>\n      <td>0.336317</td>\n      <td>0.577220</td>\n      <td>...</td>\n      <td>0.533770</td>\n      <td>0.391963</td>\n      <td>0.306364</td>\n      <td>0.688711</td>\n      <td>0.367951</td>\n      <td>0.259178</td>\n      <td>0.612059</td>\n      <td>0.279926</td>\n      <td>0.262728</td>\n      <td>0.298428</td>\n    </tr>\n    <tr>\n      <th>ICICIBANK.NS</th>\n      <td>0.395063</td>\n      <td>0.712650</td>\n      <td>0.364837</td>\n      <td>0.758454</td>\n      <td>1.000000</td>\n      <td>0.166366</td>\n      <td>0.557468</td>\n      <td>-0.021292</td>\n      <td>0.325450</td>\n      <td>0.751792</td>\n      <td>...</td>\n      <td>0.500563</td>\n      <td>0.322422</td>\n      <td>0.154807</td>\n      <td>0.679586</td>\n      <td>0.259696</td>\n      <td>-0.020134</td>\n      <td>0.696702</td>\n      <td>0.290739</td>\n      <td>0.212529</td>\n      <td>0.274489</td>\n    </tr>\n    <tr>\n      <th>TCS.NS</th>\n      <td>0.374173</td>\n      <td>0.203244</td>\n      <td>0.712772</td>\n      <td>0.368840</td>\n      <td>0.166366</td>\n      <td>1.000000</td>\n      <td>0.184443</td>\n      <td>0.518499</td>\n      <td>0.240439</td>\n      <td>0.140362</td>\n      <td>...</td>\n      <td>0.315400</td>\n      <td>0.428651</td>\n      <td>0.593990</td>\n      <td>0.318042</td>\n      <td>0.203480</td>\n      <td>0.501336</td>\n      <td>0.140667</td>\n      <td>0.356086</td>\n      <td>0.295217</td>\n      <td>0.172249</td>\n    </tr>\n    <tr>\n      <th>KOTAKBANK.NS</th>\n      <td>0.409800</td>\n      <td>0.648027</td>\n      <td>0.226970</td>\n      <td>0.675460</td>\n      <td>0.557468</td>\n      <td>0.184443</td>\n      <td>1.000000</td>\n      <td>0.231398</td>\n      <td>0.375433</td>\n      <td>0.340070</td>\n      <td>...</td>\n      <td>0.324396</td>\n      <td>0.345248</td>\n      <td>0.188920</td>\n      <td>0.552634</td>\n      <td>0.361783</td>\n      <td>0.157022</td>\n      <td>0.416237</td>\n      <td>0.266072</td>\n      <td>0.247749</td>\n      <td>0.338626</td>\n    </tr>\n    <tr>\n      <th>HINDUNILVR.NS</th>\n      <td>0.209070</td>\n      <td>0.114139</td>\n      <td>0.399166</td>\n      <td>0.246190</td>\n      <td>-0.021292</td>\n      <td>0.518499</td>\n      <td>0.231398</td>\n      <td>1.000000</td>\n      <td>0.261225</td>\n      <td>-0.131231</td>\n      <td>...</td>\n      <td>0.316162</td>\n      <td>0.616449</td>\n      <td>0.361973</td>\n      <td>0.252917</td>\n      <td>0.113587</td>\n      <td>0.424702</td>\n      <td>-0.014081</td>\n      <td>0.221614</td>\n      <td>0.369027</td>\n      <td>0.017525</td>\n    </tr>\n    <tr>\n      <th>ITC.NS</th>\n      <td>0.305120</td>\n      <td>0.290653</td>\n      <td>0.118159</td>\n      <td>0.336317</td>\n      <td>0.325450</td>\n      <td>0.240439</td>\n      <td>0.375433</td>\n      <td>0.261225</td>\n      <td>1.000000</td>\n      <td>0.251540</td>\n      <td>...</td>\n      <td>0.231720</td>\n      <td>0.187044</td>\n      <td>0.070315</td>\n      <td>0.358216</td>\n      <td>0.232859</td>\n      <td>0.020448</td>\n      <td>0.351266</td>\n      <td>0.392340</td>\n      <td>0.251163</td>\n      <td>0.300024</td>\n    </tr>\n    <tr>\n      <th>AXISBANK.NS</th>\n      <td>0.392298</td>\n      <td>0.480249</td>\n      <td>0.279665</td>\n      <td>0.577220</td>\n      <td>0.751792</td>\n      <td>0.140362</td>\n      <td>0.340070</td>\n      <td>-0.131231</td>\n      <td>0.251540</td>\n      <td>1.000000</td>\n      <td>...</td>\n      <td>0.383619</td>\n      <td>0.193981</td>\n      <td>0.181056</td>\n      <td>0.542827</td>\n      <td>0.212070</td>\n      <td>0.096012</td>\n      <td>0.586118</td>\n      <td>0.332985</td>\n      <td>0.155423</td>\n      <td>0.323000</td>\n    </tr>\n    <tr>\n      <th>LT.NS</th>\n      <td>0.418453</td>\n      <td>0.609906</td>\n      <td>0.353282</td>\n      <td>0.666788</td>\n      <td>0.735036</td>\n      <td>0.340104</td>\n      <td>0.533087</td>\n      <td>0.025356</td>\n      <td>0.393754</td>\n      <td>0.547164</td>\n      <td>...</td>\n      <td>0.478684</td>\n      <td>0.350202</td>\n      <td>0.302589</td>\n      <td>0.659506</td>\n      <td>0.389876</td>\n      <td>0.098319</td>\n      <td>0.571354</td>\n      <td>0.432926</td>\n      <td>0.337846</td>\n      <td>0.429698</td>\n    </tr>\n    <tr>\n      <th>SBIN.NS</th>\n      <td>0.363550</td>\n      <td>0.538910</td>\n      <td>0.181341</td>\n      <td>0.517255</td>\n      <td>0.648651</td>\n      <td>0.067438</td>\n      <td>0.566851</td>\n      <td>-0.050253</td>\n      <td>0.552157</td>\n      <td>0.565783</td>\n      <td>...</td>\n      <td>0.247964</td>\n      <td>0.163817</td>\n      <td>0.092592</td>\n      <td>0.451011</td>\n      <td>0.338396</td>\n      <td>0.124805</td>\n      <td>0.554848</td>\n      <td>0.470457</td>\n      <td>0.168830</td>\n      <td>0.437261</td>\n    </tr>\n    <tr>\n      <th>BAJFINANCE.NS</th>\n      <td>0.536075</td>\n      <td>0.559404</td>\n      <td>0.202434</td>\n      <td>0.681327</td>\n      <td>0.671824</td>\n      <td>0.134346</td>\n      <td>0.651804</td>\n      <td>0.174911</td>\n      <td>0.473590</td>\n      <td>0.590134</td>\n      <td>...</td>\n      <td>0.308620</td>\n      <td>0.293899</td>\n      <td>0.071438</td>\n      <td>0.744582</td>\n      <td>0.301964</td>\n      <td>0.130178</td>\n      <td>0.543960</td>\n      <td>0.322623</td>\n      <td>0.331284</td>\n      <td>0.247934</td>\n    </tr>\n    <tr>\n      <th>BHARTIARTL.NS</th>\n      <td>0.268974</td>\n      <td>0.380959</td>\n      <td>0.258284</td>\n      <td>0.383859</td>\n      <td>0.393630</td>\n      <td>0.285336</td>\n      <td>0.143927</td>\n      <td>-0.011117</td>\n      <td>0.256519</td>\n      <td>0.476302</td>\n      <td>...</td>\n      <td>0.228315</td>\n      <td>0.090804</td>\n      <td>0.166120</td>\n      <td>0.381794</td>\n      <td>0.244300</td>\n      <td>0.113636</td>\n      <td>0.393532</td>\n      <td>0.293741</td>\n      <td>0.299850</td>\n      <td>0.243917</td>\n    </tr>\n    <tr>\n      <th>ASIANPAINT.NS</th>\n      <td>0.305356</td>\n      <td>0.286517</td>\n      <td>0.409116</td>\n      <td>0.452222</td>\n      <td>0.310521</td>\n      <td>0.343966</td>\n      <td>0.351816</td>\n      <td>0.316046</td>\n      <td>0.059119</td>\n      <td>0.275199</td>\n      <td>...</td>\n      <td>0.500841</td>\n      <td>0.426465</td>\n      <td>0.441365</td>\n      <td>0.342442</td>\n      <td>0.282967</td>\n      <td>0.353980</td>\n      <td>0.234155</td>\n      <td>0.294749</td>\n      <td>0.090775</td>\n      <td>0.379413</td>\n    </tr>\n    <tr>\n      <th>HCLTECH.NS</th>\n      <td>0.424101</td>\n      <td>0.273417</td>\n      <td>0.827335</td>\n      <td>0.410098</td>\n      <td>0.233824</td>\n      <td>0.688050</td>\n      <td>0.265071</td>\n      <td>0.409430</td>\n      <td>0.164756</td>\n      <td>0.168976</td>\n      <td>...</td>\n      <td>0.269023</td>\n      <td>0.454151</td>\n      <td>0.727295</td>\n      <td>0.186628</td>\n      <td>0.336801</td>\n      <td>0.420078</td>\n      <td>0.175188</td>\n      <td>0.428624</td>\n      <td>0.216864</td>\n      <td>0.303411</td>\n    </tr>\n    <tr>\n      <th>MARUTI.NS</th>\n      <td>0.341624</td>\n      <td>0.356478</td>\n      <td>0.561587</td>\n      <td>0.415147</td>\n      <td>0.310330</td>\n      <td>0.512587</td>\n      <td>0.407876</td>\n      <td>0.348621</td>\n      <td>0.367396</td>\n      <td>0.240018</td>\n      <td>...</td>\n      <td>0.344020</td>\n      <td>0.479332</td>\n      <td>0.528359</td>\n      <td>0.351135</td>\n      <td>0.345342</td>\n      <td>0.312726</td>\n      <td>0.180722</td>\n      <td>0.398198</td>\n      <td>0.483447</td>\n      <td>0.394366</td>\n    </tr>\n    <tr>\n      <th>ULTRACEMCO.NS</th>\n      <td>0.438649</td>\n      <td>0.517241</td>\n      <td>0.340357</td>\n      <td>0.545398</td>\n      <td>0.572273</td>\n      <td>0.308933</td>\n      <td>0.631239</td>\n      <td>0.198182</td>\n      <td>0.405483</td>\n      <td>0.351885</td>\n      <td>...</td>\n      <td>0.468111</td>\n      <td>0.410264</td>\n      <td>0.289671</td>\n      <td>0.455327</td>\n      <td>0.387327</td>\n      <td>0.177270</td>\n      <td>0.388566</td>\n      <td>0.375334</td>\n      <td>0.373846</td>\n      <td>0.399415</td>\n    </tr>\n    <tr>\n      <th>M&amp;M.NS</th>\n      <td>0.355399</td>\n      <td>0.385061</td>\n      <td>0.479452</td>\n      <td>0.463669</td>\n      <td>0.541957</td>\n      <td>0.447749</td>\n      <td>0.399593</td>\n      <td>0.182651</td>\n      <td>0.552137</td>\n      <td>0.510840</td>\n      <td>...</td>\n      <td>0.383055</td>\n      <td>0.274966</td>\n      <td>0.432803</td>\n      <td>0.499223</td>\n      <td>0.366117</td>\n      <td>0.221541</td>\n      <td>0.455403</td>\n      <td>0.485708</td>\n      <td>0.422825</td>\n      <td>0.408779</td>\n    </tr>\n    <tr>\n      <th>SUNPHARMA.NS</th>\n      <td>0.244187</td>\n      <td>0.341501</td>\n      <td>0.348781</td>\n      <td>0.392531</td>\n      <td>0.285320</td>\n      <td>0.412684</td>\n      <td>0.406017</td>\n      <td>0.396253</td>\n      <td>0.136931</td>\n      <td>0.264905</td>\n      <td>...</td>\n      <td>0.268556</td>\n      <td>0.342062</td>\n      <td>0.389832</td>\n      <td>0.339934</td>\n      <td>0.363362</td>\n      <td>0.463263</td>\n      <td>0.344483</td>\n      <td>0.396540</td>\n      <td>0.282291</td>\n      <td>0.352705</td>\n    </tr>\n    <tr>\n      <th>TITAN.NS</th>\n      <td>0.236450</td>\n      <td>0.460596</td>\n      <td>0.357214</td>\n      <td>0.533770</td>\n      <td>0.500563</td>\n      <td>0.315400</td>\n      <td>0.324396</td>\n      <td>0.316162</td>\n      <td>0.231720</td>\n      <td>0.383619</td>\n      <td>...</td>\n      <td>1.000000</td>\n      <td>0.469422</td>\n      <td>0.286031</td>\n      <td>0.493254</td>\n      <td>0.195631</td>\n      <td>0.204694</td>\n      <td>0.376833</td>\n      <td>0.279127</td>\n      <td>0.231824</td>\n      <td>0.169957</td>\n    </tr>\n    <tr>\n      <th>NESTLEIND.NS</th>\n      <td>0.306220</td>\n      <td>0.312348</td>\n      <td>0.499182</td>\n      <td>0.391963</td>\n      <td>0.322422</td>\n      <td>0.428651</td>\n      <td>0.345248</td>\n      <td>0.616449</td>\n      <td>0.187044</td>\n      <td>0.193981</td>\n      <td>...</td>\n      <td>0.469422</td>\n      <td>1.000000</td>\n      <td>0.451075</td>\n      <td>0.294613</td>\n      <td>0.117312</td>\n      <td>0.382733</td>\n      <td>0.126713</td>\n      <td>0.254083</td>\n      <td>0.237436</td>\n      <td>0.049326</td>\n    </tr>\n    <tr>\n      <th>TECHM.NS</th>\n      <td>0.261046</td>\n      <td>0.185378</td>\n      <td>0.695496</td>\n      <td>0.306364</td>\n      <td>0.154807</td>\n      <td>0.593990</td>\n      <td>0.188920</td>\n      <td>0.361973</td>\n      <td>0.070315</td>\n      <td>0.181056</td>\n      <td>...</td>\n      <td>0.286031</td>\n      <td>0.451075</td>\n      <td>1.000000</td>\n      <td>0.176870</td>\n      <td>0.382122</td>\n      <td>0.397570</td>\n      <td>0.081874</td>\n      <td>0.381693</td>\n      <td>0.184529</td>\n      <td>0.332390</td>\n    </tr>\n    <tr>\n      <th>BAJAJFINSV.NS</th>\n      <td>0.411242</td>\n      <td>0.461424</td>\n      <td>0.331355</td>\n      <td>0.688711</td>\n      <td>0.679586</td>\n      <td>0.318042</td>\n      <td>0.552634</td>\n      <td>0.252917</td>\n      <td>0.358216</td>\n      <td>0.542827</td>\n      <td>...</td>\n      <td>0.493254</td>\n      <td>0.294613</td>\n      <td>0.176870</td>\n      <td>1.000000</td>\n      <td>0.288478</td>\n      <td>0.147180</td>\n      <td>0.558623</td>\n      <td>0.344693</td>\n      <td>0.371638</td>\n      <td>0.288622</td>\n    </tr>\n    <tr>\n      <th>POWERGRID.NS</th>\n      <td>0.350985</td>\n      <td>0.296409</td>\n      <td>0.273894</td>\n      <td>0.367951</td>\n      <td>0.259696</td>\n      <td>0.203480</td>\n      <td>0.361783</td>\n      <td>0.113587</td>\n      <td>0.232859</td>\n      <td>0.212070</td>\n      <td>...</td>\n      <td>0.195631</td>\n      <td>0.117312</td>\n      <td>0.382122</td>\n      <td>0.288478</td>\n      <td>1.000000</td>\n      <td>0.295577</td>\n      <td>0.414906</td>\n      <td>0.574493</td>\n      <td>0.191664</td>\n      <td>0.566457</td>\n    </tr>\n    <tr>\n      <th>DRREDDY.NS</th>\n      <td>0.240038</td>\n      <td>0.029644</td>\n      <td>0.504761</td>\n      <td>0.259178</td>\n      <td>-0.020134</td>\n      <td>0.501336</td>\n      <td>0.157022</td>\n      <td>0.424702</td>\n      <td>0.020448</td>\n      <td>0.096012</td>\n      <td>...</td>\n      <td>0.204694</td>\n      <td>0.382733</td>\n      <td>0.397570</td>\n      <td>0.147180</td>\n      <td>0.295577</td>\n      <td>1.000000</td>\n      <td>0.046994</td>\n      <td>0.356448</td>\n      <td>0.181106</td>\n      <td>0.220589</td>\n    </tr>\n    <tr>\n      <th>INDUSINDBK.NS</th>\n      <td>0.422344</td>\n      <td>0.515734</td>\n      <td>0.191992</td>\n      <td>0.612059</td>\n      <td>0.696702</td>\n      <td>0.140667</td>\n      <td>0.416237</td>\n      <td>-0.014081</td>\n      <td>0.351266</td>\n      <td>0.586118</td>\n      <td>...</td>\n      <td>0.376833</td>\n      <td>0.126713</td>\n      <td>0.081874</td>\n      <td>0.558623</td>\n      <td>0.414906</td>\n      <td>0.046994</td>\n      <td>1.000000</td>\n      <td>0.390739</td>\n      <td>0.080236</td>\n      <td>0.265684</td>\n    </tr>\n    <tr>\n      <th>NTPC.NS</th>\n      <td>0.444657</td>\n      <td>0.289157</td>\n      <td>0.446439</td>\n      <td>0.279926</td>\n      <td>0.290739</td>\n      <td>0.356086</td>\n      <td>0.266072</td>\n      <td>0.221614</td>\n      <td>0.392340</td>\n      <td>0.332985</td>\n      <td>...</td>\n      <td>0.279127</td>\n      <td>0.254083</td>\n      <td>0.381693</td>\n      <td>0.344693</td>\n      <td>0.574493</td>\n      <td>0.356448</td>\n      <td>0.390739</td>\n      <td>1.000000</td>\n      <td>0.178765</td>\n      <td>0.557921</td>\n    </tr>\n    <tr>\n      <th>BAJAJ-AUTO.NS</th>\n      <td>0.138403</td>\n      <td>0.273820</td>\n      <td>0.264677</td>\n      <td>0.262728</td>\n      <td>0.212529</td>\n      <td>0.295217</td>\n      <td>0.247749</td>\n      <td>0.369027</td>\n      <td>0.251163</td>\n      <td>0.155423</td>\n      <td>...</td>\n      <td>0.231824</td>\n      <td>0.237436</td>\n      <td>0.184529</td>\n      <td>0.371638</td>\n      <td>0.191664</td>\n      <td>0.181106</td>\n      <td>0.080236</td>\n      <td>0.178765</td>\n      <td>1.000000</td>\n      <td>0.131973</td>\n    </tr>\n    <tr>\n      <th>ONGC.NS</th>\n      <td>0.261348</td>\n      <td>0.249526</td>\n      <td>0.272721</td>\n      <td>0.298428</td>\n      <td>0.274489</td>\n      <td>0.172249</td>\n      <td>0.338626</td>\n      <td>0.017525</td>\n      <td>0.300024</td>\n      <td>0.323000</td>\n      <td>...</td>\n      <td>0.169957</td>\n      <td>0.049326</td>\n      <td>0.332390</td>\n      <td>0.288622</td>\n      <td>0.566457</td>\n      <td>0.220589</td>\n      <td>0.265684</td>\n      <td>0.557921</td>\n      <td>0.131973</td>\n      <td>1.000000</td>\n    </tr>\n  </tbody>\n</table>\n<p>30 rows × 30 columns</p>\n</div>"
     },
     "metadata": {},
     "execution_count": 6
    }
   ],
   "source": [
    "corr_mat"
   ]
  },
  {
   "source": [
    "# weight vector\n",
    "W = np.array([12.75, 11.82, 8.08, 8.65, 7.80, 5.76, 4.41, 3.61, 3.60, 3.37, 3.30, 2.83, 2.63, 2.53, 1.95, 1.87, 1.73, 1.46, 1.34, 1.22, 1.14, 1.11, 1.10, 1.09, 1.08, 1.04, 1.02, 0.98, 0.94, 0.77]) / 100"
   ],
   "cell_type": "code",
   "metadata": {},
   "execution_count": 7,
   "outputs": []
  },
  {
   "cell_type": "code",
   "execution_count": 8,
   "metadata": {},
   "outputs": [],
   "source": [
    "# weight vector\n",
    "W = np.array([12.01, 11.29, 9.29, 8.35, 7.45, 6.10, 4.25, 4.02, 3.54, 3.41, 3.18, 2.59, 2.53, 2.30, 2.12, 1.98, 1.69, 1.44, 1.41, 1.20, 1.20, 1.14, 1.14, 1.08, 1.03, 1.02, 1.00, 0.94, 0.89, 0.69]) / 100"
   ]
  },
  {
   "cell_type": "code",
   "execution_count": 9,
   "metadata": {},
   "outputs": [
    {
     "output_type": "execute_result",
     "data": {
      "text/plain": [
       "array([0.1201, 0.1129, 0.0929, 0.0835, 0.0745, 0.061 , 0.0425, 0.0402,\n",
       "       0.0354, 0.0341, 0.0318, 0.0259, 0.0253, 0.023 , 0.0212, 0.0198,\n",
       "       0.0169, 0.0144, 0.0141, 0.012 , 0.012 , 0.0114, 0.0114, 0.0108,\n",
       "       0.0103, 0.0102, 0.01  , 0.0094, 0.0089, 0.0069])"
      ]
     },
     "metadata": {},
     "execution_count": 9
    }
   ],
   "source": [
    "W"
   ]
  },
  {
   "cell_type": "code",
   "execution_count": 10,
   "metadata": {},
   "outputs": [],
   "source": [
    "rets_ewma_cov = rets.copy().ewm(halflife = 13).cov()"
   ]
  },
  {
   "cell_type": "code",
   "execution_count": 11,
   "metadata": {},
   "outputs": [
    {
     "output_type": "execute_result",
     "data": {
      "text/plain": [
       "                          RELIANCE.NS  HDFCBANK.NS   INFY.NS   HDFC.NS  \\\n",
       "Date                                                                     \n",
       "2021-01-04 RELIANCE.NS            NaN          NaN       NaN       NaN   \n",
       "           HDFCBANK.NS            NaN          NaN       NaN       NaN   \n",
       "           INFY.NS                NaN          NaN       NaN       NaN   \n",
       "           HDFC.NS                NaN          NaN       NaN       NaN   \n",
       "           ICICIBANK.NS           NaN          NaN       NaN       NaN   \n",
       "...                               ...          ...       ...       ...   \n",
       "2021-04-09 DRREDDY.NS        0.000110     0.000045  0.000124  0.000111   \n",
       "           INDUSINDBK.NS     0.000242     0.000264  0.000069  0.000296   \n",
       "           NTPC.NS           0.000211     0.000140  0.000152  0.000127   \n",
       "           BAJAJ-AUTO.NS     0.000114     0.000165  0.000051  0.000176   \n",
       "           ONGC.NS           0.000155     0.000128  0.000070  0.000143   \n",
       "\n",
       "                          ICICIBANK.NS    TCS.NS  KOTAKBANK.NS  HINDUNILVR.NS  \\\n",
       "Date                                                                            \n",
       "2021-01-04 RELIANCE.NS             NaN       NaN           NaN            NaN   \n",
       "           HDFCBANK.NS             NaN       NaN           NaN            NaN   \n",
       "           INFY.NS                 NaN       NaN           NaN            NaN   \n",
       "           HDFC.NS                 NaN       NaN           NaN            NaN   \n",
       "           ICICIBANK.NS            NaN       NaN           NaN            NaN   \n",
       "...                                ...       ...           ...            ...   \n",
       "2021-04-09 DRREDDY.NS         0.000069  0.000108      0.000091       0.000119   \n",
       "           INDUSINDBK.NS      0.000449 -0.000002      0.000234       0.000008   \n",
       "           NTPC.NS            0.000152  0.000114      0.000089       0.000133   \n",
       "           BAJAJ-AUTO.NS      0.000192  0.000036      0.000158       0.000146   \n",
       "           ONGC.NS            0.000137  0.000028      0.000176       0.000040   \n",
       "\n",
       "                            ITC.NS  AXISBANK.NS  ...  TITAN.NS  NESTLEIND.NS  \\\n",
       "Date                                             ...                           \n",
       "2021-01-04 RELIANCE.NS         NaN          NaN  ...       NaN           NaN   \n",
       "           HDFCBANK.NS         NaN          NaN  ...       NaN           NaN   \n",
       "           INFY.NS             NaN          NaN  ...       NaN           NaN   \n",
       "           HDFC.NS             NaN          NaN  ...       NaN           NaN   \n",
       "           ICICIBANK.NS        NaN          NaN  ...       NaN           NaN   \n",
       "...                            ...          ...  ...       ...           ...   \n",
       "2021-04-09 DRREDDY.NS     0.000039     0.000063  ...  0.000057      0.000096   \n",
       "           INDUSINDBK.NS  0.000176     0.000411  ...  0.000131      0.000084   \n",
       "           NTPC.NS        0.000140     0.000174  ...  0.000100      0.000127   \n",
       "           BAJAJ-AUTO.NS  0.000166     0.000192  ...  0.000129      0.000121   \n",
       "           ONGC.NS        0.000130     0.000192  ...  0.000070      0.000042   \n",
       "\n",
       "                          TECHM.NS  BAJAJFINSV.NS  POWERGRID.NS  DRREDDY.NS  \\\n",
       "Date                                                                          \n",
       "2021-01-04 RELIANCE.NS         NaN            NaN           NaN         NaN   \n",
       "           HDFCBANK.NS         NaN            NaN           NaN         NaN   \n",
       "           INFY.NS             NaN            NaN           NaN         NaN   \n",
       "           HDFC.NS             NaN            NaN           NaN         NaN   \n",
       "           ICICIBANK.NS        NaN            NaN           NaN         NaN   \n",
       "...                            ...            ...           ...         ...   \n",
       "2021-04-09 DRREDDY.NS     0.000111       0.000081      0.000081    0.000258   \n",
       "           INDUSINDBK.NS  0.000059       0.000301      0.000269    0.000098   \n",
       "           NTPC.NS        0.000143       0.000137      0.000243    0.000110   \n",
       "           BAJAJ-AUTO.NS  0.000100       0.000212      0.000100    0.000083   \n",
       "           ONGC.NS        0.000115       0.000142      0.000295    0.000080   \n",
       "\n",
       "                          INDUSINDBK.NS   NTPC.NS  BAJAJ-AUTO.NS   ONGC.NS  \n",
       "Date                                                                        \n",
       "2021-01-04 RELIANCE.NS              NaN       NaN            NaN       NaN  \n",
       "           HDFCBANK.NS              NaN       NaN            NaN       NaN  \n",
       "           INFY.NS                  NaN       NaN            NaN       NaN  \n",
       "           HDFC.NS                  NaN       NaN            NaN       NaN  \n",
       "           ICICIBANK.NS             NaN       NaN            NaN       NaN  \n",
       "...                                 ...       ...            ...       ...  \n",
       "2021-04-09 DRREDDY.NS          0.000098  0.000110       0.000083  0.000080  \n",
       "           INDUSINDBK.NS       0.000709  0.000212       0.000204  0.000191  \n",
       "           NTPC.NS             0.000212  0.000389       0.000124  0.000225  \n",
       "           BAJAJ-AUTO.NS       0.000204  0.000124       0.000372  0.000128  \n",
       "           ONGC.NS             0.000191  0.000225       0.000128  0.000559  \n",
       "\n",
       "[1980 rows x 30 columns]"
      ],
      "text/html": "<div>\n<style scoped>\n    .dataframe tbody tr th:only-of-type {\n        vertical-align: middle;\n    }\n\n    .dataframe tbody tr th {\n        vertical-align: top;\n    }\n\n    .dataframe thead th {\n        text-align: right;\n    }\n</style>\n<table border=\"1\" class=\"dataframe\">\n  <thead>\n    <tr style=\"text-align: right;\">\n      <th></th>\n      <th></th>\n      <th>RELIANCE.NS</th>\n      <th>HDFCBANK.NS</th>\n      <th>INFY.NS</th>\n      <th>HDFC.NS</th>\n      <th>ICICIBANK.NS</th>\n      <th>TCS.NS</th>\n      <th>KOTAKBANK.NS</th>\n      <th>HINDUNILVR.NS</th>\n      <th>ITC.NS</th>\n      <th>AXISBANK.NS</th>\n      <th>...</th>\n      <th>TITAN.NS</th>\n      <th>NESTLEIND.NS</th>\n      <th>TECHM.NS</th>\n      <th>BAJAJFINSV.NS</th>\n      <th>POWERGRID.NS</th>\n      <th>DRREDDY.NS</th>\n      <th>INDUSINDBK.NS</th>\n      <th>NTPC.NS</th>\n      <th>BAJAJ-AUTO.NS</th>\n      <th>ONGC.NS</th>\n    </tr>\n    <tr>\n      <th>Date</th>\n      <th></th>\n      <th></th>\n      <th></th>\n      <th></th>\n      <th></th>\n      <th></th>\n      <th></th>\n      <th></th>\n      <th></th>\n      <th></th>\n      <th></th>\n      <th></th>\n      <th></th>\n      <th></th>\n      <th></th>\n      <th></th>\n      <th></th>\n      <th></th>\n      <th></th>\n      <th></th>\n      <th></th>\n      <th></th>\n    </tr>\n  </thead>\n  <tbody>\n    <tr>\n      <th rowspan=\"5\" valign=\"top\">2021-01-04</th>\n      <th>RELIANCE.NS</th>\n      <td>NaN</td>\n      <td>NaN</td>\n      <td>NaN</td>\n      <td>NaN</td>\n      <td>NaN</td>\n      <td>NaN</td>\n      <td>NaN</td>\n      <td>NaN</td>\n      <td>NaN</td>\n      <td>NaN</td>\n      <td>...</td>\n      <td>NaN</td>\n      <td>NaN</td>\n      <td>NaN</td>\n      <td>NaN</td>\n      <td>NaN</td>\n      <td>NaN</td>\n      <td>NaN</td>\n      <td>NaN</td>\n      <td>NaN</td>\n      <td>NaN</td>\n    </tr>\n    <tr>\n      <th>HDFCBANK.NS</th>\n      <td>NaN</td>\n      <td>NaN</td>\n      <td>NaN</td>\n      <td>NaN</td>\n      <td>NaN</td>\n      <td>NaN</td>\n      <td>NaN</td>\n      <td>NaN</td>\n      <td>NaN</td>\n      <td>NaN</td>\n      <td>...</td>\n      <td>NaN</td>\n      <td>NaN</td>\n      <td>NaN</td>\n      <td>NaN</td>\n      <td>NaN</td>\n      <td>NaN</td>\n      <td>NaN</td>\n      <td>NaN</td>\n      <td>NaN</td>\n      <td>NaN</td>\n    </tr>\n    <tr>\n      <th>INFY.NS</th>\n      <td>NaN</td>\n      <td>NaN</td>\n      <td>NaN</td>\n      <td>NaN</td>\n      <td>NaN</td>\n      <td>NaN</td>\n      <td>NaN</td>\n      <td>NaN</td>\n      <td>NaN</td>\n      <td>NaN</td>\n      <td>...</td>\n      <td>NaN</td>\n      <td>NaN</td>\n      <td>NaN</td>\n      <td>NaN</td>\n      <td>NaN</td>\n      <td>NaN</td>\n      <td>NaN</td>\n      <td>NaN</td>\n      <td>NaN</td>\n      <td>NaN</td>\n    </tr>\n    <tr>\n      <th>HDFC.NS</th>\n      <td>NaN</td>\n      <td>NaN</td>\n      <td>NaN</td>\n      <td>NaN</td>\n      <td>NaN</td>\n      <td>NaN</td>\n      <td>NaN</td>\n      <td>NaN</td>\n      <td>NaN</td>\n      <td>NaN</td>\n      <td>...</td>\n      <td>NaN</td>\n      <td>NaN</td>\n      <td>NaN</td>\n      <td>NaN</td>\n      <td>NaN</td>\n      <td>NaN</td>\n      <td>NaN</td>\n      <td>NaN</td>\n      <td>NaN</td>\n      <td>NaN</td>\n    </tr>\n    <tr>\n      <th>ICICIBANK.NS</th>\n      <td>NaN</td>\n      <td>NaN</td>\n      <td>NaN</td>\n      <td>NaN</td>\n      <td>NaN</td>\n      <td>NaN</td>\n      <td>NaN</td>\n      <td>NaN</td>\n      <td>NaN</td>\n      <td>NaN</td>\n      <td>...</td>\n      <td>NaN</td>\n      <td>NaN</td>\n      <td>NaN</td>\n      <td>NaN</td>\n      <td>NaN</td>\n      <td>NaN</td>\n      <td>NaN</td>\n      <td>NaN</td>\n      <td>NaN</td>\n      <td>NaN</td>\n    </tr>\n    <tr>\n      <th>...</th>\n      <th>...</th>\n      <td>...</td>\n      <td>...</td>\n      <td>...</td>\n      <td>...</td>\n      <td>...</td>\n      <td>...</td>\n      <td>...</td>\n      <td>...</td>\n      <td>...</td>\n      <td>...</td>\n      <td>...</td>\n      <td>...</td>\n      <td>...</td>\n      <td>...</td>\n      <td>...</td>\n      <td>...</td>\n      <td>...</td>\n      <td>...</td>\n      <td>...</td>\n      <td>...</td>\n      <td>...</td>\n    </tr>\n    <tr>\n      <th rowspan=\"5\" valign=\"top\">2021-04-09</th>\n      <th>DRREDDY.NS</th>\n      <td>0.000110</td>\n      <td>0.000045</td>\n      <td>0.000124</td>\n      <td>0.000111</td>\n      <td>0.000069</td>\n      <td>0.000108</td>\n      <td>0.000091</td>\n      <td>0.000119</td>\n      <td>0.000039</td>\n      <td>0.000063</td>\n      <td>...</td>\n      <td>0.000057</td>\n      <td>0.000096</td>\n      <td>0.000111</td>\n      <td>0.000081</td>\n      <td>0.000081</td>\n      <td>0.000258</td>\n      <td>0.000098</td>\n      <td>0.000110</td>\n      <td>0.000083</td>\n      <td>0.000080</td>\n    </tr>\n    <tr>\n      <th>INDUSINDBK.NS</th>\n      <td>0.000242</td>\n      <td>0.000264</td>\n      <td>0.000069</td>\n      <td>0.000296</td>\n      <td>0.000449</td>\n      <td>-0.000002</td>\n      <td>0.000234</td>\n      <td>0.000008</td>\n      <td>0.000176</td>\n      <td>0.000411</td>\n      <td>...</td>\n      <td>0.000131</td>\n      <td>0.000084</td>\n      <td>0.000059</td>\n      <td>0.000301</td>\n      <td>0.000269</td>\n      <td>0.000098</td>\n      <td>0.000709</td>\n      <td>0.000212</td>\n      <td>0.000204</td>\n      <td>0.000191</td>\n    </tr>\n    <tr>\n      <th>NTPC.NS</th>\n      <td>0.000211</td>\n      <td>0.000140</td>\n      <td>0.000152</td>\n      <td>0.000127</td>\n      <td>0.000152</td>\n      <td>0.000114</td>\n      <td>0.000089</td>\n      <td>0.000133</td>\n      <td>0.000140</td>\n      <td>0.000174</td>\n      <td>...</td>\n      <td>0.000100</td>\n      <td>0.000127</td>\n      <td>0.000143</td>\n      <td>0.000137</td>\n      <td>0.000243</td>\n      <td>0.000110</td>\n      <td>0.000212</td>\n      <td>0.000389</td>\n      <td>0.000124</td>\n      <td>0.000225</td>\n    </tr>\n    <tr>\n      <th>BAJAJ-AUTO.NS</th>\n      <td>0.000114</td>\n      <td>0.000165</td>\n      <td>0.000051</td>\n      <td>0.000176</td>\n      <td>0.000192</td>\n      <td>0.000036</td>\n      <td>0.000158</td>\n      <td>0.000146</td>\n      <td>0.000166</td>\n      <td>0.000192</td>\n      <td>...</td>\n      <td>0.000129</td>\n      <td>0.000121</td>\n      <td>0.000100</td>\n      <td>0.000212</td>\n      <td>0.000100</td>\n      <td>0.000083</td>\n      <td>0.000204</td>\n      <td>0.000124</td>\n      <td>0.000372</td>\n      <td>0.000128</td>\n    </tr>\n    <tr>\n      <th>ONGC.NS</th>\n      <td>0.000155</td>\n      <td>0.000128</td>\n      <td>0.000070</td>\n      <td>0.000143</td>\n      <td>0.000137</td>\n      <td>0.000028</td>\n      <td>0.000176</td>\n      <td>0.000040</td>\n      <td>0.000130</td>\n      <td>0.000192</td>\n      <td>...</td>\n      <td>0.000070</td>\n      <td>0.000042</td>\n      <td>0.000115</td>\n      <td>0.000142</td>\n      <td>0.000295</td>\n      <td>0.000080</td>\n      <td>0.000191</td>\n      <td>0.000225</td>\n      <td>0.000128</td>\n      <td>0.000559</td>\n    </tr>\n  </tbody>\n</table>\n<p>1980 rows × 30 columns</p>\n</div>"
     },
     "metadata": {},
     "execution_count": 11
    }
   ],
   "source": [
    "rets_ewma_cov"
   ]
  },
  {
   "cell_type": "code",
   "execution_count": 12,
   "metadata": {},
   "outputs": [],
   "source": [
    "ewma_corr = rets.copy().ewm(halflife = 13).corr().tail(30)"
   ]
  },
  {
   "cell_type": "code",
   "execution_count": 13,
   "metadata": {},
   "outputs": [
    {
     "output_type": "execute_result",
     "data": {
      "text/plain": [
       "                          RELIANCE.NS  HDFCBANK.NS   INFY.NS   HDFC.NS  \\\n",
       "Date                                                                     \n",
       "2021-04-09 RELIANCE.NS       1.000000     0.499049  0.473944  0.487845   \n",
       "           HDFCBANK.NS       0.499049     1.000000  0.378025  0.765927   \n",
       "           INFY.NS           0.473944     0.378025  1.000000  0.408076   \n",
       "           HDFC.NS           0.487845     0.765927  0.408076  1.000000   \n",
       "           ICICIBANK.NS      0.567617     0.738133  0.369512  0.736648   \n",
       "           TCS.NS            0.379166     0.170203  0.768406  0.224685   \n",
       "           KOTAKBANK.NS      0.493466     0.595122  0.308868  0.699289   \n",
       "           HINDUNILVR.NS     0.328618     0.253708  0.318546  0.314467   \n",
       "           ITC.NS            0.318563     0.224624  0.082941  0.345876   \n",
       "           AXISBANK.NS       0.592958     0.498189  0.284181  0.515364   \n",
       "           LT.NS             0.469232     0.580883  0.351517  0.656791   \n",
       "           SBIN.NS           0.515957     0.514716  0.196686  0.496639   \n",
       "           BAJFINANCE.NS     0.587733     0.559294  0.199923  0.643631   \n",
       "           BHARTIARTL.NS     0.354057     0.309228  0.328216  0.312079   \n",
       "           ASIANPAINT.NS     0.324763     0.399371  0.354002  0.514337   \n",
       "           HCLTECH.NS        0.487378     0.301084  0.857989  0.288048   \n",
       "           MARUTI.NS         0.449323     0.370108  0.344614  0.323048   \n",
       "           ULTRACEMCO.NS     0.549761     0.437758  0.277913  0.432787   \n",
       "           M&M.NS            0.447488     0.366314  0.298362  0.492562   \n",
       "           SUNPHARMA.NS      0.332056     0.263201  0.387637  0.403660   \n",
       "           TITAN.NS          0.298527     0.451994  0.298787  0.462452   \n",
       "           NESTLEIND.NS      0.502127     0.481988  0.529512  0.474092   \n",
       "           TECHM.NS          0.334197     0.343702  0.690175  0.447765   \n",
       "           BAJAJFINSV.NS     0.482348     0.457510  0.280314  0.652765   \n",
       "           POWERGRID.NS      0.486179     0.400609  0.274512  0.394327   \n",
       "           DRREDDY.NS        0.399508     0.143822  0.520355  0.337468   \n",
       "           INDUSINDBK.NS     0.529260     0.510449  0.173370  0.541786   \n",
       "           NTPC.NS           0.623349     0.364983  0.519116  0.313376   \n",
       "           BAJAJ-AUTO.NS     0.342373     0.439217  0.178501  0.445635   \n",
       "           ONGC.NS           0.380121     0.278571  0.198778  0.294087   \n",
       "\n",
       "                          ICICIBANK.NS    TCS.NS  KOTAKBANK.NS  HINDUNILVR.NS  \\\n",
       "Date                                                                            \n",
       "2021-04-09 RELIANCE.NS        0.567617  0.379166      0.493466       0.328618   \n",
       "           HDFCBANK.NS        0.738133  0.170203      0.595122       0.253708   \n",
       "           INFY.NS            0.369512  0.768406      0.308868       0.318546   \n",
       "           HDFC.NS            0.736648  0.224685      0.699289       0.314467   \n",
       "           ICICIBANK.NS       1.000000  0.098497      0.622789       0.062689   \n",
       "           TCS.NS             0.098497  1.000000      0.126599       0.457021   \n",
       "           KOTAKBANK.NS       0.622789  0.126599      1.000000       0.239723   \n",
       "           HINDUNILVR.NS      0.062689  0.457021      0.239723       1.000000   \n",
       "           ITC.NS             0.332342  0.169910      0.327282       0.412717   \n",
       "           AXISBANK.NS        0.802240  0.071426      0.493003       0.013061   \n",
       "           LT.NS              0.745072  0.191952      0.522317       0.090059   \n",
       "           SBIN.NS            0.723241  0.020779      0.564945       0.114509   \n",
       "           BAJFINANCE.NS      0.732284  0.032451      0.635507       0.225936   \n",
       "           BHARTIARTL.NS      0.272177  0.336803      0.201315       0.278721   \n",
       "           ASIANPAINT.NS      0.297129  0.362137      0.372734       0.438668   \n",
       "           HCLTECH.NS         0.218204  0.740312      0.319451       0.338346   \n",
       "           MARUTI.NS          0.383606  0.305575      0.475094       0.380598   \n",
       "           ULTRACEMCO.NS      0.548629  0.276456      0.498718       0.192950   \n",
       "           M&M.NS             0.562147  0.248859      0.505682       0.264494   \n",
       "           SUNPHARMA.NS       0.205458  0.375675      0.468730       0.549310   \n",
       "           TITAN.NS           0.382082  0.342963      0.268069       0.476855   \n",
       "           NESTLEIND.NS       0.456609  0.467069      0.360848       0.615845   \n",
       "           TECHM.NS           0.237712  0.617321      0.323254       0.424516   \n",
       "           BAJAJFINSV.NS      0.657210  0.262803      0.554840       0.374523   \n",
       "           POWERGRID.NS       0.321691  0.126888      0.363278       0.173824   \n",
       "           DRREDDY.NS         0.190909  0.470939      0.318739       0.420674   \n",
       "           INDUSINDBK.NS      0.748015 -0.005842      0.493200       0.017622   \n",
       "           NTPC.NS            0.340901  0.404172      0.254095       0.384218   \n",
       "           BAJAJ-AUTO.NS      0.442202  0.130219      0.458380       0.431331   \n",
       "           ONGC.NS            0.256905  0.083348      0.416867       0.097285   \n",
       "\n",
       "                            ITC.NS  AXISBANK.NS  ...  TITAN.NS  NESTLEIND.NS  \\\n",
       "Date                                             ...                           \n",
       "2021-04-09 RELIANCE.NS    0.318563     0.592958  ...  0.298527      0.502127   \n",
       "           HDFCBANK.NS    0.224624     0.498189  ...  0.451994      0.481988   \n",
       "           INFY.NS        0.082941     0.284181  ...  0.298787      0.529512   \n",
       "           HDFC.NS        0.345876     0.515364  ...  0.462452      0.474092   \n",
       "           ICICIBANK.NS   0.332342     0.802240  ...  0.382082      0.456609   \n",
       "           TCS.NS         0.169910     0.071426  ...  0.342963      0.467069   \n",
       "           KOTAKBANK.NS   0.327282     0.493003  ...  0.268069      0.360848   \n",
       "           HINDUNILVR.NS  0.412717     0.013061  ...  0.476855      0.615845   \n",
       "           ITC.NS         1.000000     0.377240  ...  0.231343      0.300355   \n",
       "           AXISBANK.NS    0.377240     1.000000  ...  0.282342      0.307839   \n",
       "           LT.NS          0.383611     0.653243  ...  0.515022      0.475417   \n",
       "           SBIN.NS        0.555672     0.732274  ...  0.276373      0.342349   \n",
       "           BAJFINANCE.NS  0.529161     0.737571  ...  0.278293      0.413476   \n",
       "           BHARTIARTL.NS  0.179769     0.391554  ...  0.292678      0.294395   \n",
       "           ASIANPAINT.NS  0.183883     0.216813  ...  0.434430      0.506140   \n",
       "           HCLTECH.NS     0.047028     0.178059  ...  0.244201      0.430095   \n",
       "           MARUTI.NS      0.531350     0.431009  ...  0.375530      0.519490   \n",
       "           ULTRACEMCO.NS  0.358697     0.464030  ...  0.539545      0.446795   \n",
       "           M&M.NS         0.652396     0.650758  ...  0.323041      0.383411   \n",
       "           SUNPHARMA.NS   0.205581     0.240511  ...  0.284616      0.345520   \n",
       "           TITAN.NS       0.231343     0.282342  ...  1.000000      0.582356   \n",
       "           NESTLEIND.NS   0.300355     0.307839  ...  0.582356      1.000000   \n",
       "           TECHM.NS       0.120899     0.205812  ...  0.508948      0.519886   \n",
       "           BAJAJFINSV.NS  0.413341     0.625075  ...  0.542064      0.434293   \n",
       "           POWERGRID.NS   0.332170     0.300129  ...  0.220704      0.159481   \n",
       "           DRREDDY.NS     0.140009     0.180646  ...  0.197969      0.426980   \n",
       "           INDUSINDBK.NS  0.385489     0.708560  ...  0.276046      0.223629   \n",
       "           NTPC.NS        0.413531     0.403826  ...  0.285561      0.459374   \n",
       "           BAJAJ-AUTO.NS  0.500775     0.455691  ...  0.375620      0.447290   \n",
       "           ONGC.NS        0.320150     0.372666  ...  0.165820      0.127532   \n",
       "\n",
       "                          TECHM.NS  BAJAJFINSV.NS  POWERGRID.NS  DRREDDY.NS  \\\n",
       "Date                                                                          \n",
       "2021-04-09 RELIANCE.NS    0.334197       0.482348      0.486179    0.399508   \n",
       "           HDFCBANK.NS    0.343702       0.457510      0.400609    0.143822   \n",
       "           INFY.NS        0.690175       0.280314      0.274512    0.520355   \n",
       "           HDFC.NS        0.447765       0.652765      0.394327    0.337468   \n",
       "           ICICIBANK.NS   0.237712       0.657210      0.321691    0.190909   \n",
       "           TCS.NS         0.617321       0.262803      0.126888    0.470939   \n",
       "           KOTAKBANK.NS   0.323254       0.554840      0.363278    0.318739   \n",
       "           HINDUNILVR.NS  0.424516       0.374523      0.173824    0.420674   \n",
       "           ITC.NS         0.120899       0.413341      0.332170    0.140009   \n",
       "           AXISBANK.NS    0.205812       0.625075      0.300129    0.180646   \n",
       "           LT.NS          0.351847       0.669391      0.316224    0.214874   \n",
       "           SBIN.NS        0.171818       0.551747      0.386923    0.236618   \n",
       "           BAJFINANCE.NS  0.102905       0.701732      0.350089    0.212270   \n",
       "           BHARTIARTL.NS  0.368225       0.412544      0.146444    0.175451   \n",
       "           ASIANPAINT.NS  0.378122       0.426614      0.248184    0.448301   \n",
       "           HCLTECH.NS     0.674729       0.127777      0.358945    0.505036   \n",
       "           MARUTI.NS      0.411217       0.354106      0.305827    0.269720   \n",
       "           ULTRACEMCO.NS  0.296864       0.453205      0.327711    0.207281   \n",
       "           M&M.NS         0.370588       0.595961      0.318557    0.243869   \n",
       "           SUNPHARMA.NS   0.451212       0.373078      0.232744    0.592206   \n",
       "           TITAN.NS       0.508948       0.542064      0.220704    0.197969   \n",
       "           NESTLEIND.NS   0.519886       0.434293      0.159481    0.426980   \n",
       "           TECHM.NS       1.000000       0.290153      0.298277    0.367180   \n",
       "           BAJAJFINSV.NS  0.290153       1.000000      0.206878    0.241031   \n",
       "           POWERGRID.NS   0.298277       0.206878      1.000000    0.230032   \n",
       "           DRREDDY.NS     0.367180       0.241031      0.230032    1.000000   \n",
       "           INDUSINDBK.NS  0.117121       0.541688      0.458475    0.229976   \n",
       "           NTPC.NS        0.383276       0.333547      0.559405    0.348811   \n",
       "           BAJAJ-AUTO.NS  0.275896       0.528052      0.235251    0.268493   \n",
       "           ONGC.NS        0.258527       0.287089      0.566999    0.211157   \n",
       "\n",
       "                          INDUSINDBK.NS   NTPC.NS  BAJAJ-AUTO.NS   ONGC.NS  \n",
       "Date                                                                        \n",
       "2021-04-09 RELIANCE.NS         0.529260  0.623349       0.342373  0.380121  \n",
       "           HDFCBANK.NS         0.510449  0.364983       0.439217  0.278571  \n",
       "           INFY.NS             0.173370  0.519116       0.178501  0.198778  \n",
       "           HDFC.NS             0.541786  0.313376       0.445635  0.294087  \n",
       "           ICICIBANK.NS        0.748015  0.340901       0.442202  0.256905  \n",
       "           TCS.NS             -0.005842  0.404172       0.130219  0.083348  \n",
       "           KOTAKBANK.NS        0.493200  0.254095       0.458380  0.416867  \n",
       "           HINDUNILVR.NS       0.017622  0.384218       0.431331  0.097285  \n",
       "           ITC.NS              0.385489  0.413531       0.500775  0.320150  \n",
       "           AXISBANK.NS         0.708560  0.403826       0.455691  0.372666  \n",
       "           LT.NS               0.561592  0.415560       0.505370  0.421329  \n",
       "           SBIN.NS             0.687946  0.457532       0.482457  0.435917  \n",
       "           BAJFINANCE.NS       0.667083  0.387277       0.600049  0.297916  \n",
       "           BHARTIARTL.NS       0.263108  0.248493       0.437238  0.231388  \n",
       "           ASIANPAINT.NS       0.192905  0.338276       0.393537  0.382791  \n",
       "           HCLTECH.NS          0.151962  0.532313       0.139951  0.270179  \n",
       "           MARUTI.NS           0.354032  0.376699       0.657688  0.376007  \n",
       "           ULTRACEMCO.NS       0.423819  0.379342       0.442163  0.309652  \n",
       "           M&M.NS              0.536353  0.442570       0.668553  0.390089  \n",
       "           SUNPHARMA.NS        0.256810  0.354056       0.453141  0.373294  \n",
       "           TITAN.NS            0.276046  0.285561       0.375620  0.165820  \n",
       "           NESTLEIND.NS        0.223629  0.459374       0.447290  0.127532  \n",
       "           TECHM.NS            0.117121  0.383276       0.275896  0.258527  \n",
       "           BAJAJFINSV.NS       0.541688  0.333547       0.528052  0.287089  \n",
       "           POWERGRID.NS        0.458475  0.559405       0.235251  0.566999  \n",
       "           DRREDDY.NS          0.229976  0.348811       0.268493  0.211157  \n",
       "           INDUSINDBK.NS       1.000000  0.403908       0.397767  0.303903  \n",
       "           NTPC.NS             0.403908  1.000000       0.325038  0.482028  \n",
       "           BAJAJ-AUTO.NS       0.397767  0.325038       1.000000  0.279950  \n",
       "           ONGC.NS             0.303903  0.482028       0.279950  1.000000  \n",
       "\n",
       "[30 rows x 30 columns]"
      ],
      "text/html": "<div>\n<style scoped>\n    .dataframe tbody tr th:only-of-type {\n        vertical-align: middle;\n    }\n\n    .dataframe tbody tr th {\n        vertical-align: top;\n    }\n\n    .dataframe thead th {\n        text-align: right;\n    }\n</style>\n<table border=\"1\" class=\"dataframe\">\n  <thead>\n    <tr style=\"text-align: right;\">\n      <th></th>\n      <th></th>\n      <th>RELIANCE.NS</th>\n      <th>HDFCBANK.NS</th>\n      <th>INFY.NS</th>\n      <th>HDFC.NS</th>\n      <th>ICICIBANK.NS</th>\n      <th>TCS.NS</th>\n      <th>KOTAKBANK.NS</th>\n      <th>HINDUNILVR.NS</th>\n      <th>ITC.NS</th>\n      <th>AXISBANK.NS</th>\n      <th>...</th>\n      <th>TITAN.NS</th>\n      <th>NESTLEIND.NS</th>\n      <th>TECHM.NS</th>\n      <th>BAJAJFINSV.NS</th>\n      <th>POWERGRID.NS</th>\n      <th>DRREDDY.NS</th>\n      <th>INDUSINDBK.NS</th>\n      <th>NTPC.NS</th>\n      <th>BAJAJ-AUTO.NS</th>\n      <th>ONGC.NS</th>\n    </tr>\n    <tr>\n      <th>Date</th>\n      <th></th>\n      <th></th>\n      <th></th>\n      <th></th>\n      <th></th>\n      <th></th>\n      <th></th>\n      <th></th>\n      <th></th>\n      <th></th>\n      <th></th>\n      <th></th>\n      <th></th>\n      <th></th>\n      <th></th>\n      <th></th>\n      <th></th>\n      <th></th>\n      <th></th>\n      <th></th>\n      <th></th>\n      <th></th>\n    </tr>\n  </thead>\n  <tbody>\n    <tr>\n      <th rowspan=\"30\" valign=\"top\">2021-04-09</th>\n      <th>RELIANCE.NS</th>\n      <td>1.000000</td>\n      <td>0.499049</td>\n      <td>0.473944</td>\n      <td>0.487845</td>\n      <td>0.567617</td>\n      <td>0.379166</td>\n      <td>0.493466</td>\n      <td>0.328618</td>\n      <td>0.318563</td>\n      <td>0.592958</td>\n      <td>...</td>\n      <td>0.298527</td>\n      <td>0.502127</td>\n      <td>0.334197</td>\n      <td>0.482348</td>\n      <td>0.486179</td>\n      <td>0.399508</td>\n      <td>0.529260</td>\n      <td>0.623349</td>\n      <td>0.342373</td>\n      <td>0.380121</td>\n    </tr>\n    <tr>\n      <th>HDFCBANK.NS</th>\n      <td>0.499049</td>\n      <td>1.000000</td>\n      <td>0.378025</td>\n      <td>0.765927</td>\n      <td>0.738133</td>\n      <td>0.170203</td>\n      <td>0.595122</td>\n      <td>0.253708</td>\n      <td>0.224624</td>\n      <td>0.498189</td>\n      <td>...</td>\n      <td>0.451994</td>\n      <td>0.481988</td>\n      <td>0.343702</td>\n      <td>0.457510</td>\n      <td>0.400609</td>\n      <td>0.143822</td>\n      <td>0.510449</td>\n      <td>0.364983</td>\n      <td>0.439217</td>\n      <td>0.278571</td>\n    </tr>\n    <tr>\n      <th>INFY.NS</th>\n      <td>0.473944</td>\n      <td>0.378025</td>\n      <td>1.000000</td>\n      <td>0.408076</td>\n      <td>0.369512</td>\n      <td>0.768406</td>\n      <td>0.308868</td>\n      <td>0.318546</td>\n      <td>0.082941</td>\n      <td>0.284181</td>\n      <td>...</td>\n      <td>0.298787</td>\n      <td>0.529512</td>\n      <td>0.690175</td>\n      <td>0.280314</td>\n      <td>0.274512</td>\n      <td>0.520355</td>\n      <td>0.173370</td>\n      <td>0.519116</td>\n      <td>0.178501</td>\n      <td>0.198778</td>\n    </tr>\n    <tr>\n      <th>HDFC.NS</th>\n      <td>0.487845</td>\n      <td>0.765927</td>\n      <td>0.408076</td>\n      <td>1.000000</td>\n      <td>0.736648</td>\n      <td>0.224685</td>\n      <td>0.699289</td>\n      <td>0.314467</td>\n      <td>0.345876</td>\n      <td>0.515364</td>\n      <td>...</td>\n      <td>0.462452</td>\n      <td>0.474092</td>\n      <td>0.447765</td>\n      <td>0.652765</td>\n      <td>0.394327</td>\n      <td>0.337468</td>\n      <td>0.541786</td>\n      <td>0.313376</td>\n      <td>0.445635</td>\n      <td>0.294087</td>\n    </tr>\n    <tr>\n      <th>ICICIBANK.NS</th>\n      <td>0.567617</td>\n      <td>0.738133</td>\n      <td>0.369512</td>\n      <td>0.736648</td>\n      <td>1.000000</td>\n      <td>0.098497</td>\n      <td>0.622789</td>\n      <td>0.062689</td>\n      <td>0.332342</td>\n      <td>0.802240</td>\n      <td>...</td>\n      <td>0.382082</td>\n      <td>0.456609</td>\n      <td>0.237712</td>\n      <td>0.657210</td>\n      <td>0.321691</td>\n      <td>0.190909</td>\n      <td>0.748015</td>\n      <td>0.340901</td>\n      <td>0.442202</td>\n      <td>0.256905</td>\n    </tr>\n    <tr>\n      <th>TCS.NS</th>\n      <td>0.379166</td>\n      <td>0.170203</td>\n      <td>0.768406</td>\n      <td>0.224685</td>\n      <td>0.098497</td>\n      <td>1.000000</td>\n      <td>0.126599</td>\n      <td>0.457021</td>\n      <td>0.169910</td>\n      <td>0.071426</td>\n      <td>...</td>\n      <td>0.342963</td>\n      <td>0.467069</td>\n      <td>0.617321</td>\n      <td>0.262803</td>\n      <td>0.126888</td>\n      <td>0.470939</td>\n      <td>-0.005842</td>\n      <td>0.404172</td>\n      <td>0.130219</td>\n      <td>0.083348</td>\n    </tr>\n    <tr>\n      <th>KOTAKBANK.NS</th>\n      <td>0.493466</td>\n      <td>0.595122</td>\n      <td>0.308868</td>\n      <td>0.699289</td>\n      <td>0.622789</td>\n      <td>0.126599</td>\n      <td>1.000000</td>\n      <td>0.239723</td>\n      <td>0.327282</td>\n      <td>0.493003</td>\n      <td>...</td>\n      <td>0.268069</td>\n      <td>0.360848</td>\n      <td>0.323254</td>\n      <td>0.554840</td>\n      <td>0.363278</td>\n      <td>0.318739</td>\n      <td>0.493200</td>\n      <td>0.254095</td>\n      <td>0.458380</td>\n      <td>0.416867</td>\n    </tr>\n    <tr>\n      <th>HINDUNILVR.NS</th>\n      <td>0.328618</td>\n      <td>0.253708</td>\n      <td>0.318546</td>\n      <td>0.314467</td>\n      <td>0.062689</td>\n      <td>0.457021</td>\n      <td>0.239723</td>\n      <td>1.000000</td>\n      <td>0.412717</td>\n      <td>0.013061</td>\n      <td>...</td>\n      <td>0.476855</td>\n      <td>0.615845</td>\n      <td>0.424516</td>\n      <td>0.374523</td>\n      <td>0.173824</td>\n      <td>0.420674</td>\n      <td>0.017622</td>\n      <td>0.384218</td>\n      <td>0.431331</td>\n      <td>0.097285</td>\n    </tr>\n    <tr>\n      <th>ITC.NS</th>\n      <td>0.318563</td>\n      <td>0.224624</td>\n      <td>0.082941</td>\n      <td>0.345876</td>\n      <td>0.332342</td>\n      <td>0.169910</td>\n      <td>0.327282</td>\n      <td>0.412717</td>\n      <td>1.000000</td>\n      <td>0.377240</td>\n      <td>...</td>\n      <td>0.231343</td>\n      <td>0.300355</td>\n      <td>0.120899</td>\n      <td>0.413341</td>\n      <td>0.332170</td>\n      <td>0.140009</td>\n      <td>0.385489</td>\n      <td>0.413531</td>\n      <td>0.500775</td>\n      <td>0.320150</td>\n    </tr>\n    <tr>\n      <th>AXISBANK.NS</th>\n      <td>0.592958</td>\n      <td>0.498189</td>\n      <td>0.284181</td>\n      <td>0.515364</td>\n      <td>0.802240</td>\n      <td>0.071426</td>\n      <td>0.493003</td>\n      <td>0.013061</td>\n      <td>0.377240</td>\n      <td>1.000000</td>\n      <td>...</td>\n      <td>0.282342</td>\n      <td>0.307839</td>\n      <td>0.205812</td>\n      <td>0.625075</td>\n      <td>0.300129</td>\n      <td>0.180646</td>\n      <td>0.708560</td>\n      <td>0.403826</td>\n      <td>0.455691</td>\n      <td>0.372666</td>\n    </tr>\n    <tr>\n      <th>LT.NS</th>\n      <td>0.469232</td>\n      <td>0.580883</td>\n      <td>0.351517</td>\n      <td>0.656791</td>\n      <td>0.745072</td>\n      <td>0.191952</td>\n      <td>0.522317</td>\n      <td>0.090059</td>\n      <td>0.383611</td>\n      <td>0.653243</td>\n      <td>...</td>\n      <td>0.515022</td>\n      <td>0.475417</td>\n      <td>0.351847</td>\n      <td>0.669391</td>\n      <td>0.316224</td>\n      <td>0.214874</td>\n      <td>0.561592</td>\n      <td>0.415560</td>\n      <td>0.505370</td>\n      <td>0.421329</td>\n    </tr>\n    <tr>\n      <th>SBIN.NS</th>\n      <td>0.515957</td>\n      <td>0.514716</td>\n      <td>0.196686</td>\n      <td>0.496639</td>\n      <td>0.723241</td>\n      <td>0.020779</td>\n      <td>0.564945</td>\n      <td>0.114509</td>\n      <td>0.555672</td>\n      <td>0.732274</td>\n      <td>...</td>\n      <td>0.276373</td>\n      <td>0.342349</td>\n      <td>0.171818</td>\n      <td>0.551747</td>\n      <td>0.386923</td>\n      <td>0.236618</td>\n      <td>0.687946</td>\n      <td>0.457532</td>\n      <td>0.482457</td>\n      <td>0.435917</td>\n    </tr>\n    <tr>\n      <th>BAJFINANCE.NS</th>\n      <td>0.587733</td>\n      <td>0.559294</td>\n      <td>0.199923</td>\n      <td>0.643631</td>\n      <td>0.732284</td>\n      <td>0.032451</td>\n      <td>0.635507</td>\n      <td>0.225936</td>\n      <td>0.529161</td>\n      <td>0.737571</td>\n      <td>...</td>\n      <td>0.278293</td>\n      <td>0.413476</td>\n      <td>0.102905</td>\n      <td>0.701732</td>\n      <td>0.350089</td>\n      <td>0.212270</td>\n      <td>0.667083</td>\n      <td>0.387277</td>\n      <td>0.600049</td>\n      <td>0.297916</td>\n    </tr>\n    <tr>\n      <th>BHARTIARTL.NS</th>\n      <td>0.354057</td>\n      <td>0.309228</td>\n      <td>0.328216</td>\n      <td>0.312079</td>\n      <td>0.272177</td>\n      <td>0.336803</td>\n      <td>0.201315</td>\n      <td>0.278721</td>\n      <td>0.179769</td>\n      <td>0.391554</td>\n      <td>...</td>\n      <td>0.292678</td>\n      <td>0.294395</td>\n      <td>0.368225</td>\n      <td>0.412544</td>\n      <td>0.146444</td>\n      <td>0.175451</td>\n      <td>0.263108</td>\n      <td>0.248493</td>\n      <td>0.437238</td>\n      <td>0.231388</td>\n    </tr>\n    <tr>\n      <th>ASIANPAINT.NS</th>\n      <td>0.324763</td>\n      <td>0.399371</td>\n      <td>0.354002</td>\n      <td>0.514337</td>\n      <td>0.297129</td>\n      <td>0.362137</td>\n      <td>0.372734</td>\n      <td>0.438668</td>\n      <td>0.183883</td>\n      <td>0.216813</td>\n      <td>...</td>\n      <td>0.434430</td>\n      <td>0.506140</td>\n      <td>0.378122</td>\n      <td>0.426614</td>\n      <td>0.248184</td>\n      <td>0.448301</td>\n      <td>0.192905</td>\n      <td>0.338276</td>\n      <td>0.393537</td>\n      <td>0.382791</td>\n    </tr>\n    <tr>\n      <th>HCLTECH.NS</th>\n      <td>0.487378</td>\n      <td>0.301084</td>\n      <td>0.857989</td>\n      <td>0.288048</td>\n      <td>0.218204</td>\n      <td>0.740312</td>\n      <td>0.319451</td>\n      <td>0.338346</td>\n      <td>0.047028</td>\n      <td>0.178059</td>\n      <td>...</td>\n      <td>0.244201</td>\n      <td>0.430095</td>\n      <td>0.674729</td>\n      <td>0.127777</td>\n      <td>0.358945</td>\n      <td>0.505036</td>\n      <td>0.151962</td>\n      <td>0.532313</td>\n      <td>0.139951</td>\n      <td>0.270179</td>\n    </tr>\n    <tr>\n      <th>MARUTI.NS</th>\n      <td>0.449323</td>\n      <td>0.370108</td>\n      <td>0.344614</td>\n      <td>0.323048</td>\n      <td>0.383606</td>\n      <td>0.305575</td>\n      <td>0.475094</td>\n      <td>0.380598</td>\n      <td>0.531350</td>\n      <td>0.431009</td>\n      <td>...</td>\n      <td>0.375530</td>\n      <td>0.519490</td>\n      <td>0.411217</td>\n      <td>0.354106</td>\n      <td>0.305827</td>\n      <td>0.269720</td>\n      <td>0.354032</td>\n      <td>0.376699</td>\n      <td>0.657688</td>\n      <td>0.376007</td>\n    </tr>\n    <tr>\n      <th>ULTRACEMCO.NS</th>\n      <td>0.549761</td>\n      <td>0.437758</td>\n      <td>0.277913</td>\n      <td>0.432787</td>\n      <td>0.548629</td>\n      <td>0.276456</td>\n      <td>0.498718</td>\n      <td>0.192950</td>\n      <td>0.358697</td>\n      <td>0.464030</td>\n      <td>...</td>\n      <td>0.539545</td>\n      <td>0.446795</td>\n      <td>0.296864</td>\n      <td>0.453205</td>\n      <td>0.327711</td>\n      <td>0.207281</td>\n      <td>0.423819</td>\n      <td>0.379342</td>\n      <td>0.442163</td>\n      <td>0.309652</td>\n    </tr>\n    <tr>\n      <th>M&amp;M.NS</th>\n      <td>0.447488</td>\n      <td>0.366314</td>\n      <td>0.298362</td>\n      <td>0.492562</td>\n      <td>0.562147</td>\n      <td>0.248859</td>\n      <td>0.505682</td>\n      <td>0.264494</td>\n      <td>0.652396</td>\n      <td>0.650758</td>\n      <td>...</td>\n      <td>0.323041</td>\n      <td>0.383411</td>\n      <td>0.370588</td>\n      <td>0.595961</td>\n      <td>0.318557</td>\n      <td>0.243869</td>\n      <td>0.536353</td>\n      <td>0.442570</td>\n      <td>0.668553</td>\n      <td>0.390089</td>\n    </tr>\n    <tr>\n      <th>SUNPHARMA.NS</th>\n      <td>0.332056</td>\n      <td>0.263201</td>\n      <td>0.387637</td>\n      <td>0.403660</td>\n      <td>0.205458</td>\n      <td>0.375675</td>\n      <td>0.468730</td>\n      <td>0.549310</td>\n      <td>0.205581</td>\n      <td>0.240511</td>\n      <td>...</td>\n      <td>0.284616</td>\n      <td>0.345520</td>\n      <td>0.451212</td>\n      <td>0.373078</td>\n      <td>0.232744</td>\n      <td>0.592206</td>\n      <td>0.256810</td>\n      <td>0.354056</td>\n      <td>0.453141</td>\n      <td>0.373294</td>\n    </tr>\n    <tr>\n      <th>TITAN.NS</th>\n      <td>0.298527</td>\n      <td>0.451994</td>\n      <td>0.298787</td>\n      <td>0.462452</td>\n      <td>0.382082</td>\n      <td>0.342963</td>\n      <td>0.268069</td>\n      <td>0.476855</td>\n      <td>0.231343</td>\n      <td>0.282342</td>\n      <td>...</td>\n      <td>1.000000</td>\n      <td>0.582356</td>\n      <td>0.508948</td>\n      <td>0.542064</td>\n      <td>0.220704</td>\n      <td>0.197969</td>\n      <td>0.276046</td>\n      <td>0.285561</td>\n      <td>0.375620</td>\n      <td>0.165820</td>\n    </tr>\n    <tr>\n      <th>NESTLEIND.NS</th>\n      <td>0.502127</td>\n      <td>0.481988</td>\n      <td>0.529512</td>\n      <td>0.474092</td>\n      <td>0.456609</td>\n      <td>0.467069</td>\n      <td>0.360848</td>\n      <td>0.615845</td>\n      <td>0.300355</td>\n      <td>0.307839</td>\n      <td>...</td>\n      <td>0.582356</td>\n      <td>1.000000</td>\n      <td>0.519886</td>\n      <td>0.434293</td>\n      <td>0.159481</td>\n      <td>0.426980</td>\n      <td>0.223629</td>\n      <td>0.459374</td>\n      <td>0.447290</td>\n      <td>0.127532</td>\n    </tr>\n    <tr>\n      <th>TECHM.NS</th>\n      <td>0.334197</td>\n      <td>0.343702</td>\n      <td>0.690175</td>\n      <td>0.447765</td>\n      <td>0.237712</td>\n      <td>0.617321</td>\n      <td>0.323254</td>\n      <td>0.424516</td>\n      <td>0.120899</td>\n      <td>0.205812</td>\n      <td>...</td>\n      <td>0.508948</td>\n      <td>0.519886</td>\n      <td>1.000000</td>\n      <td>0.290153</td>\n      <td>0.298277</td>\n      <td>0.367180</td>\n      <td>0.117121</td>\n      <td>0.383276</td>\n      <td>0.275896</td>\n      <td>0.258527</td>\n    </tr>\n    <tr>\n      <th>BAJAJFINSV.NS</th>\n      <td>0.482348</td>\n      <td>0.457510</td>\n      <td>0.280314</td>\n      <td>0.652765</td>\n      <td>0.657210</td>\n      <td>0.262803</td>\n      <td>0.554840</td>\n      <td>0.374523</td>\n      <td>0.413341</td>\n      <td>0.625075</td>\n      <td>...</td>\n      <td>0.542064</td>\n      <td>0.434293</td>\n      <td>0.290153</td>\n      <td>1.000000</td>\n      <td>0.206878</td>\n      <td>0.241031</td>\n      <td>0.541688</td>\n      <td>0.333547</td>\n      <td>0.528052</td>\n      <td>0.287089</td>\n    </tr>\n    <tr>\n      <th>POWERGRID.NS</th>\n      <td>0.486179</td>\n      <td>0.400609</td>\n      <td>0.274512</td>\n      <td>0.394327</td>\n      <td>0.321691</td>\n      <td>0.126888</td>\n      <td>0.363278</td>\n      <td>0.173824</td>\n      <td>0.332170</td>\n      <td>0.300129</td>\n      <td>...</td>\n      <td>0.220704</td>\n      <td>0.159481</td>\n      <td>0.298277</td>\n      <td>0.206878</td>\n      <td>1.000000</td>\n      <td>0.230032</td>\n      <td>0.458475</td>\n      <td>0.559405</td>\n      <td>0.235251</td>\n      <td>0.566999</td>\n    </tr>\n    <tr>\n      <th>DRREDDY.NS</th>\n      <td>0.399508</td>\n      <td>0.143822</td>\n      <td>0.520355</td>\n      <td>0.337468</td>\n      <td>0.190909</td>\n      <td>0.470939</td>\n      <td>0.318739</td>\n      <td>0.420674</td>\n      <td>0.140009</td>\n      <td>0.180646</td>\n      <td>...</td>\n      <td>0.197969</td>\n      <td>0.426980</td>\n      <td>0.367180</td>\n      <td>0.241031</td>\n      <td>0.230032</td>\n      <td>1.000000</td>\n      <td>0.229976</td>\n      <td>0.348811</td>\n      <td>0.268493</td>\n      <td>0.211157</td>\n    </tr>\n    <tr>\n      <th>INDUSINDBK.NS</th>\n      <td>0.529260</td>\n      <td>0.510449</td>\n      <td>0.173370</td>\n      <td>0.541786</td>\n      <td>0.748015</td>\n      <td>-0.005842</td>\n      <td>0.493200</td>\n      <td>0.017622</td>\n      <td>0.385489</td>\n      <td>0.708560</td>\n      <td>...</td>\n      <td>0.276046</td>\n      <td>0.223629</td>\n      <td>0.117121</td>\n      <td>0.541688</td>\n      <td>0.458475</td>\n      <td>0.229976</td>\n      <td>1.000000</td>\n      <td>0.403908</td>\n      <td>0.397767</td>\n      <td>0.303903</td>\n    </tr>\n    <tr>\n      <th>NTPC.NS</th>\n      <td>0.623349</td>\n      <td>0.364983</td>\n      <td>0.519116</td>\n      <td>0.313376</td>\n      <td>0.340901</td>\n      <td>0.404172</td>\n      <td>0.254095</td>\n      <td>0.384218</td>\n      <td>0.413531</td>\n      <td>0.403826</td>\n      <td>...</td>\n      <td>0.285561</td>\n      <td>0.459374</td>\n      <td>0.383276</td>\n      <td>0.333547</td>\n      <td>0.559405</td>\n      <td>0.348811</td>\n      <td>0.403908</td>\n      <td>1.000000</td>\n      <td>0.325038</td>\n      <td>0.482028</td>\n    </tr>\n    <tr>\n      <th>BAJAJ-AUTO.NS</th>\n      <td>0.342373</td>\n      <td>0.439217</td>\n      <td>0.178501</td>\n      <td>0.445635</td>\n      <td>0.442202</td>\n      <td>0.130219</td>\n      <td>0.458380</td>\n      <td>0.431331</td>\n      <td>0.500775</td>\n      <td>0.455691</td>\n      <td>...</td>\n      <td>0.375620</td>\n      <td>0.447290</td>\n      <td>0.275896</td>\n      <td>0.528052</td>\n      <td>0.235251</td>\n      <td>0.268493</td>\n      <td>0.397767</td>\n      <td>0.325038</td>\n      <td>1.000000</td>\n      <td>0.279950</td>\n    </tr>\n    <tr>\n      <th>ONGC.NS</th>\n      <td>0.380121</td>\n      <td>0.278571</td>\n      <td>0.198778</td>\n      <td>0.294087</td>\n      <td>0.256905</td>\n      <td>0.083348</td>\n      <td>0.416867</td>\n      <td>0.097285</td>\n      <td>0.320150</td>\n      <td>0.372666</td>\n      <td>...</td>\n      <td>0.165820</td>\n      <td>0.127532</td>\n      <td>0.258527</td>\n      <td>0.287089</td>\n      <td>0.566999</td>\n      <td>0.211157</td>\n      <td>0.303903</td>\n      <td>0.482028</td>\n      <td>0.279950</td>\n      <td>1.000000</td>\n    </tr>\n  </tbody>\n</table>\n<p>30 rows × 30 columns</p>\n</div>"
     },
     "metadata": {},
     "execution_count": 13
    }
   ],
   "source": [
    "ewma_corr"
   ]
  },
  {
   "source": [
    "### A. EWMA Variance-Covariance Method and Historical Variance-Covariance Method"
   ],
   "cell_type": "markdown",
   "metadata": {}
  },
  {
   "cell_type": "code",
   "execution_count": 14,
   "metadata": {},
   "outputs": [],
   "source": [
    "def portfolio_return(weights, returns):\n",
    "    '''\n",
    "    Weights -> Returns\n",
    "    '''\n",
    "    return weights.T @ returns #matrix mult\n",
    "\n",
    "def portfolio_vol(weights, covmat):\n",
    "    '''\n",
    "    Weights -> Volatility\n",
    "    '''\n",
    "    return (weights.T @ covmat @ weights) ** 0.5 # matrix mul"
   ]
  },
  {
   "cell_type": "code",
   "execution_count": 15,
   "metadata": {},
   "outputs": [],
   "source": [
    "ewma_cov = np.array(rets.std()).T * ewma_corr * np.array(rets.std())"
   ]
  },
  {
   "cell_type": "code",
   "execution_count": 16,
   "metadata": {},
   "outputs": [
    {
     "output_type": "execute_result",
     "data": {
      "text/plain": [
       "                          RELIANCE.NS  HDFCBANK.NS   INFY.NS   HDFC.NS  \\\n",
       "Date                                                                     \n",
       "2021-04-09 RELIANCE.NS       0.000368     0.000204  0.000125  0.000248   \n",
       "           HDFCBANK.NS       0.000184     0.000408  0.000100  0.000389   \n",
       "           INFY.NS           0.000174     0.000154  0.000264  0.000207   \n",
       "           HDFC.NS           0.000179     0.000312  0.000108  0.000508   \n",
       "           ICICIBANK.NS      0.000209     0.000301  0.000098  0.000374   \n",
       "           TCS.NS            0.000139     0.000069  0.000203  0.000114   \n",
       "           KOTAKBANK.NS      0.000181     0.000243  0.000082  0.000355   \n",
       "           HINDUNILVR.NS     0.000121     0.000103  0.000084  0.000160   \n",
       "           ITC.NS            0.000117     0.000092  0.000022  0.000176   \n",
       "           AXISBANK.NS       0.000218     0.000203  0.000075  0.000262   \n",
       "           LT.NS             0.000173     0.000237  0.000093  0.000333   \n",
       "           SBIN.NS           0.000190     0.000210  0.000052  0.000252   \n",
       "           BAJFINANCE.NS     0.000216     0.000228  0.000053  0.000327   \n",
       "           BHARTIARTL.NS     0.000130     0.000126  0.000087  0.000158   \n",
       "           ASIANPAINT.NS     0.000119     0.000163  0.000094  0.000261   \n",
       "           HCLTECH.NS        0.000179     0.000123  0.000227  0.000146   \n",
       "           MARUTI.NS         0.000165     0.000151  0.000091  0.000164   \n",
       "           ULTRACEMCO.NS     0.000202     0.000179  0.000073  0.000220   \n",
       "           M&M.NS            0.000165     0.000149  0.000079  0.000250   \n",
       "           SUNPHARMA.NS      0.000122     0.000107  0.000102  0.000205   \n",
       "           TITAN.NS          0.000110     0.000184  0.000079  0.000235   \n",
       "           NESTLEIND.NS      0.000185     0.000197  0.000140  0.000241   \n",
       "           TECHM.NS          0.000123     0.000140  0.000182  0.000227   \n",
       "           BAJAJFINSV.NS     0.000177     0.000187  0.000074  0.000331   \n",
       "           POWERGRID.NS      0.000179     0.000163  0.000073  0.000200   \n",
       "           DRREDDY.NS        0.000147     0.000059  0.000138  0.000171   \n",
       "           INDUSINDBK.NS     0.000195     0.000208  0.000046  0.000275   \n",
       "           NTPC.NS           0.000229     0.000149  0.000137  0.000159   \n",
       "           BAJAJ-AUTO.NS     0.000126     0.000179  0.000047  0.000226   \n",
       "           ONGC.NS           0.000140     0.000114  0.000053  0.000149   \n",
       "\n",
       "                          ICICIBANK.NS    TCS.NS  KOTAKBANK.NS  HINDUNILVR.NS  \\\n",
       "Date                                                                            \n",
       "2021-04-09 RELIANCE.NS        0.000363  0.000091      0.000184       0.000077   \n",
       "           HDFCBANK.NS        0.000472  0.000041      0.000222       0.000060   \n",
       "           INFY.NS            0.000236  0.000184      0.000115       0.000075   \n",
       "           HDFC.NS            0.000471  0.000054      0.000261       0.000074   \n",
       "           ICICIBANK.NS       0.000640  0.000024      0.000232       0.000015   \n",
       "           TCS.NS             0.000063  0.000239      0.000047       0.000107   \n",
       "           KOTAKBANK.NS       0.000398  0.000030      0.000373       0.000056   \n",
       "           HINDUNILVR.NS      0.000040  0.000109      0.000089       0.000235   \n",
       "           ITC.NS             0.000213  0.000041      0.000122       0.000097   \n",
       "           AXISBANK.NS        0.000513  0.000017      0.000184       0.000003   \n",
       "           LT.NS              0.000477  0.000046      0.000195       0.000021   \n",
       "           SBIN.NS            0.000463  0.000005      0.000211       0.000027   \n",
       "           BAJFINANCE.NS      0.000469  0.000008      0.000237       0.000053   \n",
       "           BHARTIARTL.NS      0.000174  0.000080      0.000075       0.000065   \n",
       "           ASIANPAINT.NS      0.000190  0.000087      0.000139       0.000103   \n",
       "           HCLTECH.NS         0.000140  0.000177      0.000119       0.000079   \n",
       "           MARUTI.NS          0.000245  0.000073      0.000177       0.000089   \n",
       "           ULTRACEMCO.NS      0.000351  0.000066      0.000186       0.000045   \n",
       "           M&M.NS             0.000360  0.000059      0.000189       0.000062   \n",
       "           SUNPHARMA.NS       0.000131  0.000090      0.000175       0.000129   \n",
       "           TITAN.NS           0.000244  0.000082      0.000100       0.000112   \n",
       "           NESTLEIND.NS       0.000292  0.000112      0.000135       0.000145   \n",
       "           TECHM.NS           0.000152  0.000148      0.000121       0.000100   \n",
       "           BAJAJFINSV.NS      0.000421  0.000063      0.000207       0.000088   \n",
       "           POWERGRID.NS       0.000206  0.000030      0.000135       0.000041   \n",
       "           DRREDDY.NS         0.000122  0.000113      0.000119       0.000099   \n",
       "           INDUSINDBK.NS      0.000479 -0.000001      0.000184       0.000004   \n",
       "           NTPC.NS            0.000218  0.000097      0.000095       0.000090   \n",
       "           BAJAJ-AUTO.NS      0.000283  0.000031      0.000171       0.000101   \n",
       "           ONGC.NS            0.000164  0.000020      0.000155       0.000023   \n",
       "\n",
       "                            ITC.NS  AXISBANK.NS  ...  TITAN.NS  NESTLEIND.NS  \\\n",
       "Date                                             ...                           \n",
       "2021-04-09 RELIANCE.NS    0.000113     0.000403  ...  0.000090      0.000077   \n",
       "           HDFCBANK.NS    0.000080     0.000338  ...  0.000137      0.000074   \n",
       "           INFY.NS        0.000029     0.000193  ...  0.000090      0.000081   \n",
       "           HDFC.NS        0.000123     0.000350  ...  0.000140      0.000073   \n",
       "           ICICIBANK.NS   0.000118     0.000545  ...  0.000116      0.000070   \n",
       "           TCS.NS         0.000060     0.000048  ...  0.000104      0.000072   \n",
       "           KOTAKBANK.NS   0.000116     0.000335  ...  0.000081      0.000055   \n",
       "           HINDUNILVR.NS  0.000147     0.000009  ...  0.000144      0.000094   \n",
       "           ITC.NS         0.000355     0.000256  ...  0.000070      0.000046   \n",
       "           AXISBANK.NS    0.000134     0.000679  ...  0.000085      0.000047   \n",
       "           LT.NS          0.000136     0.000444  ...  0.000156      0.000073   \n",
       "           SBIN.NS        0.000197     0.000497  ...  0.000084      0.000052   \n",
       "           BAJFINANCE.NS  0.000188     0.000501  ...  0.000084      0.000063   \n",
       "           BHARTIARTL.NS  0.000064     0.000266  ...  0.000089      0.000045   \n",
       "           ASIANPAINT.NS  0.000065     0.000147  ...  0.000131      0.000078   \n",
       "           HCLTECH.NS     0.000017     0.000121  ...  0.000074      0.000066   \n",
       "           MARUTI.NS      0.000189     0.000293  ...  0.000114      0.000080   \n",
       "           ULTRACEMCO.NS  0.000127     0.000315  ...  0.000163      0.000068   \n",
       "           M&M.NS         0.000232     0.000442  ...  0.000098      0.000059   \n",
       "           SUNPHARMA.NS   0.000073     0.000163  ...  0.000086      0.000053   \n",
       "           TITAN.NS       0.000082     0.000192  ...  0.000303      0.000089   \n",
       "           NESTLEIND.NS   0.000107     0.000209  ...  0.000176      0.000153   \n",
       "           TECHM.NS       0.000043     0.000140  ...  0.000154      0.000080   \n",
       "           BAJAJFINSV.NS  0.000147     0.000424  ...  0.000164      0.000067   \n",
       "           POWERGRID.NS   0.000118     0.000204  ...  0.000067      0.000024   \n",
       "           DRREDDY.NS     0.000050     0.000123  ...  0.000060      0.000065   \n",
       "           INDUSINDBK.NS  0.000137     0.000481  ...  0.000084      0.000034   \n",
       "           NTPC.NS        0.000147     0.000274  ...  0.000086      0.000070   \n",
       "           BAJAJ-AUTO.NS  0.000178     0.000309  ...  0.000114      0.000069   \n",
       "           ONGC.NS        0.000114     0.000253  ...  0.000050      0.000020   \n",
       "\n",
       "                          TECHM.NS  BAJAJFINSV.NS  POWERGRID.NS  DRREDDY.NS  \\\n",
       "Date                                                                          \n",
       "2021-04-09 RELIANCE.NS    0.000134       0.000301      0.000268    0.000125   \n",
       "           HDFCBANK.NS    0.000138       0.000286      0.000221    0.000045   \n",
       "           INFY.NS        0.000277       0.000175      0.000152    0.000163   \n",
       "           HDFC.NS        0.000180       0.000408      0.000218    0.000106   \n",
       "           ICICIBANK.NS   0.000095       0.000410      0.000178    0.000060   \n",
       "           TCS.NS         0.000248       0.000164      0.000070    0.000147   \n",
       "           KOTAKBANK.NS   0.000130       0.000346      0.000201    0.000100   \n",
       "           HINDUNILVR.NS  0.000170       0.000234      0.000096    0.000132   \n",
       "           ITC.NS         0.000048       0.000258      0.000183    0.000044   \n",
       "           AXISBANK.NS    0.000083       0.000390      0.000166    0.000057   \n",
       "           LT.NS          0.000141       0.000418      0.000175    0.000067   \n",
       "           SBIN.NS        0.000069       0.000344      0.000214    0.000074   \n",
       "           BAJFINANCE.NS  0.000041       0.000438      0.000193    0.000066   \n",
       "           BHARTIARTL.NS  0.000148       0.000258      0.000081    0.000055   \n",
       "           ASIANPAINT.NS  0.000152       0.000266      0.000137    0.000140   \n",
       "           HCLTECH.NS     0.000271       0.000080      0.000198    0.000158   \n",
       "           MARUTI.NS      0.000165       0.000221      0.000169    0.000084   \n",
       "           ULTRACEMCO.NS  0.000119       0.000283      0.000181    0.000065   \n",
       "           M&M.NS         0.000149       0.000372      0.000176    0.000076   \n",
       "           SUNPHARMA.NS   0.000181       0.000233      0.000129    0.000185   \n",
       "           TITAN.NS       0.000204       0.000338      0.000122    0.000062   \n",
       "           NESTLEIND.NS   0.000209       0.000271      0.000088    0.000134   \n",
       "           TECHM.NS       0.000401       0.000181      0.000165    0.000115   \n",
       "           BAJAJFINSV.NS  0.000116       0.000624      0.000114    0.000075   \n",
       "           POWERGRID.NS   0.000120       0.000129      0.000552    0.000072   \n",
       "           DRREDDY.NS     0.000147       0.000150      0.000127    0.000313   \n",
       "           INDUSINDBK.NS  0.000047       0.000338      0.000253    0.000072   \n",
       "           NTPC.NS        0.000154       0.000208      0.000309    0.000109   \n",
       "           BAJAJ-AUTO.NS  0.000111       0.000330      0.000130    0.000084   \n",
       "           ONGC.NS        0.000104       0.000179      0.000313    0.000066   \n",
       "\n",
       "                          INDUSINDBK.NS   NTPC.NS  BAJAJ-AUTO.NS   ONGC.NS  \n",
       "Date                                                                        \n",
       "2021-04-09 RELIANCE.NS         0.000511  0.000251       0.000150  0.000293  \n",
       "           HDFCBANK.NS         0.000493  0.000147       0.000193  0.000215  \n",
       "           INFY.NS             0.000167  0.000209       0.000078  0.000153  \n",
       "           HDFC.NS             0.000523  0.000126       0.000196  0.000227  \n",
       "           ICICIBANK.NS        0.000723  0.000137       0.000194  0.000198  \n",
       "           TCS.NS             -0.000006  0.000162       0.000057  0.000064  \n",
       "           KOTAKBANK.NS        0.000476  0.000102       0.000201  0.000321  \n",
       "           HINDUNILVR.NS       0.000017  0.000154       0.000189  0.000075  \n",
       "           ITC.NS              0.000372  0.000166       0.000220  0.000247  \n",
       "           AXISBANK.NS         0.000684  0.000162       0.000200  0.000287  \n",
       "           LT.NS               0.000542  0.000167       0.000222  0.000325  \n",
       "           SBIN.NS             0.000664  0.000184       0.000212  0.000336  \n",
       "           BAJFINANCE.NS       0.000644  0.000156       0.000263  0.000230  \n",
       "           BHARTIARTL.NS       0.000254  0.000100       0.000192  0.000178  \n",
       "           ASIANPAINT.NS       0.000186  0.000136       0.000173  0.000295  \n",
       "           HCLTECH.NS          0.000147  0.000214       0.000061  0.000208  \n",
       "           MARUTI.NS           0.000342  0.000151       0.000289  0.000290  \n",
       "           ULTRACEMCO.NS       0.000409  0.000152       0.000194  0.000239  \n",
       "           M&M.NS              0.000518  0.000178       0.000294  0.000301  \n",
       "           SUNPHARMA.NS        0.000248  0.000142       0.000199  0.000288  \n",
       "           TITAN.NS            0.000267  0.000115       0.000165  0.000128  \n",
       "           NESTLEIND.NS        0.000216  0.000185       0.000196  0.000098  \n",
       "           TECHM.NS            0.000113  0.000154       0.000121  0.000199  \n",
       "           BAJAJFINSV.NS       0.000523  0.000134       0.000232  0.000221  \n",
       "           POWERGRID.NS        0.000443  0.000225       0.000103  0.000437  \n",
       "           DRREDDY.NS          0.000222  0.000140       0.000118  0.000163  \n",
       "           INDUSINDBK.NS       0.000966  0.000162       0.000175  0.000234  \n",
       "           NTPC.NS             0.000390  0.000402       0.000143  0.000372  \n",
       "           BAJAJ-AUTO.NS       0.000384  0.000131       0.000439  0.000216  \n",
       "           ONGC.NS             0.000294  0.000194       0.000123  0.000771  \n",
       "\n",
       "[30 rows x 30 columns]"
      ],
      "text/html": "<div>\n<style scoped>\n    .dataframe tbody tr th:only-of-type {\n        vertical-align: middle;\n    }\n\n    .dataframe tbody tr th {\n        vertical-align: top;\n    }\n\n    .dataframe thead th {\n        text-align: right;\n    }\n</style>\n<table border=\"1\" class=\"dataframe\">\n  <thead>\n    <tr style=\"text-align: right;\">\n      <th></th>\n      <th></th>\n      <th>RELIANCE.NS</th>\n      <th>HDFCBANK.NS</th>\n      <th>INFY.NS</th>\n      <th>HDFC.NS</th>\n      <th>ICICIBANK.NS</th>\n      <th>TCS.NS</th>\n      <th>KOTAKBANK.NS</th>\n      <th>HINDUNILVR.NS</th>\n      <th>ITC.NS</th>\n      <th>AXISBANK.NS</th>\n      <th>...</th>\n      <th>TITAN.NS</th>\n      <th>NESTLEIND.NS</th>\n      <th>TECHM.NS</th>\n      <th>BAJAJFINSV.NS</th>\n      <th>POWERGRID.NS</th>\n      <th>DRREDDY.NS</th>\n      <th>INDUSINDBK.NS</th>\n      <th>NTPC.NS</th>\n      <th>BAJAJ-AUTO.NS</th>\n      <th>ONGC.NS</th>\n    </tr>\n    <tr>\n      <th>Date</th>\n      <th></th>\n      <th></th>\n      <th></th>\n      <th></th>\n      <th></th>\n      <th></th>\n      <th></th>\n      <th></th>\n      <th></th>\n      <th></th>\n      <th></th>\n      <th></th>\n      <th></th>\n      <th></th>\n      <th></th>\n      <th></th>\n      <th></th>\n      <th></th>\n      <th></th>\n      <th></th>\n      <th></th>\n      <th></th>\n    </tr>\n  </thead>\n  <tbody>\n    <tr>\n      <th rowspan=\"30\" valign=\"top\">2021-04-09</th>\n      <th>RELIANCE.NS</th>\n      <td>0.000368</td>\n      <td>0.000204</td>\n      <td>0.000125</td>\n      <td>0.000248</td>\n      <td>0.000363</td>\n      <td>0.000091</td>\n      <td>0.000184</td>\n      <td>0.000077</td>\n      <td>0.000113</td>\n      <td>0.000403</td>\n      <td>...</td>\n      <td>0.000090</td>\n      <td>0.000077</td>\n      <td>0.000134</td>\n      <td>0.000301</td>\n      <td>0.000268</td>\n      <td>0.000125</td>\n      <td>0.000511</td>\n      <td>0.000251</td>\n      <td>0.000150</td>\n      <td>0.000293</td>\n    </tr>\n    <tr>\n      <th>HDFCBANK.NS</th>\n      <td>0.000184</td>\n      <td>0.000408</td>\n      <td>0.000100</td>\n      <td>0.000389</td>\n      <td>0.000472</td>\n      <td>0.000041</td>\n      <td>0.000222</td>\n      <td>0.000060</td>\n      <td>0.000080</td>\n      <td>0.000338</td>\n      <td>...</td>\n      <td>0.000137</td>\n      <td>0.000074</td>\n      <td>0.000138</td>\n      <td>0.000286</td>\n      <td>0.000221</td>\n      <td>0.000045</td>\n      <td>0.000493</td>\n      <td>0.000147</td>\n      <td>0.000193</td>\n      <td>0.000215</td>\n    </tr>\n    <tr>\n      <th>INFY.NS</th>\n      <td>0.000174</td>\n      <td>0.000154</td>\n      <td>0.000264</td>\n      <td>0.000207</td>\n      <td>0.000236</td>\n      <td>0.000184</td>\n      <td>0.000115</td>\n      <td>0.000075</td>\n      <td>0.000029</td>\n      <td>0.000193</td>\n      <td>...</td>\n      <td>0.000090</td>\n      <td>0.000081</td>\n      <td>0.000277</td>\n      <td>0.000175</td>\n      <td>0.000152</td>\n      <td>0.000163</td>\n      <td>0.000167</td>\n      <td>0.000209</td>\n      <td>0.000078</td>\n      <td>0.000153</td>\n    </tr>\n    <tr>\n      <th>HDFC.NS</th>\n      <td>0.000179</td>\n      <td>0.000312</td>\n      <td>0.000108</td>\n      <td>0.000508</td>\n      <td>0.000471</td>\n      <td>0.000054</td>\n      <td>0.000261</td>\n      <td>0.000074</td>\n      <td>0.000123</td>\n      <td>0.000350</td>\n      <td>...</td>\n      <td>0.000140</td>\n      <td>0.000073</td>\n      <td>0.000180</td>\n      <td>0.000408</td>\n      <td>0.000218</td>\n      <td>0.000106</td>\n      <td>0.000523</td>\n      <td>0.000126</td>\n      <td>0.000196</td>\n      <td>0.000227</td>\n    </tr>\n    <tr>\n      <th>ICICIBANK.NS</th>\n      <td>0.000209</td>\n      <td>0.000301</td>\n      <td>0.000098</td>\n      <td>0.000374</td>\n      <td>0.000640</td>\n      <td>0.000024</td>\n      <td>0.000232</td>\n      <td>0.000015</td>\n      <td>0.000118</td>\n      <td>0.000545</td>\n      <td>...</td>\n      <td>0.000116</td>\n      <td>0.000070</td>\n      <td>0.000095</td>\n      <td>0.000410</td>\n      <td>0.000178</td>\n      <td>0.000060</td>\n      <td>0.000723</td>\n      <td>0.000137</td>\n      <td>0.000194</td>\n      <td>0.000198</td>\n    </tr>\n    <tr>\n      <th>TCS.NS</th>\n      <td>0.000139</td>\n      <td>0.000069</td>\n      <td>0.000203</td>\n      <td>0.000114</td>\n      <td>0.000063</td>\n      <td>0.000239</td>\n      <td>0.000047</td>\n      <td>0.000107</td>\n      <td>0.000060</td>\n      <td>0.000048</td>\n      <td>...</td>\n      <td>0.000104</td>\n      <td>0.000072</td>\n      <td>0.000248</td>\n      <td>0.000164</td>\n      <td>0.000070</td>\n      <td>0.000147</td>\n      <td>-0.000006</td>\n      <td>0.000162</td>\n      <td>0.000057</td>\n      <td>0.000064</td>\n    </tr>\n    <tr>\n      <th>KOTAKBANK.NS</th>\n      <td>0.000181</td>\n      <td>0.000243</td>\n      <td>0.000082</td>\n      <td>0.000355</td>\n      <td>0.000398</td>\n      <td>0.000030</td>\n      <td>0.000373</td>\n      <td>0.000056</td>\n      <td>0.000116</td>\n      <td>0.000335</td>\n      <td>...</td>\n      <td>0.000081</td>\n      <td>0.000055</td>\n      <td>0.000130</td>\n      <td>0.000346</td>\n      <td>0.000201</td>\n      <td>0.000100</td>\n      <td>0.000476</td>\n      <td>0.000102</td>\n      <td>0.000201</td>\n      <td>0.000321</td>\n    </tr>\n    <tr>\n      <th>HINDUNILVR.NS</th>\n      <td>0.000121</td>\n      <td>0.000103</td>\n      <td>0.000084</td>\n      <td>0.000160</td>\n      <td>0.000040</td>\n      <td>0.000109</td>\n      <td>0.000089</td>\n      <td>0.000235</td>\n      <td>0.000147</td>\n      <td>0.000009</td>\n      <td>...</td>\n      <td>0.000144</td>\n      <td>0.000094</td>\n      <td>0.000170</td>\n      <td>0.000234</td>\n      <td>0.000096</td>\n      <td>0.000132</td>\n      <td>0.000017</td>\n      <td>0.000154</td>\n      <td>0.000189</td>\n      <td>0.000075</td>\n    </tr>\n    <tr>\n      <th>ITC.NS</th>\n      <td>0.000117</td>\n      <td>0.000092</td>\n      <td>0.000022</td>\n      <td>0.000176</td>\n      <td>0.000213</td>\n      <td>0.000041</td>\n      <td>0.000122</td>\n      <td>0.000097</td>\n      <td>0.000355</td>\n      <td>0.000256</td>\n      <td>...</td>\n      <td>0.000070</td>\n      <td>0.000046</td>\n      <td>0.000048</td>\n      <td>0.000258</td>\n      <td>0.000183</td>\n      <td>0.000044</td>\n      <td>0.000372</td>\n      <td>0.000166</td>\n      <td>0.000220</td>\n      <td>0.000247</td>\n    </tr>\n    <tr>\n      <th>AXISBANK.NS</th>\n      <td>0.000218</td>\n      <td>0.000203</td>\n      <td>0.000075</td>\n      <td>0.000262</td>\n      <td>0.000513</td>\n      <td>0.000017</td>\n      <td>0.000184</td>\n      <td>0.000003</td>\n      <td>0.000134</td>\n      <td>0.000679</td>\n      <td>...</td>\n      <td>0.000085</td>\n      <td>0.000047</td>\n      <td>0.000083</td>\n      <td>0.000390</td>\n      <td>0.000166</td>\n      <td>0.000057</td>\n      <td>0.000684</td>\n      <td>0.000162</td>\n      <td>0.000200</td>\n      <td>0.000287</td>\n    </tr>\n    <tr>\n      <th>LT.NS</th>\n      <td>0.000173</td>\n      <td>0.000237</td>\n      <td>0.000093</td>\n      <td>0.000333</td>\n      <td>0.000477</td>\n      <td>0.000046</td>\n      <td>0.000195</td>\n      <td>0.000021</td>\n      <td>0.000136</td>\n      <td>0.000444</td>\n      <td>...</td>\n      <td>0.000156</td>\n      <td>0.000073</td>\n      <td>0.000141</td>\n      <td>0.000418</td>\n      <td>0.000175</td>\n      <td>0.000067</td>\n      <td>0.000542</td>\n      <td>0.000167</td>\n      <td>0.000222</td>\n      <td>0.000325</td>\n    </tr>\n    <tr>\n      <th>SBIN.NS</th>\n      <td>0.000190</td>\n      <td>0.000210</td>\n      <td>0.000052</td>\n      <td>0.000252</td>\n      <td>0.000463</td>\n      <td>0.000005</td>\n      <td>0.000211</td>\n      <td>0.000027</td>\n      <td>0.000197</td>\n      <td>0.000497</td>\n      <td>...</td>\n      <td>0.000084</td>\n      <td>0.000052</td>\n      <td>0.000069</td>\n      <td>0.000344</td>\n      <td>0.000214</td>\n      <td>0.000074</td>\n      <td>0.000664</td>\n      <td>0.000184</td>\n      <td>0.000212</td>\n      <td>0.000336</td>\n    </tr>\n    <tr>\n      <th>BAJFINANCE.NS</th>\n      <td>0.000216</td>\n      <td>0.000228</td>\n      <td>0.000053</td>\n      <td>0.000327</td>\n      <td>0.000469</td>\n      <td>0.000008</td>\n      <td>0.000237</td>\n      <td>0.000053</td>\n      <td>0.000188</td>\n      <td>0.000501</td>\n      <td>...</td>\n      <td>0.000084</td>\n      <td>0.000063</td>\n      <td>0.000041</td>\n      <td>0.000438</td>\n      <td>0.000193</td>\n      <td>0.000066</td>\n      <td>0.000644</td>\n      <td>0.000156</td>\n      <td>0.000263</td>\n      <td>0.000230</td>\n    </tr>\n    <tr>\n      <th>BHARTIARTL.NS</th>\n      <td>0.000130</td>\n      <td>0.000126</td>\n      <td>0.000087</td>\n      <td>0.000158</td>\n      <td>0.000174</td>\n      <td>0.000080</td>\n      <td>0.000075</td>\n      <td>0.000065</td>\n      <td>0.000064</td>\n      <td>0.000266</td>\n      <td>...</td>\n      <td>0.000089</td>\n      <td>0.000045</td>\n      <td>0.000148</td>\n      <td>0.000258</td>\n      <td>0.000081</td>\n      <td>0.000055</td>\n      <td>0.000254</td>\n      <td>0.000100</td>\n      <td>0.000192</td>\n      <td>0.000178</td>\n    </tr>\n    <tr>\n      <th>ASIANPAINT.NS</th>\n      <td>0.000119</td>\n      <td>0.000163</td>\n      <td>0.000094</td>\n      <td>0.000261</td>\n      <td>0.000190</td>\n      <td>0.000087</td>\n      <td>0.000139</td>\n      <td>0.000103</td>\n      <td>0.000065</td>\n      <td>0.000147</td>\n      <td>...</td>\n      <td>0.000131</td>\n      <td>0.000078</td>\n      <td>0.000152</td>\n      <td>0.000266</td>\n      <td>0.000137</td>\n      <td>0.000140</td>\n      <td>0.000186</td>\n      <td>0.000136</td>\n      <td>0.000173</td>\n      <td>0.000295</td>\n    </tr>\n    <tr>\n      <th>HCLTECH.NS</th>\n      <td>0.000179</td>\n      <td>0.000123</td>\n      <td>0.000227</td>\n      <td>0.000146</td>\n      <td>0.000140</td>\n      <td>0.000177</td>\n      <td>0.000119</td>\n      <td>0.000079</td>\n      <td>0.000017</td>\n      <td>0.000121</td>\n      <td>...</td>\n      <td>0.000074</td>\n      <td>0.000066</td>\n      <td>0.000271</td>\n      <td>0.000080</td>\n      <td>0.000198</td>\n      <td>0.000158</td>\n      <td>0.000147</td>\n      <td>0.000214</td>\n      <td>0.000061</td>\n      <td>0.000208</td>\n    </tr>\n    <tr>\n      <th>MARUTI.NS</th>\n      <td>0.000165</td>\n      <td>0.000151</td>\n      <td>0.000091</td>\n      <td>0.000164</td>\n      <td>0.000245</td>\n      <td>0.000073</td>\n      <td>0.000177</td>\n      <td>0.000089</td>\n      <td>0.000189</td>\n      <td>0.000293</td>\n      <td>...</td>\n      <td>0.000114</td>\n      <td>0.000080</td>\n      <td>0.000165</td>\n      <td>0.000221</td>\n      <td>0.000169</td>\n      <td>0.000084</td>\n      <td>0.000342</td>\n      <td>0.000151</td>\n      <td>0.000289</td>\n      <td>0.000290</td>\n    </tr>\n    <tr>\n      <th>ULTRACEMCO.NS</th>\n      <td>0.000202</td>\n      <td>0.000179</td>\n      <td>0.000073</td>\n      <td>0.000220</td>\n      <td>0.000351</td>\n      <td>0.000066</td>\n      <td>0.000186</td>\n      <td>0.000045</td>\n      <td>0.000127</td>\n      <td>0.000315</td>\n      <td>...</td>\n      <td>0.000163</td>\n      <td>0.000068</td>\n      <td>0.000119</td>\n      <td>0.000283</td>\n      <td>0.000181</td>\n      <td>0.000065</td>\n      <td>0.000409</td>\n      <td>0.000152</td>\n      <td>0.000194</td>\n      <td>0.000239</td>\n    </tr>\n    <tr>\n      <th>M&amp;M.NS</th>\n      <td>0.000165</td>\n      <td>0.000149</td>\n      <td>0.000079</td>\n      <td>0.000250</td>\n      <td>0.000360</td>\n      <td>0.000059</td>\n      <td>0.000189</td>\n      <td>0.000062</td>\n      <td>0.000232</td>\n      <td>0.000442</td>\n      <td>...</td>\n      <td>0.000098</td>\n      <td>0.000059</td>\n      <td>0.000149</td>\n      <td>0.000372</td>\n      <td>0.000176</td>\n      <td>0.000076</td>\n      <td>0.000518</td>\n      <td>0.000178</td>\n      <td>0.000294</td>\n      <td>0.000301</td>\n    </tr>\n    <tr>\n      <th>SUNPHARMA.NS</th>\n      <td>0.000122</td>\n      <td>0.000107</td>\n      <td>0.000102</td>\n      <td>0.000205</td>\n      <td>0.000131</td>\n      <td>0.000090</td>\n      <td>0.000175</td>\n      <td>0.000129</td>\n      <td>0.000073</td>\n      <td>0.000163</td>\n      <td>...</td>\n      <td>0.000086</td>\n      <td>0.000053</td>\n      <td>0.000181</td>\n      <td>0.000233</td>\n      <td>0.000129</td>\n      <td>0.000185</td>\n      <td>0.000248</td>\n      <td>0.000142</td>\n      <td>0.000199</td>\n      <td>0.000288</td>\n    </tr>\n    <tr>\n      <th>TITAN.NS</th>\n      <td>0.000110</td>\n      <td>0.000184</td>\n      <td>0.000079</td>\n      <td>0.000235</td>\n      <td>0.000244</td>\n      <td>0.000082</td>\n      <td>0.000100</td>\n      <td>0.000112</td>\n      <td>0.000082</td>\n      <td>0.000192</td>\n      <td>...</td>\n      <td>0.000303</td>\n      <td>0.000089</td>\n      <td>0.000204</td>\n      <td>0.000338</td>\n      <td>0.000122</td>\n      <td>0.000062</td>\n      <td>0.000267</td>\n      <td>0.000115</td>\n      <td>0.000165</td>\n      <td>0.000128</td>\n    </tr>\n    <tr>\n      <th>NESTLEIND.NS</th>\n      <td>0.000185</td>\n      <td>0.000197</td>\n      <td>0.000140</td>\n      <td>0.000241</td>\n      <td>0.000292</td>\n      <td>0.000112</td>\n      <td>0.000135</td>\n      <td>0.000145</td>\n      <td>0.000107</td>\n      <td>0.000209</td>\n      <td>...</td>\n      <td>0.000176</td>\n      <td>0.000153</td>\n      <td>0.000209</td>\n      <td>0.000271</td>\n      <td>0.000088</td>\n      <td>0.000134</td>\n      <td>0.000216</td>\n      <td>0.000185</td>\n      <td>0.000196</td>\n      <td>0.000098</td>\n    </tr>\n    <tr>\n      <th>TECHM.NS</th>\n      <td>0.000123</td>\n      <td>0.000140</td>\n      <td>0.000182</td>\n      <td>0.000227</td>\n      <td>0.000152</td>\n      <td>0.000148</td>\n      <td>0.000121</td>\n      <td>0.000100</td>\n      <td>0.000043</td>\n      <td>0.000140</td>\n      <td>...</td>\n      <td>0.000154</td>\n      <td>0.000080</td>\n      <td>0.000401</td>\n      <td>0.000181</td>\n      <td>0.000165</td>\n      <td>0.000115</td>\n      <td>0.000113</td>\n      <td>0.000154</td>\n      <td>0.000121</td>\n      <td>0.000199</td>\n    </tr>\n    <tr>\n      <th>BAJAJFINSV.NS</th>\n      <td>0.000177</td>\n      <td>0.000187</td>\n      <td>0.000074</td>\n      <td>0.000331</td>\n      <td>0.000421</td>\n      <td>0.000063</td>\n      <td>0.000207</td>\n      <td>0.000088</td>\n      <td>0.000147</td>\n      <td>0.000424</td>\n      <td>...</td>\n      <td>0.000164</td>\n      <td>0.000067</td>\n      <td>0.000116</td>\n      <td>0.000624</td>\n      <td>0.000114</td>\n      <td>0.000075</td>\n      <td>0.000523</td>\n      <td>0.000134</td>\n      <td>0.000232</td>\n      <td>0.000221</td>\n    </tr>\n    <tr>\n      <th>POWERGRID.NS</th>\n      <td>0.000179</td>\n      <td>0.000163</td>\n      <td>0.000073</td>\n      <td>0.000200</td>\n      <td>0.000206</td>\n      <td>0.000030</td>\n      <td>0.000135</td>\n      <td>0.000041</td>\n      <td>0.000118</td>\n      <td>0.000204</td>\n      <td>...</td>\n      <td>0.000067</td>\n      <td>0.000024</td>\n      <td>0.000120</td>\n      <td>0.000129</td>\n      <td>0.000552</td>\n      <td>0.000072</td>\n      <td>0.000443</td>\n      <td>0.000225</td>\n      <td>0.000103</td>\n      <td>0.000437</td>\n    </tr>\n    <tr>\n      <th>DRREDDY.NS</th>\n      <td>0.000147</td>\n      <td>0.000059</td>\n      <td>0.000138</td>\n      <td>0.000171</td>\n      <td>0.000122</td>\n      <td>0.000113</td>\n      <td>0.000119</td>\n      <td>0.000099</td>\n      <td>0.000050</td>\n      <td>0.000123</td>\n      <td>...</td>\n      <td>0.000060</td>\n      <td>0.000065</td>\n      <td>0.000147</td>\n      <td>0.000150</td>\n      <td>0.000127</td>\n      <td>0.000313</td>\n      <td>0.000222</td>\n      <td>0.000140</td>\n      <td>0.000118</td>\n      <td>0.000163</td>\n    </tr>\n    <tr>\n      <th>INDUSINDBK.NS</th>\n      <td>0.000195</td>\n      <td>0.000208</td>\n      <td>0.000046</td>\n      <td>0.000275</td>\n      <td>0.000479</td>\n      <td>-0.000001</td>\n      <td>0.000184</td>\n      <td>0.000004</td>\n      <td>0.000137</td>\n      <td>0.000481</td>\n      <td>...</td>\n      <td>0.000084</td>\n      <td>0.000034</td>\n      <td>0.000047</td>\n      <td>0.000338</td>\n      <td>0.000253</td>\n      <td>0.000072</td>\n      <td>0.000966</td>\n      <td>0.000162</td>\n      <td>0.000175</td>\n      <td>0.000234</td>\n    </tr>\n    <tr>\n      <th>NTPC.NS</th>\n      <td>0.000229</td>\n      <td>0.000149</td>\n      <td>0.000137</td>\n      <td>0.000159</td>\n      <td>0.000218</td>\n      <td>0.000097</td>\n      <td>0.000095</td>\n      <td>0.000090</td>\n      <td>0.000147</td>\n      <td>0.000274</td>\n      <td>...</td>\n      <td>0.000086</td>\n      <td>0.000070</td>\n      <td>0.000154</td>\n      <td>0.000208</td>\n      <td>0.000309</td>\n      <td>0.000109</td>\n      <td>0.000390</td>\n      <td>0.000402</td>\n      <td>0.000143</td>\n      <td>0.000372</td>\n    </tr>\n    <tr>\n      <th>BAJAJ-AUTO.NS</th>\n      <td>0.000126</td>\n      <td>0.000179</td>\n      <td>0.000047</td>\n      <td>0.000226</td>\n      <td>0.000283</td>\n      <td>0.000031</td>\n      <td>0.000171</td>\n      <td>0.000101</td>\n      <td>0.000178</td>\n      <td>0.000309</td>\n      <td>...</td>\n      <td>0.000114</td>\n      <td>0.000069</td>\n      <td>0.000111</td>\n      <td>0.000330</td>\n      <td>0.000130</td>\n      <td>0.000084</td>\n      <td>0.000384</td>\n      <td>0.000131</td>\n      <td>0.000439</td>\n      <td>0.000216</td>\n    </tr>\n    <tr>\n      <th>ONGC.NS</th>\n      <td>0.000140</td>\n      <td>0.000114</td>\n      <td>0.000053</td>\n      <td>0.000149</td>\n      <td>0.000164</td>\n      <td>0.000020</td>\n      <td>0.000155</td>\n      <td>0.000023</td>\n      <td>0.000114</td>\n      <td>0.000253</td>\n      <td>...</td>\n      <td>0.000050</td>\n      <td>0.000020</td>\n      <td>0.000104</td>\n      <td>0.000179</td>\n      <td>0.000313</td>\n      <td>0.000066</td>\n      <td>0.000294</td>\n      <td>0.000194</td>\n      <td>0.000123</td>\n      <td>0.000771</td>\n    </tr>\n  </tbody>\n</table>\n<p>30 rows × 30 columns</p>\n</div>"
     },
     "metadata": {},
     "execution_count": 16
    }
   ],
   "source": [
    "ewma_cov"
   ]
  },
  {
   "cell_type": "code",
   "execution_count": 17,
   "metadata": {},
   "outputs": [],
   "source": [
    "portfolio_std = portfolio_vol(W, ewma_cov)\n",
    "portfolio_ret = portfolio_return(W, rets.mean())"
   ]
  },
  {
   "cell_type": "code",
   "execution_count": 18,
   "metadata": {},
   "outputs": [
    {
     "output_type": "execute_result",
     "data": {
      "text/plain": [
       "0.22352552159255173"
      ]
     },
     "metadata": {},
     "execution_count": 18
    }
   ],
   "source": [
    "portfolio_std * np.sqrt(252)"
   ]
  },
  {
   "cell_type": "code",
   "execution_count": 19,
   "metadata": {},
   "outputs": [
    {
     "output_type": "execute_result",
     "data": {
      "text/plain": [
       "0.19618081466219375"
      ]
     },
     "metadata": {},
     "execution_count": 19
    }
   ],
   "source": [
    "portfolio_ret * 252"
   ]
  },
  {
   "cell_type": "code",
   "execution_count": 20,
   "metadata": {},
   "outputs": [],
   "source": [
    "from scipy.stats import norm\n",
    "portfolio_var = portfolio_std * norm.ppf(99/100)\n",
    "AUM = 1962.95"
   ]
  },
  {
   "cell_type": "code",
   "execution_count": 21,
   "metadata": {},
   "outputs": [
    {
     "output_type": "stream",
     "name": "stdout",
     "text": [
      "Portfolio Value At Risk (In one Day) = 0.03275680268814754 % or 64.29996583669922 Cr Rupees\n"
     ]
    }
   ],
   "source": [
    "print(f'Portfolio Value At Risk (In one Day) = {portfolio_var} % or {portfolio_var * AUM} Cr Rupees')"
   ]
  },
  {
   "source": [
    "### B. Backtest your model over the last 2 months; if backtest fails, suggest how you can improve the model."
   ],
   "cell_type": "markdown",
   "metadata": {}
  },
  {
   "cell_type": "code",
   "execution_count": 22,
   "metadata": {},
   "outputs": [],
   "source": [
    "# Last 2 months data\n",
    "S2m = S.iloc[-42:-1,:]"
   ]
  },
  {
   "cell_type": "code",
   "execution_count": 23,
   "metadata": {},
   "outputs": [
    {
     "output_type": "stream",
     "name": "stdout",
     "text": [
      "(30,)\n(41, 30)\n"
     ]
    }
   ],
   "source": [
    "print(W.shape)\n",
    "print(S2m.shape)"
   ]
  },
  {
   "cell_type": "code",
   "execution_count": 24,
   "metadata": {},
   "outputs": [
    {
     "output_type": "execute_result",
     "data": {
      "text/plain": [
       "            RELIANCE.NS  HDFCBANK.NS      INFY.NS      HDFC.NS  ICICIBANK.NS  \\\n",
       "Date                                                                           \n",
       "2021-02-08  1951.449951  1605.250000  1303.550049  2733.350098    629.599976   \n",
       "2021-02-09  1956.150024  1611.849976  1305.550049  2747.050049    633.349976   \n",
       "\n",
       "                 TCS.NS  KOTAKBANK.NS  HINDUNILVR.NS      ITC.NS  AXISBANK.NS  \\\n",
       "Date                                                                            \n",
       "2021-02-08  3214.100098   1957.150024    2236.649902  233.100006   736.150024   \n",
       "2021-02-09  3176.899902   1949.150024    2216.250000  229.000000   742.500000   \n",
       "\n",
       "            ...     TITAN.NS  NESTLEIND.NS    TECHM.NS  BAJAJFINSV.NS  \\\n",
       "Date        ...                                                         \n",
       "2021-02-08  ...  1541.699951  17218.199219  982.549988   10021.049805   \n",
       "2021-02-09  ...  1559.900024  17318.949219  975.099976    9941.650391   \n",
       "\n",
       "            POWERGRID.NS   DRREDDY.NS  INDUSINDBK.NS     NTPC.NS  \\\n",
       "Date                                                               \n",
       "2021-02-08    212.550003  4859.799805    1035.099976  100.300003   \n",
       "2021-02-09    210.750000  4844.100098    1025.800049   99.949997   \n",
       "\n",
       "            BAJAJ-AUTO.NS     ONGC.NS  \n",
       "Date                                   \n",
       "2021-02-08    4237.450195   99.650002  \n",
       "2021-02-09    4154.899902  101.000000  \n",
       "\n",
       "[2 rows x 30 columns]"
      ],
      "text/html": "<div>\n<style scoped>\n    .dataframe tbody tr th:only-of-type {\n        vertical-align: middle;\n    }\n\n    .dataframe tbody tr th {\n        vertical-align: top;\n    }\n\n    .dataframe thead th {\n        text-align: right;\n    }\n</style>\n<table border=\"1\" class=\"dataframe\">\n  <thead>\n    <tr style=\"text-align: right;\">\n      <th></th>\n      <th>RELIANCE.NS</th>\n      <th>HDFCBANK.NS</th>\n      <th>INFY.NS</th>\n      <th>HDFC.NS</th>\n      <th>ICICIBANK.NS</th>\n      <th>TCS.NS</th>\n      <th>KOTAKBANK.NS</th>\n      <th>HINDUNILVR.NS</th>\n      <th>ITC.NS</th>\n      <th>AXISBANK.NS</th>\n      <th>...</th>\n      <th>TITAN.NS</th>\n      <th>NESTLEIND.NS</th>\n      <th>TECHM.NS</th>\n      <th>BAJAJFINSV.NS</th>\n      <th>POWERGRID.NS</th>\n      <th>DRREDDY.NS</th>\n      <th>INDUSINDBK.NS</th>\n      <th>NTPC.NS</th>\n      <th>BAJAJ-AUTO.NS</th>\n      <th>ONGC.NS</th>\n    </tr>\n    <tr>\n      <th>Date</th>\n      <th></th>\n      <th></th>\n      <th></th>\n      <th></th>\n      <th></th>\n      <th></th>\n      <th></th>\n      <th></th>\n      <th></th>\n      <th></th>\n      <th></th>\n      <th></th>\n      <th></th>\n      <th></th>\n      <th></th>\n      <th></th>\n      <th></th>\n      <th></th>\n      <th></th>\n      <th></th>\n      <th></th>\n    </tr>\n  </thead>\n  <tbody>\n    <tr>\n      <th>2021-02-08</th>\n      <td>1951.449951</td>\n      <td>1605.250000</td>\n      <td>1303.550049</td>\n      <td>2733.350098</td>\n      <td>629.599976</td>\n      <td>3214.100098</td>\n      <td>1957.150024</td>\n      <td>2236.649902</td>\n      <td>233.100006</td>\n      <td>736.150024</td>\n      <td>...</td>\n      <td>1541.699951</td>\n      <td>17218.199219</td>\n      <td>982.549988</td>\n      <td>10021.049805</td>\n      <td>212.550003</td>\n      <td>4859.799805</td>\n      <td>1035.099976</td>\n      <td>100.300003</td>\n      <td>4237.450195</td>\n      <td>99.650002</td>\n    </tr>\n    <tr>\n      <th>2021-02-09</th>\n      <td>1956.150024</td>\n      <td>1611.849976</td>\n      <td>1305.550049</td>\n      <td>2747.050049</td>\n      <td>633.349976</td>\n      <td>3176.899902</td>\n      <td>1949.150024</td>\n      <td>2216.250000</td>\n      <td>229.000000</td>\n      <td>742.500000</td>\n      <td>...</td>\n      <td>1559.900024</td>\n      <td>17318.949219</td>\n      <td>975.099976</td>\n      <td>9941.650391</td>\n      <td>210.750000</td>\n      <td>4844.100098</td>\n      <td>1025.800049</td>\n      <td>99.949997</td>\n      <td>4154.899902</td>\n      <td>101.000000</td>\n    </tr>\n  </tbody>\n</table>\n<p>2 rows × 30 columns</p>\n</div>"
     },
     "metadata": {},
     "execution_count": 24
    }
   ],
   "source": [
    "S2m.head(2)"
   ]
  },
  {
   "cell_type": "code",
   "execution_count": 25,
   "metadata": {},
   "outputs": [],
   "source": [
    "# Positions in the assets\n",
    "sn = np.array([1201000,1512000,1361000,669000,2564000,390000,486000,977000,332000,3246000,449000,1426000,98590,893000,168000,403000,49420,356000,42910,401000,211000,155000,22470,13240,230000,953000,45100,1799000,48410,1356000])"
   ]
  },
  {
   "cell_type": "code",
   "execution_count": 26,
   "metadata": {},
   "outputs": [
    {
     "output_type": "execute_result",
     "data": {
      "text/plain": [
       "(30,)"
      ]
     },
     "metadata": {},
     "execution_count": 26
    }
   ],
   "source": [
    "sn.shape"
   ]
  },
  {
   "cell_type": "code",
   "execution_count": 27,
   "metadata": {},
   "outputs": [
    {
     "output_type": "execute_result",
     "data": {
      "text/plain": [
       "[4.090791435119627,\n",
       " -6.9648186445615465,\n",
       " 16.943983253509487,\n",
       " -1.8525806950074184,\n",
       " 27.29916744036882,\n",
       " -11.779567996215974,\n",
       " -33.776855065154905,\n",
       " -24.519371497314296,\n",
       " -17.40497381680325,\n",
       " -72.8353846263426,\n",
       " 5.819208554107718,\n",
       " 49.42765845590202,\n",
       " 13.271197794494583,\n",
       " -98.23530269274897,\n",
       " 41.7793445602415,\n",
       " 20.299747833984384,\n",
       " 65.07087479455595,\n",
       " -12.97377808630381,\n",
       " -21.438335689087126,\n",
       " -0.8157423883667434,\n",
       " 23.25126783563246,\n",
       " 22.15614375186169,\n",
       " -36.772337527526815,\n",
       " -25.695975130096485,\n",
       " 9.42509895184321,\n",
       " -42.15431425781253,\n",
       " -44.77269671856675,\n",
       " 44.9178290301511,\n",
       " 7.953145694732939,\n",
       " 24.706801675109546,\n",
       " -46.20350839755247,\n",
       " -43.06053294921867,\n",
       " 39.62414452935809,\n",
       " 68.81198194165017,\n",
       " -24.60938005633534,\n",
       " 30.99093415927109,\n",
       " -47.774429400787085,\n",
       " 9.404514095459035,\n",
       " 31.486631011291138,\n",
       " 12.471389143920987]"
      ]
     },
     "metadata": {},
     "execution_count": 27
    }
   ],
   "source": [
    "# Calculate the daily Profilt and Loss for last 2 months\n",
    "pf = []\n",
    "for i in range(len(S2m)):\n",
    "    asst = np.array(S2m.iloc[i,:])*sn\n",
    "    pf.append(asst.sum()/10000000)\n",
    "\n",
    "pnl = []\n",
    "\n",
    "for i in range(len(pf)-1):\n",
    "    pnl.append(pf[i+1]-pf[i])\n",
    "\n",
    "pnl # contains the P&L"
   ]
  },
  {
   "cell_type": "code",
   "execution_count": 28,
   "metadata": {},
   "outputs": [],
   "source": [
    "# Calculating the VaR\n",
    "vars = []\n",
    "\n",
    "for i in range(len(pf)-1):\n",
    "    vars.append(-portfolio_var*pf[i])"
   ]
  },
  {
   "cell_type": "code",
   "execution_count": 34,
   "metadata": {},
   "outputs": [
    {
     "output_type": "display_data",
     "data": {
      "text/plain": "<Figure size 864x576 with 1 Axes>",
      "image/svg+xml": "<?xml version=\"1.0\" encoding=\"utf-8\" standalone=\"no\"?>\r\n<!DOCTYPE svg PUBLIC \"-//W3C//DTD SVG 1.1//EN\"\r\n  \"http://www.w3.org/Graphics/SVG/1.1/DTD/svg11.dtd\">\r\n<!-- Created with matplotlib (https://matplotlib.org/) -->\r\n<svg height=\"480.160937pt\" version=\"1.1\" viewBox=\"0 0 713.523438 480.160937\" width=\"713.523438pt\" xmlns=\"http://www.w3.org/2000/svg\" xmlns:xlink=\"http://www.w3.org/1999/xlink\">\r\n <metadata>\r\n  <rdf:RDF xmlns:cc=\"http://creativecommons.org/ns#\" xmlns:dc=\"http://purl.org/dc/elements/1.1/\" xmlns:rdf=\"http://www.w3.org/1999/02/22-rdf-syntax-ns#\">\r\n   <cc:Work>\r\n    <dc:type rdf:resource=\"http://purl.org/dc/dcmitype/StillImage\"/>\r\n    <dc:date>2021-04-10T10:18:10.251671</dc:date>\r\n    <dc:format>image/svg+xml</dc:format>\r\n    <dc:creator>\r\n     <cc:Agent>\r\n      <dc:title>Matplotlib v3.3.3, https://matplotlib.org/</dc:title>\r\n     </cc:Agent>\r\n    </dc:creator>\r\n   </cc:Work>\r\n  </rdf:RDF>\r\n </metadata>\r\n <defs>\r\n  <style type=\"text/css\">*{stroke-linecap:butt;stroke-linejoin:round;}</style>\r\n </defs>\r\n <g id=\"figure_1\">\r\n  <g id=\"patch_1\">\r\n   <path d=\"M 0 480.160937 \r\nL 713.523438 480.160937 \r\nL 713.523438 0 \r\nL 0 0 \r\nz\r\n\" style=\"fill:#ffffff;\"/>\r\n  </g>\r\n  <g id=\"axes_1\">\r\n   <g id=\"patch_2\">\r\n    <path d=\"M 36.723438 456.815625 \r\nL 706.323438 456.815625 \r\nL 706.323438 21.935625 \r\nL 36.723438 21.935625 \r\nz\r\n\" style=\"fill:#eaeaf2;\"/>\r\n   </g>\r\n   <g id=\"matplotlib.axis_1\">\r\n    <g id=\"xtick_1\">\r\n     <g id=\"line2d_1\">\r\n      <path clip-path=\"url(#pa27db252d5)\" d=\"M 67.159801 456.815625 \r\nL 67.159801 21.935625 \r\n\" style=\"fill:none;stroke:#ffffff;stroke-linecap:round;\"/>\r\n     </g>\r\n     <g id=\"line2d_2\"/>\r\n     <g id=\"text_1\">\r\n      <!-- 0 -->\r\n      <g style=\"fill:#262626;\" transform=\"translate(64.379332 470.973437)scale(0.1 -0.1)\">\r\n       <defs>\r\n        <path d=\"M 4.15625 35.296875 \r\nQ 4.15625 48 6.765625 55.734375 \r\nQ 9.375 63.484375 14.515625 67.671875 \r\nQ 19.671875 71.875 27.484375 71.875 \r\nQ 33.25 71.875 37.59375 69.546875 \r\nQ 41.9375 67.234375 44.765625 62.859375 \r\nQ 47.609375 58.5 49.21875 52.21875 \r\nQ 50.828125 45.953125 50.828125 35.296875 \r\nQ 50.828125 22.703125 48.234375 14.96875 \r\nQ 45.65625 7.234375 40.5 3 \r\nQ 35.359375 -1.21875 27.484375 -1.21875 \r\nQ 17.140625 -1.21875 11.234375 6.203125 \r\nQ 4.15625 15.140625 4.15625 35.296875 \r\nz\r\nM 13.1875 35.296875 \r\nQ 13.1875 17.671875 17.3125 11.828125 \r\nQ 21.4375 6 27.484375 6 \r\nQ 33.546875 6 37.671875 11.859375 \r\nQ 41.796875 17.71875 41.796875 35.296875 \r\nQ 41.796875 52.984375 37.671875 58.78125 \r\nQ 33.546875 64.59375 27.390625 64.59375 \r\nQ 21.34375 64.59375 17.71875 59.46875 \r\nQ 13.1875 52.9375 13.1875 35.296875 \r\nz\r\n\" id=\"ArialMT-48\"/>\r\n       </defs>\r\n       <use xlink:href=\"#ArialMT-48\"/>\r\n      </g>\r\n     </g>\r\n    </g>\r\n    <g id=\"xtick_2\">\r\n     <g id=\"line2d_3\">\r\n      <path clip-path=\"url(#pa27db252d5)\" d=\"M 145.201759 456.815625 \r\nL 145.201759 21.935625 \r\n\" style=\"fill:none;stroke:#ffffff;stroke-linecap:round;\"/>\r\n     </g>\r\n     <g id=\"line2d_4\"/>\r\n     <g id=\"text_2\">\r\n      <!-- 5 -->\r\n      <g style=\"fill:#262626;\" transform=\"translate(142.42129 470.973437)scale(0.1 -0.1)\">\r\n       <defs>\r\n        <path d=\"M 4.15625 18.75 \r\nL 13.375 19.53125 \r\nQ 14.40625 12.796875 18.140625 9.390625 \r\nQ 21.875 6 27.15625 6 \r\nQ 33.5 6 37.890625 10.78125 \r\nQ 42.28125 15.578125 42.28125 23.484375 \r\nQ 42.28125 31 38.0625 35.34375 \r\nQ 33.84375 39.703125 27 39.703125 \r\nQ 22.75 39.703125 19.328125 37.765625 \r\nQ 15.921875 35.84375 13.96875 32.765625 \r\nL 5.71875 33.84375 \r\nL 12.640625 70.609375 \r\nL 48.25 70.609375 \r\nL 48.25 62.203125 \r\nL 19.671875 62.203125 \r\nL 15.828125 42.96875 \r\nQ 22.265625 47.46875 29.34375 47.46875 \r\nQ 38.71875 47.46875 45.15625 40.96875 \r\nQ 51.609375 34.46875 51.609375 24.265625 \r\nQ 51.609375 14.546875 45.953125 7.46875 \r\nQ 39.0625 -1.21875 27.15625 -1.21875 \r\nQ 17.390625 -1.21875 11.203125 4.25 \r\nQ 5.03125 9.71875 4.15625 18.75 \r\nz\r\n\" id=\"ArialMT-53\"/>\r\n       </defs>\r\n       <use xlink:href=\"#ArialMT-53\"/>\r\n      </g>\r\n     </g>\r\n    </g>\r\n    <g id=\"xtick_3\">\r\n     <g id=\"line2d_5\">\r\n      <path clip-path=\"url(#pa27db252d5)\" d=\"M 223.243717 456.815625 \r\nL 223.243717 21.935625 \r\n\" style=\"fill:none;stroke:#ffffff;stroke-linecap:round;\"/>\r\n     </g>\r\n     <g id=\"line2d_6\"/>\r\n     <g id=\"text_3\">\r\n      <!-- 10 -->\r\n      <g style=\"fill:#262626;\" transform=\"translate(217.68278 470.973437)scale(0.1 -0.1)\">\r\n       <defs>\r\n        <path d=\"M 37.25 0 \r\nL 28.46875 0 \r\nL 28.46875 56 \r\nQ 25.296875 52.984375 20.140625 49.953125 \r\nQ 14.984375 46.921875 10.890625 45.40625 \r\nL 10.890625 53.90625 \r\nQ 18.265625 57.375 23.78125 62.296875 \r\nQ 29.296875 67.234375 31.59375 71.875 \r\nL 37.25 71.875 \r\nz\r\n\" id=\"ArialMT-49\"/>\r\n       </defs>\r\n       <use xlink:href=\"#ArialMT-49\"/>\r\n       <use x=\"55.615234\" xlink:href=\"#ArialMT-48\"/>\r\n      </g>\r\n     </g>\r\n    </g>\r\n    <g id=\"xtick_4\">\r\n     <g id=\"line2d_7\">\r\n      <path clip-path=\"url(#pa27db252d5)\" d=\"M 301.285675 456.815625 \r\nL 301.285675 21.935625 \r\n\" style=\"fill:none;stroke:#ffffff;stroke-linecap:round;\"/>\r\n     </g>\r\n     <g id=\"line2d_8\"/>\r\n     <g id=\"text_4\">\r\n      <!-- 15 -->\r\n      <g style=\"fill:#262626;\" transform=\"translate(295.724738 470.973437)scale(0.1 -0.1)\">\r\n       <use xlink:href=\"#ArialMT-49\"/>\r\n       <use x=\"55.615234\" xlink:href=\"#ArialMT-53\"/>\r\n      </g>\r\n     </g>\r\n    </g>\r\n    <g id=\"xtick_5\">\r\n     <g id=\"line2d_9\">\r\n      <path clip-path=\"url(#pa27db252d5)\" d=\"M 379.327633 456.815625 \r\nL 379.327633 21.935625 \r\n\" style=\"fill:none;stroke:#ffffff;stroke-linecap:round;\"/>\r\n     </g>\r\n     <g id=\"line2d_10\"/>\r\n     <g id=\"text_5\">\r\n      <!-- 20 -->\r\n      <g style=\"fill:#262626;\" transform=\"translate(373.766696 470.973437)scale(0.1 -0.1)\">\r\n       <defs>\r\n        <path d=\"M 50.34375 8.453125 \r\nL 50.34375 0 \r\nL 3.03125 0 \r\nQ 2.9375 3.171875 4.046875 6.109375 \r\nQ 5.859375 10.9375 9.828125 15.625 \r\nQ 13.8125 20.3125 21.34375 26.46875 \r\nQ 33.015625 36.03125 37.109375 41.625 \r\nQ 41.21875 47.21875 41.21875 52.203125 \r\nQ 41.21875 57.421875 37.46875 61 \r\nQ 33.734375 64.59375 27.734375 64.59375 \r\nQ 21.390625 64.59375 17.578125 60.78125 \r\nQ 13.765625 56.984375 13.71875 50.25 \r\nL 4.6875 51.171875 \r\nQ 5.609375 61.28125 11.65625 66.578125 \r\nQ 17.71875 71.875 27.9375 71.875 \r\nQ 38.234375 71.875 44.234375 66.15625 \r\nQ 50.25 60.453125 50.25 52 \r\nQ 50.25 47.703125 48.484375 43.546875 \r\nQ 46.734375 39.40625 42.65625 34.8125 \r\nQ 38.578125 30.21875 29.109375 22.21875 \r\nQ 21.1875 15.578125 18.9375 13.203125 \r\nQ 16.703125 10.84375 15.234375 8.453125 \r\nz\r\n\" id=\"ArialMT-50\"/>\r\n       </defs>\r\n       <use xlink:href=\"#ArialMT-50\"/>\r\n       <use x=\"55.615234\" xlink:href=\"#ArialMT-48\"/>\r\n      </g>\r\n     </g>\r\n    </g>\r\n    <g id=\"xtick_6\">\r\n     <g id=\"line2d_11\">\r\n      <path clip-path=\"url(#pa27db252d5)\" d=\"M 457.369591 456.815625 \r\nL 457.369591 21.935625 \r\n\" style=\"fill:none;stroke:#ffffff;stroke-linecap:round;\"/>\r\n     </g>\r\n     <g id=\"line2d_12\"/>\r\n     <g id=\"text_6\">\r\n      <!-- 25 -->\r\n      <g style=\"fill:#262626;\" transform=\"translate(451.808654 470.973437)scale(0.1 -0.1)\">\r\n       <use xlink:href=\"#ArialMT-50\"/>\r\n       <use x=\"55.615234\" xlink:href=\"#ArialMT-53\"/>\r\n      </g>\r\n     </g>\r\n    </g>\r\n    <g id=\"xtick_7\">\r\n     <g id=\"line2d_13\">\r\n      <path clip-path=\"url(#pa27db252d5)\" d=\"M 535.411549 456.815625 \r\nL 535.411549 21.935625 \r\n\" style=\"fill:none;stroke:#ffffff;stroke-linecap:round;\"/>\r\n     </g>\r\n     <g id=\"line2d_14\"/>\r\n     <g id=\"text_7\">\r\n      <!-- 30 -->\r\n      <g style=\"fill:#262626;\" transform=\"translate(529.850612 470.973437)scale(0.1 -0.1)\">\r\n       <defs>\r\n        <path d=\"M 4.203125 18.890625 \r\nL 12.984375 20.0625 \r\nQ 14.5 12.59375 18.140625 9.296875 \r\nQ 21.78125 6 27 6 \r\nQ 33.203125 6 37.46875 10.296875 \r\nQ 41.75 14.59375 41.75 20.953125 \r\nQ 41.75 27 37.796875 30.921875 \r\nQ 33.84375 34.859375 27.734375 34.859375 \r\nQ 25.25 34.859375 21.53125 33.890625 \r\nL 22.515625 41.609375 \r\nQ 23.390625 41.5 23.921875 41.5 \r\nQ 29.546875 41.5 34.03125 44.421875 \r\nQ 38.53125 47.359375 38.53125 53.46875 \r\nQ 38.53125 58.296875 35.25 61.46875 \r\nQ 31.984375 64.65625 26.8125 64.65625 \r\nQ 21.6875 64.65625 18.265625 61.421875 \r\nQ 14.84375 58.203125 13.875 51.765625 \r\nL 5.078125 53.328125 \r\nQ 6.6875 62.15625 12.390625 67.015625 \r\nQ 18.109375 71.875 26.609375 71.875 \r\nQ 32.46875 71.875 37.390625 69.359375 \r\nQ 42.328125 66.84375 44.9375 62.5 \r\nQ 47.5625 58.15625 47.5625 53.265625 \r\nQ 47.5625 48.640625 45.0625 44.828125 \r\nQ 42.578125 41.015625 37.703125 38.765625 \r\nQ 44.046875 37.3125 47.5625 32.6875 \r\nQ 51.078125 28.078125 51.078125 21.140625 \r\nQ 51.078125 11.765625 44.234375 5.25 \r\nQ 37.40625 -1.265625 26.953125 -1.265625 \r\nQ 17.53125 -1.265625 11.296875 4.34375 \r\nQ 5.078125 9.96875 4.203125 18.890625 \r\nz\r\n\" id=\"ArialMT-51\"/>\r\n       </defs>\r\n       <use xlink:href=\"#ArialMT-51\"/>\r\n       <use x=\"55.615234\" xlink:href=\"#ArialMT-48\"/>\r\n      </g>\r\n     </g>\r\n    </g>\r\n    <g id=\"xtick_8\">\r\n     <g id=\"line2d_15\">\r\n      <path clip-path=\"url(#pa27db252d5)\" d=\"M 613.453507 456.815625 \r\nL 613.453507 21.935625 \r\n\" style=\"fill:none;stroke:#ffffff;stroke-linecap:round;\"/>\r\n     </g>\r\n     <g id=\"line2d_16\"/>\r\n     <g id=\"text_8\">\r\n      <!-- 35 -->\r\n      <g style=\"fill:#262626;\" transform=\"translate(607.89257 470.973437)scale(0.1 -0.1)\">\r\n       <use xlink:href=\"#ArialMT-51\"/>\r\n       <use x=\"55.615234\" xlink:href=\"#ArialMT-53\"/>\r\n      </g>\r\n     </g>\r\n    </g>\r\n    <g id=\"xtick_9\">\r\n     <g id=\"line2d_17\">\r\n      <path clip-path=\"url(#pa27db252d5)\" d=\"M 691.495465 456.815625 \r\nL 691.495465 21.935625 \r\n\" style=\"fill:none;stroke:#ffffff;stroke-linecap:round;\"/>\r\n     </g>\r\n     <g id=\"line2d_18\"/>\r\n     <g id=\"text_9\">\r\n      <!-- 40 -->\r\n      <g style=\"fill:#262626;\" transform=\"translate(685.934528 470.973437)scale(0.1 -0.1)\">\r\n       <defs>\r\n        <path d=\"M 32.328125 0 \r\nL 32.328125 17.140625 \r\nL 1.265625 17.140625 \r\nL 1.265625 25.203125 \r\nL 33.9375 71.578125 \r\nL 41.109375 71.578125 \r\nL 41.109375 25.203125 \r\nL 50.78125 25.203125 \r\nL 50.78125 17.140625 \r\nL 41.109375 17.140625 \r\nL 41.109375 0 \r\nz\r\nM 32.328125 25.203125 \r\nL 32.328125 57.46875 \r\nL 9.90625 25.203125 \r\nz\r\n\" id=\"ArialMT-52\"/>\r\n       </defs>\r\n       <use xlink:href=\"#ArialMT-52\"/>\r\n       <use x=\"55.615234\" xlink:href=\"#ArialMT-48\"/>\r\n      </g>\r\n     </g>\r\n    </g>\r\n   </g>\r\n   <g id=\"matplotlib.axis_2\">\r\n    <g id=\"ytick_1\">\r\n     <g id=\"line2d_19\">\r\n      <path clip-path=\"url(#pa27db252d5)\" d=\"M 36.723438 428.239323 \r\nL 706.323438 428.239323 \r\n\" style=\"fill:none;stroke:#ffffff;stroke-linecap:round;\"/>\r\n     </g>\r\n     <g id=\"line2d_20\"/>\r\n     <g id=\"text_10\">\r\n      <!-- −100 -->\r\n      <g style=\"fill:#262626;\" transform=\"translate(7.2 431.818229)scale(0.1 -0.1)\">\r\n       <defs>\r\n        <path d=\"M 52.828125 31.203125 \r\nL 5.5625 31.203125 \r\nL 5.5625 39.40625 \r\nL 52.828125 39.40625 \r\nz\r\n\" id=\"ArialMT-8722\"/>\r\n       </defs>\r\n       <use xlink:href=\"#ArialMT-8722\"/>\r\n       <use x=\"58.398438\" xlink:href=\"#ArialMT-49\"/>\r\n       <use x=\"114.013672\" xlink:href=\"#ArialMT-48\"/>\r\n       <use x=\"169.628906\" xlink:href=\"#ArialMT-48\"/>\r\n      </g>\r\n     </g>\r\n    </g>\r\n    <g id=\"ytick_2\">\r\n     <g id=\"line2d_21\">\r\n      <path clip-path=\"url(#pa27db252d5)\" d=\"M 36.723438 370.995693 \r\nL 706.323438 370.995693 \r\n\" style=\"fill:none;stroke:#ffffff;stroke-linecap:round;\"/>\r\n     </g>\r\n     <g id=\"line2d_22\"/>\r\n     <g id=\"text_11\">\r\n      <!-- −75 -->\r\n      <g style=\"fill:#262626;\" transform=\"translate(12.760938 374.574599)scale(0.1 -0.1)\">\r\n       <defs>\r\n        <path d=\"M 4.734375 62.203125 \r\nL 4.734375 70.65625 \r\nL 51.078125 70.65625 \r\nL 51.078125 63.8125 \r\nQ 44.234375 56.546875 37.515625 44.484375 \r\nQ 30.8125 32.421875 27.15625 19.671875 \r\nQ 24.515625 10.6875 23.78125 0 \r\nL 14.75 0 \r\nQ 14.890625 8.453125 18.0625 20.40625 \r\nQ 21.234375 32.375 27.171875 43.484375 \r\nQ 33.109375 54.59375 39.796875 62.203125 \r\nz\r\n\" id=\"ArialMT-55\"/>\r\n       </defs>\r\n       <use xlink:href=\"#ArialMT-8722\"/>\r\n       <use x=\"58.398438\" xlink:href=\"#ArialMT-55\"/>\r\n       <use x=\"114.013672\" xlink:href=\"#ArialMT-53\"/>\r\n      </g>\r\n     </g>\r\n    </g>\r\n    <g id=\"ytick_3\">\r\n     <g id=\"line2d_23\">\r\n      <path clip-path=\"url(#pa27db252d5)\" d=\"M 36.723438 313.752063 \r\nL 706.323438 313.752063 \r\n\" style=\"fill:none;stroke:#ffffff;stroke-linecap:round;\"/>\r\n     </g>\r\n     <g id=\"line2d_24\"/>\r\n     <g id=\"text_12\">\r\n      <!-- −50 -->\r\n      <g style=\"fill:#262626;\" transform=\"translate(12.760938 317.330969)scale(0.1 -0.1)\">\r\n       <use xlink:href=\"#ArialMT-8722\"/>\r\n       <use x=\"58.398438\" xlink:href=\"#ArialMT-53\"/>\r\n       <use x=\"114.013672\" xlink:href=\"#ArialMT-48\"/>\r\n      </g>\r\n     </g>\r\n    </g>\r\n    <g id=\"ytick_4\">\r\n     <g id=\"line2d_25\">\r\n      <path clip-path=\"url(#pa27db252d5)\" d=\"M 36.723438 256.508433 \r\nL 706.323438 256.508433 \r\n\" style=\"fill:none;stroke:#ffffff;stroke-linecap:round;\"/>\r\n     </g>\r\n     <g id=\"line2d_26\"/>\r\n     <g id=\"text_13\">\r\n      <!-- −25 -->\r\n      <g style=\"fill:#262626;\" transform=\"translate(12.760938 260.087339)scale(0.1 -0.1)\">\r\n       <use xlink:href=\"#ArialMT-8722\"/>\r\n       <use x=\"58.398438\" xlink:href=\"#ArialMT-50\"/>\r\n       <use x=\"114.013672\" xlink:href=\"#ArialMT-53\"/>\r\n      </g>\r\n     </g>\r\n    </g>\r\n    <g id=\"ytick_5\">\r\n     <g id=\"line2d_27\">\r\n      <path clip-path=\"url(#pa27db252d5)\" d=\"M 36.723438 199.264803 \r\nL 706.323438 199.264803 \r\n\" style=\"fill:none;stroke:#ffffff;stroke-linecap:round;\"/>\r\n     </g>\r\n     <g id=\"line2d_28\"/>\r\n     <g id=\"text_14\">\r\n      <!-- 0 -->\r\n      <g style=\"fill:#262626;\" transform=\"translate(24.1625 202.843709)scale(0.1 -0.1)\">\r\n       <use xlink:href=\"#ArialMT-48\"/>\r\n      </g>\r\n     </g>\r\n    </g>\r\n    <g id=\"ytick_6\">\r\n     <g id=\"line2d_29\">\r\n      <path clip-path=\"url(#pa27db252d5)\" d=\"M 36.723438 142.021173 \r\nL 706.323438 142.021173 \r\n\" style=\"fill:none;stroke:#ffffff;stroke-linecap:round;\"/>\r\n     </g>\r\n     <g id=\"line2d_30\"/>\r\n     <g id=\"text_15\">\r\n      <!-- 25 -->\r\n      <g style=\"fill:#262626;\" transform=\"translate(18.601562 145.600079)scale(0.1 -0.1)\">\r\n       <use xlink:href=\"#ArialMT-50\"/>\r\n       <use x=\"55.615234\" xlink:href=\"#ArialMT-53\"/>\r\n      </g>\r\n     </g>\r\n    </g>\r\n    <g id=\"ytick_7\">\r\n     <g id=\"line2d_31\">\r\n      <path clip-path=\"url(#pa27db252d5)\" d=\"M 36.723438 84.777543 \r\nL 706.323438 84.777543 \r\n\" style=\"fill:none;stroke:#ffffff;stroke-linecap:round;\"/>\r\n     </g>\r\n     <g id=\"line2d_32\"/>\r\n     <g id=\"text_16\">\r\n      <!-- 50 -->\r\n      <g style=\"fill:#262626;\" transform=\"translate(18.601562 88.356449)scale(0.1 -0.1)\">\r\n       <use xlink:href=\"#ArialMT-53\"/>\r\n       <use x=\"55.615234\" xlink:href=\"#ArialMT-48\"/>\r\n      </g>\r\n     </g>\r\n    </g>\r\n    <g id=\"ytick_8\">\r\n     <g id=\"line2d_33\">\r\n      <path clip-path=\"url(#pa27db252d5)\" d=\"M 36.723438 27.533913 \r\nL 706.323438 27.533913 \r\n\" style=\"fill:none;stroke:#ffffff;stroke-linecap:round;\"/>\r\n     </g>\r\n     <g id=\"line2d_34\"/>\r\n     <g id=\"text_17\">\r\n      <!-- 75 -->\r\n      <g style=\"fill:#262626;\" transform=\"translate(18.601562 31.112819)scale(0.1 -0.1)\">\r\n       <use xlink:href=\"#ArialMT-55\"/>\r\n       <use x=\"55.615234\" xlink:href=\"#ArialMT-53\"/>\r\n      </g>\r\n     </g>\r\n    </g>\r\n   </g>\r\n   <g id=\"line2d_35\">\r\n    <path clip-path=\"url(#pa27db252d5)\" d=\"M 67.159801 189.897933 \r\nL 82.768193 215.212463 \r\nL 98.376584 160.467399 \r\nL 113.984976 203.506741 \r\nL 129.593368 136.756665 \r\nL 145.201759 226.237012 \r\nL 160.810151 276.605195 \r\nL 176.418542 255.407916 \r\nL 192.026934 239.117758 \r\nL 207.635326 366.039275 \r\nL 223.243717 185.940298 \r\nL 238.852109 86.088059 \r\nL 254.4605 168.877142 \r\nL 270.068892 424.198616 \r\nL 285.677284 103.600749 \r\nL 301.285675 152.783553 \r\nL 316.894067 50.26908 \r\nL 332.502458 228.971449 \r\nL 348.11085 248.353129 \r\nL 363.719242 201.132645 \r\nL 379.327633 146.025324 \r\nL 394.936025 148.532879 \r\nL 410.544417 283.464086 \r\nL 426.152808 258.102039 \r\nL 441.7612 177.683728 \r\nL 457.369591 295.787442 \r\nL 472.977983 301.78287 \r\nL 488.586375 96.41442 \r\nL 504.194766 181.054126 \r\nL 519.803158 142.692522 \r\nL 535.411549 305.059064 \r\nL 551.019941 297.862452 \r\nL 566.628333 108.535608 \r\nL 582.236724 41.702898 \r\nL 597.845116 255.614013 \r\nL 613.453507 128.30346 \r\nL 629.061899 308.656073 \r\nL 644.670291 177.730862 \r\nL 660.278682 127.168441 \r\nL 675.887074 170.7085 \r\n\" style=\"fill:none;stroke:#4c72b0;stroke-linecap:round;stroke-width:1.75;\"/>\r\n   </g>\r\n   <g id=\"line2d_36\">\r\n    <path clip-path=\"url(#pa27db252d5)\" d=\"M 67.159801 434.084425 \r\nL 82.768193 434.391253 \r\nL 98.376584 433.868859 \r\nL 113.984976 435.139738 \r\nL 129.593368 435.000786 \r\nL 145.201759 437.048352 \r\nL 160.810151 436.164829 \r\nL 176.418542 433.631405 \r\nL 192.026934 431.792336 \r\nL 207.635326 430.486881 \r\nL 223.243717 425.023882 \r\nL 238.852109 425.46035 \r\nL 254.4605 429.167659 \r\nL 270.068892 430.163061 \r\nL 285.677284 422.794949 \r\nL 301.285675 425.928597 \r\nL 316.894067 427.451174 \r\nL 332.502458 432.331798 \r\nL 348.11085 431.358703 \r\nL 363.719242 429.750727 \r\nL 379.327633 429.689542 \r\nL 394.936025 431.433497 \r\nL 410.544417 433.095313 \r\nL 426.152808 430.337213 \r\nL 441.7612 428.409894 \r\nL 457.369591 429.116821 \r\nL 472.977983 425.955048 \r\nL 488.586375 422.596884 \r\nL 504.194766 425.965933 \r\nL 519.803158 426.562457 \r\nL 535.411549 428.415584 \r\nL 551.019941 424.950102 \r\nL 566.628333 421.720358 \r\nL 582.236724 424.692357 \r\nL 597.845116 429.853581 \r\nL 613.453507 428.007761 \r\nL 629.061899 430.332228 \r\nL 644.670291 426.74892 \r\nL 660.278682 427.454303 \r\nL 675.887074 429.815949 \r\n\" style=\"fill:none;stroke:#55a868;stroke-linecap:round;stroke-width:1.75;\"/>\r\n   </g>\r\n   <g id=\"patch_3\">\r\n    <path d=\"M 36.723438 456.815625 \r\nL 36.723438 21.935625 \r\n\" style=\"fill:none;\"/>\r\n   </g>\r\n   <g id=\"patch_4\">\r\n    <path d=\"M 706.323438 456.815625 \r\nL 706.323438 21.935625 \r\n\" style=\"fill:none;\"/>\r\n   </g>\r\n   <g id=\"patch_5\">\r\n    <path d=\"M 36.723438 456.815625 \r\nL 706.323438 456.815625 \r\n\" style=\"fill:none;\"/>\r\n   </g>\r\n   <g id=\"patch_6\">\r\n    <path d=\"M 36.723438 21.935625 \r\nL 706.323438 21.935625 \r\n\" style=\"fill:none;\"/>\r\n   </g>\r\n   <g id=\"text_18\">\r\n    <!-- Var and P&amp;L (in Cr.) -->\r\n    <g style=\"fill:#262626;\" transform=\"translate(318.503125 15.935625)scale(0.12 -0.12)\">\r\n     <defs>\r\n      <path d=\"M 28.171875 0 \r\nL 0.4375 71.578125 \r\nL 10.6875 71.578125 \r\nL 29.296875 19.578125 \r\nQ 31.546875 13.328125 33.0625 7.859375 \r\nQ 34.71875 13.71875 36.921875 19.578125 \r\nL 56.25 71.578125 \r\nL 65.921875 71.578125 \r\nL 37.890625 0 \r\nz\r\n\" id=\"ArialMT-86\"/>\r\n      <path d=\"M 40.4375 6.390625 \r\nQ 35.546875 2.25 31.03125 0.53125 \r\nQ 26.515625 -1.171875 21.34375 -1.171875 \r\nQ 12.796875 -1.171875 8.203125 3 \r\nQ 3.609375 7.171875 3.609375 13.671875 \r\nQ 3.609375 17.484375 5.34375 20.625 \r\nQ 7.078125 23.78125 9.890625 25.6875 \r\nQ 12.703125 27.59375 16.21875 28.5625 \r\nQ 18.796875 29.25 24.03125 29.890625 \r\nQ 34.671875 31.15625 39.703125 32.90625 \r\nQ 39.75 34.71875 39.75 35.203125 \r\nQ 39.75 40.578125 37.25 42.78125 \r\nQ 33.890625 45.75 27.25 45.75 \r\nQ 21.046875 45.75 18.09375 43.578125 \r\nQ 15.140625 41.40625 13.71875 35.890625 \r\nL 5.125 37.0625 \r\nQ 6.296875 42.578125 8.984375 45.96875 \r\nQ 11.671875 49.359375 16.75 51.1875 \r\nQ 21.828125 53.03125 28.515625 53.03125 \r\nQ 35.15625 53.03125 39.296875 51.46875 \r\nQ 43.453125 49.90625 45.40625 47.53125 \r\nQ 47.359375 45.171875 48.140625 41.546875 \r\nQ 48.578125 39.3125 48.578125 33.453125 \r\nL 48.578125 21.734375 \r\nQ 48.578125 9.46875 49.140625 6.21875 \r\nQ 49.703125 2.984375 51.375 0 \r\nL 42.1875 0 \r\nQ 40.828125 2.734375 40.4375 6.390625 \r\nz\r\nM 39.703125 26.03125 \r\nQ 34.90625 24.078125 25.34375 22.703125 \r\nQ 19.921875 21.921875 17.671875 20.9375 \r\nQ 15.4375 19.96875 14.203125 18.09375 \r\nQ 12.984375 16.21875 12.984375 13.921875 \r\nQ 12.984375 10.40625 15.640625 8.0625 \r\nQ 18.3125 5.71875 23.4375 5.71875 \r\nQ 28.515625 5.71875 32.46875 7.9375 \r\nQ 36.421875 10.15625 38.28125 14.015625 \r\nQ 39.703125 17 39.703125 22.796875 \r\nz\r\n\" id=\"ArialMT-97\"/>\r\n      <path d=\"M 6.5 0 \r\nL 6.5 51.859375 \r\nL 14.40625 51.859375 \r\nL 14.40625 44 \r\nQ 17.4375 49.515625 20 51.265625 \r\nQ 22.5625 53.03125 25.640625 53.03125 \r\nQ 30.078125 53.03125 34.671875 50.203125 \r\nL 31.640625 42.046875 \r\nQ 28.421875 43.953125 25.203125 43.953125 \r\nQ 22.3125 43.953125 20.015625 42.21875 \r\nQ 17.71875 40.484375 16.75 37.40625 \r\nQ 15.28125 32.71875 15.28125 27.15625 \r\nL 15.28125 0 \r\nz\r\n\" id=\"ArialMT-114\"/>\r\n      <path id=\"ArialMT-32\"/>\r\n      <path d=\"M 6.59375 0 \r\nL 6.59375 51.859375 \r\nL 14.5 51.859375 \r\nL 14.5 44.484375 \r\nQ 20.21875 53.03125 31 53.03125 \r\nQ 35.6875 53.03125 39.625 51.34375 \r\nQ 43.5625 49.65625 45.515625 46.921875 \r\nQ 47.46875 44.1875 48.25 40.4375 \r\nQ 48.734375 37.984375 48.734375 31.890625 \r\nL 48.734375 0 \r\nL 39.9375 0 \r\nL 39.9375 31.546875 \r\nQ 39.9375 36.921875 38.90625 39.578125 \r\nQ 37.890625 42.234375 35.28125 43.8125 \r\nQ 32.671875 45.40625 29.15625 45.40625 \r\nQ 23.53125 45.40625 19.453125 41.84375 \r\nQ 15.375 38.28125 15.375 28.328125 \r\nL 15.375 0 \r\nz\r\n\" id=\"ArialMT-110\"/>\r\n      <path d=\"M 40.234375 0 \r\nL 40.234375 6.546875 \r\nQ 35.296875 -1.171875 25.734375 -1.171875 \r\nQ 19.53125 -1.171875 14.328125 2.25 \r\nQ 9.125 5.671875 6.265625 11.796875 \r\nQ 3.421875 17.921875 3.421875 25.875 \r\nQ 3.421875 33.640625 6 39.96875 \r\nQ 8.59375 46.296875 13.765625 49.65625 \r\nQ 18.953125 53.03125 25.34375 53.03125 \r\nQ 30.03125 53.03125 33.6875 51.046875 \r\nQ 37.359375 49.078125 39.65625 45.90625 \r\nL 39.65625 71.578125 \r\nL 48.390625 71.578125 \r\nL 48.390625 0 \r\nz\r\nM 12.453125 25.875 \r\nQ 12.453125 15.921875 16.640625 10.984375 \r\nQ 20.84375 6.0625 26.5625 6.0625 \r\nQ 32.328125 6.0625 36.34375 10.765625 \r\nQ 40.375 15.484375 40.375 25.140625 \r\nQ 40.375 35.796875 36.265625 40.765625 \r\nQ 32.171875 45.75 26.171875 45.75 \r\nQ 20.3125 45.75 16.375 40.96875 \r\nQ 12.453125 36.1875 12.453125 25.875 \r\nz\r\n\" id=\"ArialMT-100\"/>\r\n      <path d=\"M 7.71875 0 \r\nL 7.71875 71.578125 \r\nL 34.71875 71.578125 \r\nQ 41.84375 71.578125 45.609375 70.90625 \r\nQ 50.875 70.015625 54.4375 67.546875 \r\nQ 58.015625 65.09375 60.1875 60.640625 \r\nQ 62.359375 56.203125 62.359375 50.875 \r\nQ 62.359375 41.75 56.546875 35.421875 \r\nQ 50.734375 29.109375 35.546875 29.109375 \r\nL 17.1875 29.109375 \r\nL 17.1875 0 \r\nz\r\nM 17.1875 37.546875 \r\nL 35.6875 37.546875 \r\nQ 44.875 37.546875 48.734375 40.96875 \r\nQ 52.59375 44.390625 52.59375 50.59375 \r\nQ 52.59375 55.078125 50.3125 58.265625 \r\nQ 48.046875 61.46875 44.34375 62.5 \r\nQ 41.9375 63.140625 35.5 63.140625 \r\nL 17.1875 63.140625 \r\nz\r\n\" id=\"ArialMT-80\"/>\r\n      <path d=\"M 47.515625 8.453125 \r\nQ 43.171875 3.609375 38.03125 1.1875 \r\nQ 32.90625 -1.21875 26.953125 -1.21875 \r\nQ 15.96875 -1.21875 9.515625 6.203125 \r\nQ 4.296875 12.25 4.296875 19.734375 \r\nQ 4.296875 26.375 8.5625 31.71875 \r\nQ 12.84375 37.0625 21.34375 41.109375 \r\nQ 16.5 46.6875 14.890625 50.140625 \r\nQ 13.28125 53.609375 13.28125 56.84375 \r\nQ 13.28125 63.28125 18.328125 68.03125 \r\nQ 23.390625 72.796875 31.0625 72.796875 \r\nQ 38.375 72.796875 43.03125 68.296875 \r\nQ 47.703125 63.8125 47.703125 57.515625 \r\nQ 47.703125 47.3125 34.1875 40.09375 \r\nL 47.015625 23.734375 \r\nQ 49.21875 28.03125 50.4375 33.6875 \r\nL 59.578125 31.734375 \r\nQ 57.234375 22.359375 53.21875 16.3125 \r\nQ 58.15625 9.765625 64.40625 5.328125 \r\nL 58.5 -1.65625 \r\nQ 53.171875 1.765625 47.515625 8.453125 \r\nz\r\nM 29.640625 45.75 \r\nQ 35.359375 49.125 37.03125 51.65625 \r\nQ 38.71875 54.203125 38.71875 57.28125 \r\nQ 38.71875 60.9375 36.390625 63.25 \r\nQ 34.078125 65.578125 30.609375 65.578125 \r\nQ 27.046875 65.578125 24.671875 63.28125 \r\nQ 22.3125 60.984375 22.3125 57.671875 \r\nQ 22.3125 56 23.171875 54.171875 \r\nQ 24.03125 52.34375 25.734375 50.296875 \r\nz\r\nM 42 15.375 \r\nL 25.875 35.359375 \r\nQ 18.75 31.109375 16.25 27.46875 \r\nQ 13.765625 23.828125 13.765625 20.265625 \r\nQ 13.765625 15.921875 17.234375 11.234375 \r\nQ 20.703125 6.546875 27.046875 6.546875 \r\nQ 31 6.546875 35.21875 9 \r\nQ 39.453125 11.46875 42 15.375 \r\nz\r\n\" id=\"ArialMT-38\"/>\r\n      <path d=\"M 7.328125 0 \r\nL 7.328125 71.578125 \r\nL 16.796875 71.578125 \r\nL 16.796875 8.453125 \r\nL 52.046875 8.453125 \r\nL 52.046875 0 \r\nz\r\n\" id=\"ArialMT-76\"/>\r\n      <path d=\"M 23.390625 -21.046875 \r\nQ 16.109375 -11.859375 11.078125 0.4375 \r\nQ 6.0625 12.75 6.0625 25.921875 \r\nQ 6.0625 37.546875 9.8125 48.1875 \r\nQ 14.203125 60.546875 23.390625 72.796875 \r\nL 29.6875 72.796875 \r\nQ 23.78125 62.640625 21.875 58.296875 \r\nQ 18.890625 51.5625 17.1875 44.234375 \r\nQ 15.09375 35.109375 15.09375 25.875 \r\nQ 15.09375 2.390625 29.6875 -21.046875 \r\nz\r\n\" id=\"ArialMT-40\"/>\r\n      <path d=\"M 6.640625 61.46875 \r\nL 6.640625 71.578125 \r\nL 15.4375 71.578125 \r\nL 15.4375 61.46875 \r\nz\r\nM 6.640625 0 \r\nL 6.640625 51.859375 \r\nL 15.4375 51.859375 \r\nL 15.4375 0 \r\nz\r\n\" id=\"ArialMT-105\"/>\r\n      <path d=\"M 58.796875 25.09375 \r\nL 68.265625 22.703125 \r\nQ 65.28125 11.03125 57.546875 4.90625 \r\nQ 49.8125 -1.21875 38.625 -1.21875 \r\nQ 27.046875 -1.21875 19.796875 3.484375 \r\nQ 12.546875 8.203125 8.765625 17.140625 \r\nQ 4.984375 26.078125 4.984375 36.328125 \r\nQ 4.984375 47.515625 9.25 55.828125 \r\nQ 13.53125 64.15625 21.40625 68.46875 \r\nQ 29.296875 72.796875 38.765625 72.796875 \r\nQ 49.515625 72.796875 56.828125 67.328125 \r\nQ 64.15625 61.859375 67.046875 51.953125 \r\nL 57.71875 49.75 \r\nQ 55.21875 57.5625 50.484375 61.125 \r\nQ 45.75 64.703125 38.578125 64.703125 \r\nQ 30.328125 64.703125 24.78125 60.734375 \r\nQ 19.234375 56.78125 16.984375 50.109375 \r\nQ 14.75 43.453125 14.75 36.375 \r\nQ 14.75 27.25 17.40625 20.4375 \r\nQ 20.0625 13.625 25.671875 10.25 \r\nQ 31.296875 6.890625 37.84375 6.890625 \r\nQ 45.796875 6.890625 51.3125 11.46875 \r\nQ 56.84375 16.0625 58.796875 25.09375 \r\nz\r\n\" id=\"ArialMT-67\"/>\r\n      <path d=\"M 9.078125 0 \r\nL 9.078125 10.015625 \r\nL 19.09375 10.015625 \r\nL 19.09375 0 \r\nz\r\n\" id=\"ArialMT-46\"/>\r\n      <path d=\"M 12.359375 -21.046875 \r\nL 6.0625 -21.046875 \r\nQ 20.65625 2.390625 20.65625 25.875 \r\nQ 20.65625 35.0625 18.5625 44.09375 \r\nQ 16.890625 51.421875 13.921875 58.15625 \r\nQ 12.015625 62.546875 6.0625 72.796875 \r\nL 12.359375 72.796875 \r\nQ 21.53125 60.546875 25.921875 48.1875 \r\nQ 29.6875 37.546875 29.6875 25.921875 \r\nQ 29.6875 12.75 24.625 0.4375 \r\nQ 19.578125 -11.859375 12.359375 -21.046875 \r\nz\r\n\" id=\"ArialMT-41\"/>\r\n     </defs>\r\n     <use xlink:href=\"#ArialMT-86\"/>\r\n     <use x=\"59.324219\" xlink:href=\"#ArialMT-97\"/>\r\n     <use x=\"114.939453\" xlink:href=\"#ArialMT-114\"/>\r\n     <use x=\"148.240234\" xlink:href=\"#ArialMT-32\"/>\r\n     <use x=\"176.023438\" xlink:href=\"#ArialMT-97\"/>\r\n     <use x=\"231.638672\" xlink:href=\"#ArialMT-110\"/>\r\n     <use x=\"287.253906\" xlink:href=\"#ArialMT-100\"/>\r\n     <use x=\"342.869141\" xlink:href=\"#ArialMT-32\"/>\r\n     <use x=\"370.652344\" xlink:href=\"#ArialMT-80\"/>\r\n     <use x=\"437.351562\" xlink:href=\"#ArialMT-38\"/>\r\n     <use x=\"504.050781\" xlink:href=\"#ArialMT-76\"/>\r\n     <use x=\"555.916016\" xlink:href=\"#ArialMT-32\"/>\r\n     <use x=\"583.699219\" xlink:href=\"#ArialMT-40\"/>\r\n     <use x=\"617\" xlink:href=\"#ArialMT-105\"/>\r\n     <use x=\"639.216797\" xlink:href=\"#ArialMT-110\"/>\r\n     <use x=\"694.832031\" xlink:href=\"#ArialMT-32\"/>\r\n     <use x=\"722.615234\" xlink:href=\"#ArialMT-67\"/>\r\n     <use x=\"794.832031\" xlink:href=\"#ArialMT-114\"/>\r\n     <use x=\"822.632812\" xlink:href=\"#ArialMT-46\"/>\r\n     <use x=\"850.416016\" xlink:href=\"#ArialMT-41\"/>\r\n    </g>\r\n   </g>\r\n   <g id=\"legend_1\">\r\n    <g id=\"line2d_37\">\r\n     <path d=\"M 617.829688 34.715312 \r\nL 637.829688 34.715312 \r\n\" style=\"fill:none;stroke:#4c72b0;stroke-linecap:round;stroke-width:1.75;\"/>\r\n    </g>\r\n    <g id=\"line2d_38\"/>\r\n    <g id=\"text_19\">\r\n     <!-- P&amp;L (in Cr.) -->\r\n     <g style=\"fill:#262626;\" transform=\"translate(645.829688 38.215312)scale(0.1 -0.1)\">\r\n      <use xlink:href=\"#ArialMT-80\"/>\r\n      <use x=\"66.699219\" xlink:href=\"#ArialMT-38\"/>\r\n      <use x=\"133.398438\" xlink:href=\"#ArialMT-76\"/>\r\n      <use x=\"185.263672\" xlink:href=\"#ArialMT-32\"/>\r\n      <use x=\"213.046875\" xlink:href=\"#ArialMT-40\"/>\r\n      <use x=\"246.347656\" xlink:href=\"#ArialMT-105\"/>\r\n      <use x=\"268.564453\" xlink:href=\"#ArialMT-110\"/>\r\n      <use x=\"324.179688\" xlink:href=\"#ArialMT-32\"/>\r\n      <use x=\"351.962891\" xlink:href=\"#ArialMT-67\"/>\r\n      <use x=\"424.179688\" xlink:href=\"#ArialMT-114\"/>\r\n      <use x=\"451.980469\" xlink:href=\"#ArialMT-46\"/>\r\n      <use x=\"479.763672\" xlink:href=\"#ArialMT-41\"/>\r\n     </g>\r\n    </g>\r\n    <g id=\"line2d_39\">\r\n     <path d=\"M 617.829688 49.099687 \r\nL 637.829688 49.099687 \r\n\" style=\"fill:none;stroke:#55a868;stroke-linecap:round;stroke-width:1.75;\"/>\r\n    </g>\r\n    <g id=\"line2d_40\"/>\r\n    <g id=\"text_20\">\r\n     <!-- VaR (in Cr.) -->\r\n     <g style=\"fill:#262626;\" transform=\"translate(645.829688 52.599687)scale(0.1 -0.1)\">\r\n      <defs>\r\n       <path d=\"M 7.859375 0 \r\nL 7.859375 71.578125 \r\nL 39.59375 71.578125 \r\nQ 49.171875 71.578125 54.140625 69.640625 \r\nQ 59.125 67.71875 62.109375 62.828125 \r\nQ 65.09375 57.953125 65.09375 52.046875 \r\nQ 65.09375 44.4375 60.15625 39.203125 \r\nQ 55.21875 33.984375 44.921875 32.5625 \r\nQ 48.6875 30.765625 50.640625 29 \r\nQ 54.78125 25.203125 58.5 19.484375 \r\nL 70.953125 0 \r\nL 59.03125 0 \r\nL 49.5625 14.890625 \r\nQ 45.40625 21.34375 42.71875 24.75 \r\nQ 40.046875 28.171875 37.921875 29.53125 \r\nQ 35.796875 30.90625 33.59375 31.453125 \r\nQ 31.984375 31.78125 28.328125 31.78125 \r\nL 17.328125 31.78125 \r\nL 17.328125 0 \r\nz\r\nM 17.328125 39.984375 \r\nL 37.703125 39.984375 \r\nQ 44.1875 39.984375 47.84375 41.328125 \r\nQ 51.515625 42.671875 53.421875 45.625 \r\nQ 55.328125 48.578125 55.328125 52.046875 \r\nQ 55.328125 57.125 51.640625 60.390625 \r\nQ 47.953125 63.671875 39.984375 63.671875 \r\nL 17.328125 63.671875 \r\nz\r\n\" id=\"ArialMT-82\"/>\r\n      </defs>\r\n      <use xlink:href=\"#ArialMT-86\"/>\r\n      <use x=\"59.324219\" xlink:href=\"#ArialMT-97\"/>\r\n      <use x=\"114.939453\" xlink:href=\"#ArialMT-82\"/>\r\n      <use x=\"187.15625\" xlink:href=\"#ArialMT-32\"/>\r\n      <use x=\"214.939453\" xlink:href=\"#ArialMT-40\"/>\r\n      <use x=\"248.240234\" xlink:href=\"#ArialMT-105\"/>\r\n      <use x=\"270.457031\" xlink:href=\"#ArialMT-110\"/>\r\n      <use x=\"326.072266\" xlink:href=\"#ArialMT-32\"/>\r\n      <use x=\"353.855469\" xlink:href=\"#ArialMT-67\"/>\r\n      <use x=\"426.072266\" xlink:href=\"#ArialMT-114\"/>\r\n      <use x=\"453.873047\" xlink:href=\"#ArialMT-46\"/>\r\n      <use x=\"481.65625\" xlink:href=\"#ArialMT-41\"/>\r\n     </g>\r\n    </g>\r\n   </g>\r\n  </g>\r\n </g>\r\n <defs>\r\n  <clipPath id=\"pa27db252d5\">\r\n   <rect height=\"434.88\" width=\"669.6\" x=\"36.723438\" y=\"21.935625\"/>\r\n  </clipPath>\r\n </defs>\r\n</svg>\r\n",
      "image/png": "[encoded data removed]"
     },
     "metadata": {}
    }
   ],
   "source": [
    "# Plotting the VaR and P&L\n",
    "figure, axis = plt.subplots(1, 1, figsize=(12,8))\n",
    "axis.plot(pnl)\n",
    "axis.plot(vars)\n",
    "plt.legend(['P&L (in Cr.)','VaR (in Cr.)'])\n",
    "axis.set_title(\"Var and P&L (in Cr.)\")\n",
    "plt.savefig('varandpnl.png')"
   ]
  },
  {
   "cell_type": "code",
   "execution_count": 30,
   "metadata": {},
   "outputs": [
    {
     "output_type": "execute_result",
     "data": {
      "text/plain": [
       "1.8676290524384005"
      ]
     },
     "metadata": {},
     "execution_count": 30
    }
   ],
   "source": [
    "# Calculate the Z-statistic\n",
    "T = 0 # No of times there is actual loss\n",
    "for x in pnl:\n",
    "    if x<0:\n",
    "        T += 1\n",
    "\n",
    "N = 1 # No of exceptions, notice from the graph that there is only one exception\n",
    "c = 0.99\n",
    "\n",
    "Zcal = (1 - T*(1-c))/np.sqrt(T*(1-c)*c)\n",
    "Zcal"
   ]
  },
  {
   "cell_type": "code",
   "execution_count": 31,
   "metadata": {},
   "outputs": [
    {
     "output_type": "execute_result",
     "data": {
      "text/plain": [
       "0.061813793993941865"
      ]
     },
     "metadata": {},
     "execution_count": 31
    }
   ],
   "source": [
    "import scipy.stats\n",
    "\n",
    "#find p-value for two-tailed test\n",
    "scipy.stats.norm.sf(abs(Zcal))*2"
   ]
  },
  {
   "source": [
    "### The p-value(0.062 > 0.05) is more than $\\alpha$=5% ($\\alpha$ is the significance level). Hence the null hypothesis can not be rejected at 5% significance level. So, the model is correct."
   ],
   "cell_type": "markdown",
   "metadata": {}
  },
  {
   "source": [
    "### C. Kuipers test"
   ],
   "cell_type": "markdown",
   "metadata": {}
  },
  {
   "cell_type": "code",
   "execution_count": 32,
   "metadata": {},
   "outputs": [
    {
     "output_type": "execute_result",
     "data": {
      "text/plain": [
       "1.7368545386394265"
      ]
     },
     "metadata": {},
     "execution_count": 32
    }
   ],
   "source": [
    "Luc = -2*np.log(((1-c)**N)*(c**(T-N))) + 2*np.log(((N/T)**N)*((1-N/T)**(T-N))) # unconditional log likelihood ratio\n",
    "Luc"
   ]
  },
  {
   "source": [
    "### Since Luc is less than the tabulated value(3.841) for alpha=5%, we accept the null hypothesis that the model is correct."
   ],
   "cell_type": "markdown",
   "metadata": {}
  },
  {
   "source": [
    "### So, in the last 2 months the model passes the backtest at 5% significance level. Hence the model is considered to be correct."
   ],
   "cell_type": "markdown",
   "metadata": {}
  },
  {
   "cell_type": "code",
   "execution_count": null,
   "metadata": {},
   "outputs": [],
   "source": []
  }
 ]
}